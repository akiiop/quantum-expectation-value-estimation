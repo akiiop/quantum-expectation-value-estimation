{
 "cells": [
  {
   "cell_type": "code",
   "execution_count": 1,
   "id": "8f550903",
   "metadata": {
    "ExecuteTime": {
     "end_time": "2023-02-27T22:24:49.551676Z",
     "start_time": "2023-02-27T22:24:48.801318Z"
    }
   },
   "outputs": [],
   "source": [
    "import sys\n",
    "sys.path.append(\"./expectation_value\")\n",
    "\n",
    "from expectationvalue import ExpVal\n",
    "import numpy as np\n",
    "import qiskit.quantum_info as qif\n",
    "from qiskit_nature.second_q.mappers import JordanWignerMapper, QubitConverter"
   ]
  },
  {
   "cell_type": "code",
   "execution_count": 2,
   "id": "a16ca17d",
   "metadata": {
    "ExecuteTime": {
     "end_time": "2023-02-27T22:24:50.053864Z",
     "start_time": "2023-02-27T22:24:49.554704Z"
    },
    "code_folding": [
     7
    ]
   },
   "outputs": [],
   "source": [
    "from qiskit_nature.second_q.transformers import FreezeCoreTransformer\n",
    "from qiskit.algorithms.minimum_eigensolvers import NumPyMinimumEigensolver\n",
    "from qiskit_nature.second_q.algorithms import GroundStateEigensolver\n",
    "from qiskit_nature.units import DistanceUnit\n",
    "from qiskit_nature.second_q.drivers import PySCFDriver\n",
    "\n",
    "\n",
    "class MoleculeHamiltonian():\n",
    "    \"\"\"\n",
    "    Filler\n",
    "\n",
    "    \"\"\"\n",
    "    \n",
    "    def __init__(self,\n",
    "                 molecule,\n",
    "                 converter,\n",
    "                 basis = 'sto3g',\n",
    "                ):\n",
    "        \"\"\"\n",
    "\n",
    "        Parameters\n",
    "        ----------\n",
    "        molecule : string.\n",
    "            \n",
    "        converter : QubitConverter.\n",
    "            \n",
    "        basis : string.\n",
    "            \n",
    "\n",
    "        \"\"\"\n",
    "        \n",
    "        self.molecule = molecule\n",
    "        self.basis = basis\n",
    "        driver = PySCFDriver(\n",
    "            atom= self.molecule,\n",
    "            basis=self.basis,\n",
    "            charge=0,\n",
    "            spin=0,\n",
    "            unit=DistanceUnit.ANGSTROM,\n",
    "            )                                  # Define the PySCFDriver for a given molecule\n",
    "        \n",
    "        self.driver = driver\n",
    "        self.problem = driver.run()            # Define the ElectronicStructureProblem from the driver\n",
    "        self.converter = converter\n",
    "        \n",
    "    def Hamiltonian(self,\n",
    "                    freeze_core = False,\n",
    "                    remove_orbitals = None):\n",
    "        \n",
    "        \n",
    "        \"\"\"\n",
    "        Filler\n",
    "\n",
    "\n",
    "        Parameters\n",
    "        ----------\n",
    "        freeze_core : bool.\n",
    "            \n",
    "        remove_orbitals : List, optional.\n",
    "            \n",
    "            \n",
    "        Returns\n",
    "        -------\n",
    "        qubit_op : PauliSumOp.\n",
    "            \n",
    "        \"\"\"\n",
    "        problem = self.problem\n",
    "        fermionic_op = self.problem.hamiltonian.second_q_op()\n",
    "            \n",
    "        if freeze_core:\n",
    "            fc_transformer = FreezeCoreTransformer(freeze_core=freeze_core, remove_orbitals=remove_orbitals)\n",
    "            problem = fc_transformer.transform(problem)\n",
    "            fermionic_op = problem.hamiltonian.second_q_op()\n",
    "            \n",
    "        qubit_op = self.converter.convert(fermionic_op,\n",
    "                                           sector_locator=problem.symmetry_sector_locator)\n",
    "        return qubit_op\n",
    "    \n",
    "    def ComputeGroundState(self , circuit = True):\n",
    "        \n",
    "        \"\"\"\n",
    "        Filler.\n",
    "\n",
    "\n",
    "        Parameters\n",
    "        ----------\n",
    "        circuit : bool.\n",
    "            \n",
    "\n",
    "\n",
    "        Returns\n",
    "        -------\n",
    "        state : QuantumCircuit or array(2**num_qubits)\n",
    "            \n",
    "        eigenvalue : float.\n",
    "            \n",
    "        \"\"\"\n",
    "        solver = NumPyMinimumEigensolver()\n",
    "        \n",
    "        ground_solver = GroundStateEigensolver(self.converter, solver)\n",
    "        ground_state = ground_solver.solve(self.problem)\n",
    "        \n",
    "        state = ground_state.groundstate[0]\n",
    "        eigenvalue = ground_state.groundenergy\n",
    "        \n",
    "        if circuit:\n",
    "            return state, eigenvalue\n",
    "        else:\n",
    "            return qif.Statevector(state).data, eigenvalue"
   ]
  },
  {
   "cell_type": "code",
   "execution_count": 3,
   "id": "c68efc39",
   "metadata": {
    "ExecuteTime": {
     "end_time": "2023-02-27T22:24:50.064589Z",
     "start_time": "2023-02-27T22:24:50.056263Z"
    },
    "code_folding": [
     0,
     33
    ]
   },
   "outputs": [],
   "source": [
    "def get_number_nbody_terms(hamiltonian):\n",
    "    \"\"\"\n",
    "    Gets the needed data of the hamiltonian to compute the expectation values using ExpVal.exp_val().\n",
    "\n",
    "\n",
    "    Parameters\n",
    "    ----------\n",
    "    hamiltonian : PauliSumOp.\n",
    "        Hamiltonian.\n",
    "\n",
    "\n",
    "    Returns\n",
    "    -------\n",
    "    bodies : list.\n",
    "        N-bodies interactions.\n",
    "    \"\"\"\n",
    "    \n",
    "    n_bodies_inter = []\n",
    "    \n",
    "    for i in range(len(hamiltonian)):\n",
    "        pauli_string = hamiltonian[i].to_pauli_op().primitive.to_label()\n",
    "        num_x = pauli_string.count('X')\n",
    "        num_y = pauli_string.count('Y')\n",
    "        \n",
    "        n_body_terms = num_x+num_y\n",
    "        \n",
    "        n_bodies_inter.append(n_body_terms)\n",
    "    \n",
    "    bodies = list(set(n_bodies_inter))\n",
    "    \n",
    "    return bodies\n",
    "\n",
    "\n",
    "def get_obs_data(hamiltonian):\n",
    "    \"\"\"\n",
    "    Gets the needed data of the hamiltonian to compute the expectation values using ExpVal.exp_val().\n",
    "\n",
    "\n",
    "    Parameters\n",
    "    ----------\n",
    "    hamiltonian : PauliSumOp.\n",
    "        Hamiltonian.\n",
    "\n",
    "\n",
    "    Returns\n",
    "    -------\n",
    "    coeffs : array(num_paulis).\n",
    "        Coefficients of each pauli string of the hamiltonian.\n",
    "    obs : array(2, 2, n_qubits, num_paulis)\n",
    "        Observable made of every pauli string of the hamiltonian.\n",
    "    \"\"\"\n",
    "    \n",
    "    num_paulis = len(hamiltonian)\n",
    "    n_qubits = hamiltonian.num_qubits\n",
    "\n",
    "    paulis_dict = {'X': np.array([[0., 1.], [1., 0.]], dtype=\"complex\"),\n",
    "               'Y': np.array([[0., -1.*1j], [1.*1j, 0.]], dtype=\"complex\"),\n",
    "               'Z': np.array([[1., 0], [0, -1.]], dtype=\"complex\"),\n",
    "               'I': np.array([[1., 0], [0, 1.]], dtype=\"complex\")}\n",
    "\n",
    "    obs = np.zeros((2, 2, n_qubits, num_paulis), dtype=complex)\n",
    "    coeffs = np.zeros(num_paulis, dtype=complex)\n",
    "\n",
    "    for i in range(num_paulis):\n",
    "        pauli_string_coeff = hamiltonian[i].coeffs[0]\n",
    "        pauli_string = hamiltonian[i].to_pauli_op().primitive.to_label()\n",
    "        pauli_string_list = [paulis_dict[i] for i in pauli_string]\n",
    "        obs[:,:,:,i] =  np.stack(pauli_string_list, axis=-1)\n",
    "        coeffs[i] = pauli_string_coeff\n",
    "    \n",
    "    return coeffs, obs"
   ]
  },
  {
   "cell_type": "code",
   "execution_count": 4,
   "id": "d412bf4a",
   "metadata": {
    "ExecuteTime": {
     "end_time": "2023-02-27T22:24:50.080373Z",
     "start_time": "2023-02-27T22:24:50.067260Z"
    }
   },
   "outputs": [],
   "source": [
    "#########################################################################################################"
   ]
  },
  {
   "cell_type": "code",
   "execution_count": 5,
   "id": "2da751a0",
   "metadata": {
    "ExecuteTime": {
     "end_time": "2023-02-27T22:24:50.096161Z",
     "start_time": "2023-02-27T22:24:50.082219Z"
    }
   },
   "outputs": [],
   "source": [
    "dist = 1.0\n",
    "molecules = {\n",
    "    \"BeH2\": \"Be .0 .0 .0; H .0 .0 -\" + str(dist) + \"; H .0 .0 \" + str(dist),\n",
    "    \"H2\":\"H .0 .0 .0; H .0 .0 \" + str(dist),\n",
    "    \"LiH\":\"Li .0 .0 .0; H .0 .0 \" + str(dist),\n",
    "    \"H2O\": \"H -0.0399 -0.0038 0.0; O 1.5780 0.8540 0.0; H 2.7909 -0.5159 0.0\",\n",
    "    \"NH4\": \"N 0.0 0.0 0.149; H 0.0 0.947 -0.348; H  0.821 -0.474 -0.348; H -0.821 -0.474 -0.348\"\n",
    "}"
   ]
  },
  {
   "cell_type": "code",
   "execution_count": 6,
   "id": "a27e4b6b",
   "metadata": {
    "ExecuteTime": {
     "end_time": "2023-02-27T22:24:50.103461Z",
     "start_time": "2023-02-27T22:24:50.098059Z"
    }
   },
   "outputs": [],
   "source": [
    "# mol = 'H2'\n",
    "# mol = 'LiH'\n",
    "# mol = 'BeH2'\n",
    "mol = \"H2O\"\n",
    "# mol = \"NH4\""
   ]
  },
  {
   "cell_type": "code",
   "execution_count": 7,
   "id": "50a763eb",
   "metadata": {
    "ExecuteTime": {
     "end_time": "2023-02-27T22:24:52.677365Z",
     "start_time": "2023-02-27T22:24:50.105320Z"
    }
   },
   "outputs": [],
   "source": [
    "converter = QubitConverter( JordanWignerMapper(), z2symmetry_reduction=None)\n",
    "molecular_hamiltonian = MoleculeHamiltonian(molecules[mol] , converter=converter, basis='sto3g')\n",
    "hamiltonian = molecular_hamiltonian.Hamiltonian( freeze_core = False )\n",
    "\n",
    "driver = molecular_hamiltonian.driver\n",
    "problem = molecular_hamiltonian.problem\n",
    "n_qubits = hamiltonian.num_qubits\n",
    "\n",
    "bodies = get_number_nbody_terms(hamiltonian)"
   ]
  },
  {
   "cell_type": "code",
   "execution_count": 8,
   "id": "fb428a61",
   "metadata": {
    "ExecuteTime": {
     "end_time": "2023-02-27T22:25:34.686496Z",
     "start_time": "2023-02-27T22:24:52.679963Z"
    },
    "scrolled": true
   },
   "outputs": [
    {
     "data": {
      "text/plain": [
       "-79.59454251461285"
      ]
     },
     "execution_count": 8,
     "metadata": {},
     "output_type": "execute_result"
    }
   ],
   "source": [
    "circ_gs, eig_gs = molecular_hamiltonian.ComputeGroundState()\n",
    "eig_gs"
   ]
  },
  {
   "cell_type": "code",
   "execution_count": 9,
   "id": "a77f9fba",
   "metadata": {
    "ExecuteTime": {
     "end_time": "2023-02-27T22:25:34.691053Z",
     "start_time": "2023-02-27T22:25:34.688246Z"
    }
   },
   "outputs": [],
   "source": [
    "total_shots = 100000\n",
    "r = 40"
   ]
  },
  {
   "cell_type": "code",
   "execution_count": 10,
   "id": "7bb9b221",
   "metadata": {
    "ExecuteTime": {
     "end_time": "2023-02-27T22:25:34.704264Z",
     "start_time": "2023-02-27T22:25:34.693854Z"
    }
   },
   "outputs": [],
   "source": [
    "# algorithm = ExpVal(n_shots = total_shots-1000,\n",
    "#         bodies = bodies, \n",
    "#         r = 40, \n",
    "#         r_shots = 1000,\n",
    "#         n_qubits = n_qubits)\n",
    "\n",
    "# algorithm.get_interferences(circ_gs)\n",
    "\n",
    "# coeffs, obs = get_obs_data(hamiltonian)\n",
    "\n",
    "# exp_val = algorithm.exp_val(obs)\n",
    "\n",
    "\n",
    "# results = np.sum(exp_val*coeffs).real"
   ]
  },
  {
   "cell_type": "code",
   "execution_count": 11,
   "id": "dc550cc5",
   "metadata": {
    "ExecuteTime": {
     "end_time": "2023-02-27T22:32:24.222765Z",
     "start_time": "2023-02-27T22:25:34.705780Z"
    }
   },
   "outputs": [
    {
     "name": "stderr",
     "output_type": "stream",
     "text": [
      "  5%|██▏                                         | 1/20 [00:16<05:17, 16.71s/it]"
     ]
    },
    {
     "name": "stdout",
     "output_type": "stream",
     "text": [
      "Exp val calculado:  -79.58656500821102\n"
     ]
    },
    {
     "name": "stderr",
     "output_type": "stream",
     "text": [
      "\r",
      " 10%|████▍                                       | 2/20 [00:34<05:11, 17.30s/it]"
     ]
    },
    {
     "name": "stdout",
     "output_type": "stream",
     "text": [
      "Exp val calculado:  -79.59550052679799\n"
     ]
    },
    {
     "name": "stderr",
     "output_type": "stream",
     "text": [
      "\r",
      " 15%|██████▌                                     | 3/20 [00:59<05:53, 20.81s/it]"
     ]
    },
    {
     "name": "stdout",
     "output_type": "stream",
     "text": [
      "Exp val calculado:  -79.59014004210913\n"
     ]
    },
    {
     "name": "stderr",
     "output_type": "stream",
     "text": [
      "\r",
      " 20%|████████▊                                   | 4/20 [01:18<05:24, 20.31s/it]"
     ]
    },
    {
     "name": "stdout",
     "output_type": "stream",
     "text": [
      "Exp val calculado:  -79.57428828682386\n"
     ]
    },
    {
     "name": "stderr",
     "output_type": "stream",
     "text": [
      "\r",
      " 25%|███████████                                 | 5/20 [01:38<05:01, 20.08s/it]"
     ]
    },
    {
     "name": "stdout",
     "output_type": "stream",
     "text": [
      "Exp val calculado:  -79.58989778537138\n"
     ]
    },
    {
     "name": "stderr",
     "output_type": "stream",
     "text": [
      "\r",
      " 30%|█████████████▏                              | 6/20 [01:55<04:24, 18.92s/it]"
     ]
    },
    {
     "name": "stdout",
     "output_type": "stream",
     "text": [
      "Exp val calculado:  -79.59723955726714\n"
     ]
    },
    {
     "name": "stderr",
     "output_type": "stream",
     "text": [
      "\r",
      " 35%|███████████████▍                            | 7/20 [02:11<03:54, 18.08s/it]"
     ]
    },
    {
     "name": "stdout",
     "output_type": "stream",
     "text": [
      "Exp val calculado:  -79.58774016817034\n"
     ]
    },
    {
     "name": "stderr",
     "output_type": "stream",
     "text": [
      "\r",
      " 40%|█████████████████▌                          | 8/20 [02:31<03:43, 18.63s/it]"
     ]
    },
    {
     "name": "stdout",
     "output_type": "stream",
     "text": [
      "Exp val calculado:  -79.58685302189429\n"
     ]
    },
    {
     "name": "stderr",
     "output_type": "stream",
     "text": [
      "\r",
      " 45%|███████████████████▊                        | 9/20 [02:54<03:39, 19.96s/it]"
     ]
    },
    {
     "name": "stdout",
     "output_type": "stream",
     "text": [
      "Exp val calculado:  -79.5960041160702\n"
     ]
    },
    {
     "name": "stderr",
     "output_type": "stream",
     "text": [
      "\r",
      " 50%|█████████████████████▌                     | 10/20 [03:21<03:40, 22.09s/it]"
     ]
    },
    {
     "name": "stdout",
     "output_type": "stream",
     "text": [
      "Exp val calculado:  -79.59202737592926\n"
     ]
    },
    {
     "name": "stderr",
     "output_type": "stream",
     "text": [
      "\r",
      " 55%|███████████████████████▋                   | 11/20 [03:42<03:15, 21.73s/it]"
     ]
    },
    {
     "name": "stdout",
     "output_type": "stream",
     "text": [
      "Exp val calculado:  -79.57288001387367\n"
     ]
    },
    {
     "name": "stderr",
     "output_type": "stream",
     "text": [
      "\r",
      " 60%|█████████████████████████▊                 | 12/20 [04:01<02:47, 20.97s/it]"
     ]
    },
    {
     "name": "stdout",
     "output_type": "stream",
     "text": [
      "Exp val calculado:  -79.56750425224051\n"
     ]
    },
    {
     "name": "stderr",
     "output_type": "stream",
     "text": [
      "\r",
      " 65%|███████████████████████████▉               | 13/20 [04:20<02:22, 20.32s/it]"
     ]
    },
    {
     "name": "stdout",
     "output_type": "stream",
     "text": [
      "Exp val calculado:  -79.60449369146194\n"
     ]
    },
    {
     "name": "stderr",
     "output_type": "stream",
     "text": [
      "\r",
      " 70%|██████████████████████████████             | 14/20 [04:41<02:04, 20.76s/it]"
     ]
    },
    {
     "name": "stdout",
     "output_type": "stream",
     "text": [
      "Exp val calculado:  -79.58130774759205\n"
     ]
    },
    {
     "name": "stderr",
     "output_type": "stream",
     "text": [
      "\r",
      " 75%|████████████████████████████████▎          | 15/20 [05:11<01:56, 23.32s/it]"
     ]
    },
    {
     "name": "stdout",
     "output_type": "stream",
     "text": [
      "Exp val calculado:  -79.60194016591939\n"
     ]
    },
    {
     "name": "stderr",
     "output_type": "stream",
     "text": [
      "\r",
      " 80%|██████████████████████████████████▍        | 16/20 [05:25<01:22, 20.60s/it]"
     ]
    },
    {
     "name": "stdout",
     "output_type": "stream",
     "text": [
      "Exp val calculado:  -79.57012839887047\n"
     ]
    },
    {
     "name": "stderr",
     "output_type": "stream",
     "text": [
      "\r",
      " 85%|████████████████████████████████████▌      | 17/20 [05:47<01:03, 21.01s/it]"
     ]
    },
    {
     "name": "stdout",
     "output_type": "stream",
     "text": [
      "Exp val calculado:  -79.58338064938596\n"
     ]
    },
    {
     "name": "stderr",
     "output_type": "stream",
     "text": [
      "\r",
      " 90%|██████████████████████████████████████▋    | 18/20 [06:07<00:41, 20.66s/it]"
     ]
    },
    {
     "name": "stdout",
     "output_type": "stream",
     "text": [
      "Exp val calculado:  -79.59730961969048\n"
     ]
    },
    {
     "name": "stderr",
     "output_type": "stream",
     "text": [
      "\r",
      " 95%|████████████████████████████████████████▊  | 19/20 [06:23<00:19, 19.36s/it]"
     ]
    },
    {
     "name": "stdout",
     "output_type": "stream",
     "text": [
      "Exp val calculado:  -79.5920938755007\n"
     ]
    },
    {
     "name": "stderr",
     "output_type": "stream",
     "text": [
      "100%|███████████████████████████████████████████| 20/20 [06:49<00:00, 20.47s/it]"
     ]
    },
    {
     "name": "stdout",
     "output_type": "stream",
     "text": [
      "Exp val calculado:  -79.59674680243957\n"
     ]
    },
    {
     "name": "stderr",
     "output_type": "stream",
     "text": [
      "\n"
     ]
    }
   ],
   "source": [
    "results = []\n",
    "\n",
    "from tqdm import tqdm\n",
    "\n",
    "for i in tqdm(range(20)):\n",
    "    algorithm = ExpVal(n_shots = total_shots-1000,\n",
    "            bodies = bodies, \n",
    "            r = r, \n",
    "            r_shots = 1000,\n",
    "            n_qubits = n_qubits)\n",
    "\n",
    "    algorithm.get_interferences(circ_gs)\n",
    "\n",
    "    coeffs, obs = get_obs_data(hamiltonian)\n",
    "\n",
    "    exp_val = algorithm.exp_val(obs)\n",
    "\n",
    "    # print('Exp val calculado: ', np.sum(exp_val*coeffs).real)\n",
    "    results.append(np.sum(exp_val*coeffs).real)"
   ]
  },
  {
   "cell_type": "code",
   "execution_count": 12,
   "id": "fb11bcac",
   "metadata": {
    "ExecuteTime": {
     "end_time": "2023-02-27T22:32:24.229087Z",
     "start_time": "2023-02-27T22:32:24.225019Z"
    }
   },
   "outputs": [
    {
     "name": "stdout",
     "output_type": "stream",
     "text": [
      "[0.00797751 0.00095801 0.00440247 0.02025423 0.00464473 0.00269704\n",
      " 0.00680235 0.00768949 0.0014616  0.00251514 0.0216625  0.02703826\n",
      " 0.00995118 0.01323477 0.00739765 0.02441412 0.01116187 0.00276711\n",
      " 0.00244864 0.00220429]\n",
      "0.009084147067560621\n"
     ]
    }
   ],
   "source": [
    "print(np.abs(results-eig_gs))\n",
    "\n",
    "print(np.mean(np.abs(results-eig_gs)))"
   ]
  },
  {
   "cell_type": "code",
   "execution_count": 13,
   "id": "e4e2d926",
   "metadata": {
    "ExecuteTime": {
     "end_time": "2023-02-27T22:32:24.242709Z",
     "start_time": "2023-02-27T22:32:24.230984Z"
    }
   },
   "outputs": [],
   "source": [
    "num_paulis = len(hamiltonian)\n",
    "shots_runtime = total_shots//num_paulis\n",
    "# shots_opflow = total_shots//num_paulis"
   ]
  },
  {
   "cell_type": "code",
   "execution_count": 14,
   "id": "4954632b",
   "metadata": {
    "ExecuteTime": {
     "end_time": "2023-02-27T22:32:32.495267Z",
     "start_time": "2023-02-27T22:32:24.244691Z"
    }
   },
   "outputs": [],
   "source": [
    "from qiskit_ibm_runtime import QiskitRuntimeService, Estimator, Session, Options\n",
    "\n",
    "#QiskitRuntimeService.save_account(channel=\"ibm_quantum\", token=\"1a92dbd3ad8a3a75036e3b0fed7d2a10a0dfef2277960a619c033757aa1aa9bcc8f95922671a2fbd0b05339eea4aae6305bc43b5b2e6d33b161346f9983adf48\")\n",
    "service = QiskitRuntimeService(channel=\"ibm_quantum\")\n",
    "\n",
    "options = Options()\n",
    "options.optimization_level = 1\n",
    "options.resilience_level = 0\n",
    "options.execution.shots = shots_runtime\n",
    "\n",
    "# with Session(service=service, backend=\"ibmq_qasm_simulator\") as session:\n",
    "#     estimator = Estimator(session=session, options = options)\n",
    "\n",
    "#     job = estimator.run(circ_gs, hamiltonian)\n",
    "\n",
    "#     result = job.result()\n",
    "\n",
    "# result_runtime = result.values[0]\n",
    "# np.abs(result_runtime-eig_gs)"
   ]
  },
  {
   "cell_type": "code",
   "execution_count": 15,
   "id": "84246ac5",
   "metadata": {
    "ExecuteTime": {
     "end_time": "2023-02-27T22:39:19.650085Z",
     "start_time": "2023-02-27T22:32:32.499322Z"
    }
   },
   "outputs": [
    {
     "name": "stderr",
     "output_type": "stream",
     "text": [
      "100%|███████████████████████████████████████████| 20/20 [06:47<00:00, 20.36s/it]\n"
     ]
    }
   ],
   "source": [
    "results_runtime = []\n",
    "\n",
    "for i in tqdm(range(20)):\n",
    "\n",
    "\n",
    "    with Session(service=service, backend=\"ibmq_qasm_simulator\") as session:\n",
    "        estimator = Estimator(session=session, options = options)\n",
    "\n",
    "        job = estimator.run(circ_gs, hamiltonian)\n",
    "\n",
    "        result = job.result()\n",
    "\n",
    "    result_runtime = result.values[0]\n",
    "    \n",
    "    results_runtime.append(result_runtime)"
   ]
  },
  {
   "cell_type": "code",
   "execution_count": 16,
   "id": "38e90e45",
   "metadata": {
    "ExecuteTime": {
     "end_time": "2023-02-27T22:39:19.660973Z",
     "start_time": "2023-02-27T22:39:19.653885Z"
    }
   },
   "outputs": [
    {
     "name": "stdout",
     "output_type": "stream",
     "text": [
      "[2.47009783e-01 1.52585621e-02 1.05789984e-01 3.15818306e-01\n",
      " 1.75764024e-01 1.98398493e-05 6.16262380e-03 1.60827981e-01\n",
      " 1.31260116e-01 3.77499885e-02 6.76411259e-02 1.56409133e-01\n",
      " 4.05878066e-02 1.44858320e-01 3.44311800e-01 7.24070763e-02\n",
      " 6.28773565e-02 4.13613509e-01 3.92615325e-01 1.29691666e-01]\n",
      "0.1510337163644273\n"
     ]
    }
   ],
   "source": [
    "print(np.abs(results_runtime-eig_gs))\n",
    "\n",
    "print(np.mean(np.abs(results_runtime-eig_gs)))"
   ]
  },
  {
   "cell_type": "code",
   "execution_count": 17,
   "id": "4e0b33bc",
   "metadata": {
    "ExecuteTime": {
     "end_time": "2023-02-27T22:39:19.675737Z",
     "start_time": "2023-02-27T22:39:19.664627Z"
    }
   },
   "outputs": [],
   "source": [
    "# from qiskit.opflow import PauliExpectation, CircuitSampler, StateFn, CircuitStateFn\n",
    "# from qiskit import Aer\n",
    "# from qiskit.utils import QuantumInstance\n",
    "\n",
    "# backend = Aer.get_backend(\"aer_simulator\")\n",
    "# quantum_instance = QuantumInstance(backend, shots=shots_opflow)\n",
    "\n",
    "# op = hamiltonian\n",
    "# psi = CircuitStateFn(circ_gs)\n",
    "\n",
    "# measurable_expression = StateFn(op, is_measurement=True).compose(psi)\n",
    "# expectation = PauliExpectation().convert(measurable_expression)  \n",
    "# sampler = CircuitSampler(quantum_instance).convert(expectation)\n",
    "\n",
    "# result_opflow = sampler.eval().real\n",
    "# np.abs(result_opflow-eig_gs)"
   ]
  }
 ],
 "metadata": {
  "hide_input": false,
  "kernelspec": {
   "display_name": "Python 3 (ipykernel)",
   "language": "python",
   "name": "python3"
  },
  "language_info": {
   "codemirror_mode": {
    "name": "ipython",
    "version": 3
   },
   "file_extension": ".py",
   "mimetype": "text/x-python",
   "name": "python",
   "nbconvert_exporter": "python",
   "pygments_lexer": "ipython3",
   "version": "3.9.16"
  }
 },
 "nbformat": 4,
 "nbformat_minor": 5
}
