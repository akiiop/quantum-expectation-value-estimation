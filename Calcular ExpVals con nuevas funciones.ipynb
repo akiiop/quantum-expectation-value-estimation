{
 "cells": [
  {
   "cell_type": "code",
   "execution_count": 1,
   "id": "4f66c050",
   "metadata": {
    "ExecuteTime": {
     "end_time": "2023-02-28T15:40:28.578349Z",
     "start_time": "2023-02-28T15:40:27.307160Z"
    }
   },
   "outputs": [],
   "source": [
    "import sys\n",
    "sys.path.append(\"./expectation_value\")\n",
    "sys.path.append(\"./utils_hamiltonian\")\n",
    "\n",
    "from expectationvalue import ExpVal\n",
    "from utils_hamiltonian import MoleculeHamiltonian, get_number_nbody_terms, get_obs_data\n",
    "from qiskit_nature.second_q.mappers import JordanWignerMapper, QubitConverter\n",
    "import qiskit.quantum_info as qif\n",
    "\n",
    "import numpy as np\n",
    "import h5py"
   ]
  },
  {
   "cell_type": "code",
   "execution_count": 3,
   "id": "010c3a5d",
   "metadata": {
    "ExecuteTime": {
     "end_time": "2023-02-28T15:40:30.097133Z",
     "start_time": "2023-02-28T15:40:30.090190Z"
    }
   },
   "outputs": [],
   "source": [
    "molecules = {\n",
    "    \"H2\":\"H .0 .0 .0; H .0 .0 0.735\",\n",
    "    \"LiH\":\"Li .0 .0 .0; H .0 .0 1.548\",\n",
    "    \"BeH2\": \"Be .0 .0 .0; H .0 .0 -1.7; H .0 .0 1.7\",\n",
    "    \"H2O\": \"H -0.0399 -0.0038 0.0; O 1.5780 0.8540 0.0; H 2.7909 -0.5159 0.0\",\n",
    "    \"NH3\": \"N 0.0 0.0 0.149; H 0.0 0.947 -0.348; H  0.821 -0.474 -0.348; H -0.821 -0.474 -0.348\"\n",
    "}\n",
    "\n",
    "mol = 'H2'\n",
    "# mol = 'LiH'\n",
    "# mol = 'BeH2'\n",
    "# mol = \"H2O\"\n",
    "# mol = \"NH3\""
   ]
  },
  {
   "cell_type": "code",
   "execution_count": 6,
   "id": "c7fd170a",
   "metadata": {
    "ExecuteTime": {
     "end_time": "2023-02-28T15:41:06.235065Z",
     "start_time": "2023-02-28T15:41:03.321620Z"
    }
   },
   "outputs": [],
   "source": [
    "converter = QubitConverter( JordanWignerMapper(), z2symmetry_reduction=None)\n",
    "molecular_hamiltonian = MoleculeHamiltonian(molecules[mol] , converter=converter, basis='sto3g')\n",
    "hamiltonian = molecular_hamiltonian.Hamiltonian( freeze_core = False )\n",
    "\n",
    "driver = molecular_hamiltonian.driver\n",
    "problem = molecular_hamiltonian.problem\n",
    "n_qubits = hamiltonian.num_qubits\n",
    "\n",
    "bodies = get_number_nbody_terms(hamiltonian)"
   ]
  },
  {
   "cell_type": "code",
   "execution_count": 8,
   "id": "60e37c56",
   "metadata": {
    "ExecuteTime": {
     "end_time": "2023-02-28T00:32:51.611549Z",
     "start_time": "2023-02-28T00:32:07.259795Z"
    },
    "scrolled": true
   },
   "outputs": [
    {
     "data": {
      "text/plain": [
       "-79.59454251461337"
      ]
     },
     "execution_count": 8,
     "metadata": {},
     "output_type": "execute_result"
    }
   ],
   "source": [
    "circ_gs, eig_gs = molecular_hamiltonian.ComputeGroundState()\n",
    "\n",
    "print(\"Exact Ground State Energy: \", eig_gs)"
   ]
  },
  {
   "cell_type": "code",
   "execution_count": null,
   "id": "5c9b33cb",
   "metadata": {},
   "outputs": [],
   "source": [
    "# Load simulated parameters\n",
    "\n",
    "# params_sim = h5py.File('data/params_2qubits.hdf5', 'r')\n",
    "# lambda_k_t = params_sim[\"params\"][:]\n"
   ]
  },
  {
   "cell_type": "code",
   "execution_count": 9,
   "id": "7b66c059",
   "metadata": {
    "ExecuteTime": {
     "end_time": "2023-02-28T00:32:51.616676Z",
     "start_time": "2023-02-28T00:32:51.613704Z"
    }
   },
   "outputs": [],
   "source": [
    "total_shots = 6000000\n",
    "r = 30\n",
    "reps = 100"
   ]
  },
  {
   "cell_type": "code",
   "execution_count": 10,
   "id": "725a161f",
   "metadata": {
    "ExecuteTime": {
     "end_time": "2023-02-28T00:32:51.635091Z",
     "start_time": "2023-02-28T00:32:51.620168Z"
    }
   },
   "outputs": [],
   "source": [
    "# algorithm = ExpVal(n_shots = total_shots-1000,\n",
    "#         bodies = bodies, \n",
    "#         r = r, \n",
    "#         r_shots = 1000,\n",
    "#         n_qubits = n_qubits)\n",
    "\n",
    "# algorithm.get_interferences(circ_gs)\n",
    "\n",
    "# coeffs, obs = get_obs_data(hamiltonian)\n",
    "\n",
    "# exp_val = algorithm.exp_val(obs)\n",
    "\n",
    "\n",
    "# results = np.sum(exp_val*coeffs).real"
   ]
  },
  {
   "cell_type": "code",
   "execution_count": 11,
   "id": "5d921e8b",
   "metadata": {
    "ExecuteTime": {
     "end_time": "2023-02-28T02:53:49.424653Z",
     "start_time": "2023-02-28T00:32:51.636603Z"
    }
   },
   "outputs": [
    {
     "name": "stderr",
     "output_type": "stream",
     "text": [
      "  1%|▍                                        | 1/100 [01:25<2:20:29, 85.15s/it]"
     ]
    },
    {
     "name": "stdout",
     "output_type": "stream",
     "text": [
      "Exp val calculado:  -79.67949963037745\n"
     ]
    },
    {
     "name": "stderr",
     "output_type": "stream",
     "text": [
      "\r",
      "  2%|▊                                        | 2/100 [02:50<2:18:53, 85.03s/it]"
     ]
    },
    {
     "name": "stdout",
     "output_type": "stream",
     "text": [
      "Exp val calculado:  -79.67901958151805\n"
     ]
    },
    {
     "name": "stderr",
     "output_type": "stream",
     "text": [
      "\r",
      "  3%|█▏                                       | 3/100 [04:14<2:17:20, 84.95s/it]"
     ]
    },
    {
     "name": "stdout",
     "output_type": "stream",
     "text": [
      "Exp val calculado:  -79.68063797845699\n"
     ]
    },
    {
     "name": "stderr",
     "output_type": "stream",
     "text": [
      "\r",
      "  4%|█▋                                       | 4/100 [05:40<2:16:36, 85.38s/it]"
     ]
    },
    {
     "name": "stdout",
     "output_type": "stream",
     "text": [
      "Exp val calculado:  -79.67776921489235\n"
     ]
    },
    {
     "name": "stderr",
     "output_type": "stream",
     "text": [
      "\r",
      "  5%|██                                       | 5/100 [07:06<2:15:01, 85.28s/it]"
     ]
    },
    {
     "name": "stdout",
     "output_type": "stream",
     "text": [
      "Exp val calculado:  -79.67972934377785\n"
     ]
    },
    {
     "name": "stderr",
     "output_type": "stream",
     "text": [
      "\r",
      "  6%|██▍                                      | 6/100 [08:30<2:13:04, 84.94s/it]"
     ]
    },
    {
     "name": "stdout",
     "output_type": "stream",
     "text": [
      "Exp val calculado:  -79.67927817264278\n"
     ]
    },
    {
     "name": "stderr",
     "output_type": "stream",
     "text": [
      "\r",
      "  7%|██▊                                      | 7/100 [09:55<2:11:41, 84.96s/it]"
     ]
    },
    {
     "name": "stdout",
     "output_type": "stream",
     "text": [
      "Exp val calculado:  -79.6795829447321\n"
     ]
    },
    {
     "name": "stderr",
     "output_type": "stream",
     "text": [
      "\r",
      "  8%|███▎                                     | 8/100 [11:20<2:10:25, 85.06s/it]"
     ]
    },
    {
     "name": "stdout",
     "output_type": "stream",
     "text": [
      "Exp val calculado:  -79.68042244908632\n"
     ]
    },
    {
     "name": "stderr",
     "output_type": "stream",
     "text": [
      "\r",
      "  9%|███▋                                     | 9/100 [12:45<2:09:01, 85.07s/it]"
     ]
    },
    {
     "name": "stdout",
     "output_type": "stream",
     "text": [
      "Exp val calculado:  -79.6798479351499\n"
     ]
    },
    {
     "name": "stderr",
     "output_type": "stream",
     "text": [
      "\r",
      " 10%|████                                    | 10/100 [14:10<2:07:26, 84.96s/it]"
     ]
    },
    {
     "name": "stdout",
     "output_type": "stream",
     "text": [
      "Exp val calculado:  -79.68025655695529\n"
     ]
    },
    {
     "name": "stderr",
     "output_type": "stream",
     "text": [
      "\r",
      " 11%|████▍                                   | 11/100 [15:36<2:06:22, 85.20s/it]"
     ]
    },
    {
     "name": "stdout",
     "output_type": "stream",
     "text": [
      "Exp val calculado:  -79.6817993942195\n"
     ]
    },
    {
     "name": "stderr",
     "output_type": "stream",
     "text": [
      "\r",
      " 12%|████▊                                   | 12/100 [17:01<2:04:54, 85.16s/it]"
     ]
    },
    {
     "name": "stdout",
     "output_type": "stream",
     "text": [
      "Exp val calculado:  -79.68023037743434\n"
     ]
    },
    {
     "name": "stderr",
     "output_type": "stream",
     "text": [
      "\r",
      " 13%|█████▏                                  | 13/100 [18:26<2:03:28, 85.16s/it]"
     ]
    },
    {
     "name": "stdout",
     "output_type": "stream",
     "text": [
      "Exp val calculado:  -79.68021537094089\n"
     ]
    },
    {
     "name": "stderr",
     "output_type": "stream",
     "text": [
      "\r",
      " 14%|█████▌                                  | 14/100 [19:51<2:02:00, 85.12s/it]"
     ]
    },
    {
     "name": "stdout",
     "output_type": "stream",
     "text": [
      "Exp val calculado:  -79.6794760022878\n"
     ]
    },
    {
     "name": "stderr",
     "output_type": "stream",
     "text": [
      "\r",
      " 15%|██████                                  | 15/100 [21:16<2:00:40, 85.18s/it]"
     ]
    },
    {
     "name": "stdout",
     "output_type": "stream",
     "text": [
      "Exp val calculado:  -79.6769802368544\n"
     ]
    },
    {
     "name": "stderr",
     "output_type": "stream",
     "text": [
      "\r",
      " 16%|██████▍                                 | 16/100 [22:42<1:59:23, 85.28s/it]"
     ]
    },
    {
     "name": "stdout",
     "output_type": "stream",
     "text": [
      "Exp val calculado:  -79.68042810995904\n"
     ]
    },
    {
     "name": "stderr",
     "output_type": "stream",
     "text": [
      "\r",
      " 17%|██████▊                                 | 17/100 [24:07<1:57:58, 85.29s/it]"
     ]
    },
    {
     "name": "stdout",
     "output_type": "stream",
     "text": [
      "Exp val calculado:  -79.67847934654726\n"
     ]
    },
    {
     "name": "stderr",
     "output_type": "stream",
     "text": [
      "\r",
      " 18%|███████▏                                | 18/100 [25:32<1:56:16, 85.08s/it]"
     ]
    },
    {
     "name": "stdout",
     "output_type": "stream",
     "text": [
      "Exp val calculado:  -79.67986457862693\n"
     ]
    },
    {
     "name": "stderr",
     "output_type": "stream",
     "text": [
      "\r",
      " 19%|███████▌                                | 19/100 [26:56<1:54:43, 84.98s/it]"
     ]
    },
    {
     "name": "stdout",
     "output_type": "stream",
     "text": [
      "Exp val calculado:  -79.6798438688754\n"
     ]
    },
    {
     "name": "stderr",
     "output_type": "stream",
     "text": [
      "\r",
      " 20%|████████                                | 20/100 [28:24<1:54:23, 85.80s/it]"
     ]
    },
    {
     "name": "stdout",
     "output_type": "stream",
     "text": [
      "Exp val calculado:  -79.67732084505434\n"
     ]
    },
    {
     "name": "stderr",
     "output_type": "stream",
     "text": [
      "\r",
      " 21%|████████▍                               | 21/100 [29:48<1:52:22, 85.34s/it]"
     ]
    },
    {
     "name": "stdout",
     "output_type": "stream",
     "text": [
      "Exp val calculado:  -79.67779151690154\n"
     ]
    },
    {
     "name": "stderr",
     "output_type": "stream",
     "text": [
      "\r",
      " 22%|████████▊                               | 22/100 [31:17<1:52:16, 86.36s/it]"
     ]
    },
    {
     "name": "stdout",
     "output_type": "stream",
     "text": [
      "Exp val calculado:  -79.68115633795132\n"
     ]
    },
    {
     "name": "stderr",
     "output_type": "stream",
     "text": [
      "\r",
      " 23%|█████████▏                              | 23/100 [32:41<1:50:02, 85.75s/it]"
     ]
    },
    {
     "name": "stdout",
     "output_type": "stream",
     "text": [
      "Exp val calculado:  -79.67598880652419\n"
     ]
    },
    {
     "name": "stderr",
     "output_type": "stream",
     "text": [
      "\r",
      " 24%|█████████▌                              | 24/100 [34:06<1:48:06, 85.35s/it]"
     ]
    },
    {
     "name": "stdout",
     "output_type": "stream",
     "text": [
      "Exp val calculado:  -79.6785178485335\n"
     ]
    },
    {
     "name": "stderr",
     "output_type": "stream",
     "text": [
      "\r",
      " 25%|██████████                              | 25/100 [35:30<1:46:23, 85.11s/it]"
     ]
    },
    {
     "name": "stdout",
     "output_type": "stream",
     "text": [
      "Exp val calculado:  -79.68159595019901\n"
     ]
    },
    {
     "name": "stderr",
     "output_type": "stream",
     "text": [
      "\r",
      " 26%|██████████▍                             | 26/100 [36:55<1:44:39, 84.86s/it]"
     ]
    },
    {
     "name": "stdout",
     "output_type": "stream",
     "text": [
      "Exp val calculado:  -79.68162519194249\n"
     ]
    },
    {
     "name": "stderr",
     "output_type": "stream",
     "text": [
      "\r",
      " 27%|██████████▊                             | 27/100 [38:20<1:43:31, 85.09s/it]"
     ]
    },
    {
     "name": "stdout",
     "output_type": "stream",
     "text": [
      "Exp val calculado:  -79.67698052068667\n"
     ]
    },
    {
     "name": "stderr",
     "output_type": "stream",
     "text": [
      "\r",
      " 28%|███████████▏                            | 28/100 [39:45<1:41:59, 85.00s/it]"
     ]
    },
    {
     "name": "stdout",
     "output_type": "stream",
     "text": [
      "Exp val calculado:  -79.68055027723199\n"
     ]
    },
    {
     "name": "stderr",
     "output_type": "stream",
     "text": [
      "\r",
      " 29%|███████████▌                            | 29/100 [41:11<1:40:48, 85.19s/it]"
     ]
    },
    {
     "name": "stdout",
     "output_type": "stream",
     "text": [
      "Exp val calculado:  -79.67792588757612\n"
     ]
    },
    {
     "name": "stderr",
     "output_type": "stream",
     "text": [
      "\r",
      " 30%|████████████                            | 30/100 [42:35<1:39:06, 84.94s/it]"
     ]
    },
    {
     "name": "stdout",
     "output_type": "stream",
     "text": [
      "Exp val calculado:  -79.68088911966814\n"
     ]
    },
    {
     "name": "stderr",
     "output_type": "stream",
     "text": [
      "\r",
      " 31%|████████████▍                           | 31/100 [44:00<1:37:42, 84.97s/it]"
     ]
    },
    {
     "name": "stdout",
     "output_type": "stream",
     "text": [
      "Exp val calculado:  -79.68226310638676\n"
     ]
    },
    {
     "name": "stderr",
     "output_type": "stream",
     "text": [
      "\r",
      " 32%|████████████▊                           | 32/100 [45:25<1:36:11, 84.88s/it]"
     ]
    },
    {
     "name": "stdout",
     "output_type": "stream",
     "text": [
      "Exp val calculado:  -79.68107002873859\n"
     ]
    },
    {
     "name": "stderr",
     "output_type": "stream",
     "text": [
      "\r",
      " 33%|█████████████▏                          | 33/100 [46:51<1:35:03, 85.12s/it]"
     ]
    },
    {
     "name": "stdout",
     "output_type": "stream",
     "text": [
      "Exp val calculado:  -79.67808248603363\n"
     ]
    },
    {
     "name": "stderr",
     "output_type": "stream",
     "text": [
      "\r",
      " 34%|█████████████▌                          | 34/100 [48:15<1:33:25, 84.94s/it]"
     ]
    },
    {
     "name": "stdout",
     "output_type": "stream",
     "text": [
      "Exp val calculado:  -79.6787538331279\n"
     ]
    },
    {
     "name": "stderr",
     "output_type": "stream",
     "text": [
      "\r",
      " 35%|██████████████                          | 35/100 [49:41<1:32:17, 85.20s/it]"
     ]
    },
    {
     "name": "stdout",
     "output_type": "stream",
     "text": [
      "Exp val calculado:  -79.67763867475347\n"
     ]
    },
    {
     "name": "stderr",
     "output_type": "stream",
     "text": [
      "\r",
      " 36%|██████████████▍                         | 36/100 [51:06<1:30:47, 85.12s/it]"
     ]
    },
    {
     "name": "stdout",
     "output_type": "stream",
     "text": [
      "Exp val calculado:  -79.67927445665268\n"
     ]
    },
    {
     "name": "stderr",
     "output_type": "stream",
     "text": [
      "\r",
      " 37%|██████████████▊                         | 37/100 [52:31<1:29:16, 85.02s/it]"
     ]
    },
    {
     "name": "stdout",
     "output_type": "stream",
     "text": [
      "Exp val calculado:  -79.68173897532641\n"
     ]
    },
    {
     "name": "stderr",
     "output_type": "stream",
     "text": [
      "\r",
      " 38%|███████████████▏                        | 38/100 [53:56<1:27:55, 85.09s/it]"
     ]
    },
    {
     "name": "stdout",
     "output_type": "stream",
     "text": [
      "Exp val calculado:  -79.68142428126718\n"
     ]
    },
    {
     "name": "stderr",
     "output_type": "stream",
     "text": [
      "\r",
      " 39%|███████████████▌                        | 39/100 [55:20<1:26:17, 84.88s/it]"
     ]
    },
    {
     "name": "stdout",
     "output_type": "stream",
     "text": [
      "Exp val calculado:  -79.67927499146171\n"
     ]
    },
    {
     "name": "stderr",
     "output_type": "stream",
     "text": [
      "\r",
      " 40%|████████████████                        | 40/100 [56:45<1:24:59, 85.00s/it]"
     ]
    },
    {
     "name": "stdout",
     "output_type": "stream",
     "text": [
      "Exp val calculado:  -79.67864256920272\n"
     ]
    },
    {
     "name": "stderr",
     "output_type": "stream",
     "text": [
      "\r",
      " 41%|████████████████▍                       | 41/100 [58:10<1:23:30, 84.92s/it]"
     ]
    },
    {
     "name": "stdout",
     "output_type": "stream",
     "text": [
      "Exp val calculado:  -79.68008197220288\n"
     ]
    },
    {
     "name": "stderr",
     "output_type": "stream",
     "text": [
      "\r",
      " 42%|████████████████▊                       | 42/100 [59:36<1:22:16, 85.12s/it]"
     ]
    },
    {
     "name": "stdout",
     "output_type": "stream",
     "text": [
      "Exp val calculado:  -79.68046053893866\n"
     ]
    },
    {
     "name": "stderr",
     "output_type": "stream",
     "text": [
      "\r",
      " 43%|████████████████▎                     | 43/100 [1:01:01<1:20:50, 85.10s/it]"
     ]
    },
    {
     "name": "stdout",
     "output_type": "stream",
     "text": [
      "Exp val calculado:  -79.68207942225803\n"
     ]
    },
    {
     "name": "stderr",
     "output_type": "stream",
     "text": [
      "\r",
      " 44%|████████████████▋                     | 44/100 [1:02:26<1:19:32, 85.22s/it]"
     ]
    },
    {
     "name": "stdout",
     "output_type": "stream",
     "text": [
      "Exp val calculado:  -79.68134813068585\n"
     ]
    },
    {
     "name": "stderr",
     "output_type": "stream",
     "text": [
      "\r",
      " 45%|█████████████████                     | 45/100 [1:03:50<1:17:46, 84.85s/it]"
     ]
    },
    {
     "name": "stdout",
     "output_type": "stream",
     "text": [
      "Exp val calculado:  -79.67844514369698\n"
     ]
    },
    {
     "name": "stderr",
     "output_type": "stream",
     "text": [
      "\r",
      " 46%|█████████████████▍                    | 46/100 [1:05:15<1:16:12, 84.68s/it]"
     ]
    },
    {
     "name": "stdout",
     "output_type": "stream",
     "text": [
      "Exp val calculado:  -79.68047344651211\n"
     ]
    },
    {
     "name": "stderr",
     "output_type": "stream",
     "text": [
      "\r",
      " 47%|█████████████████▊                    | 47/100 [1:06:39<1:14:49, 84.70s/it]"
     ]
    },
    {
     "name": "stdout",
     "output_type": "stream",
     "text": [
      "Exp val calculado:  -79.6818702620197\n"
     ]
    },
    {
     "name": "stderr",
     "output_type": "stream",
     "text": [
      "\r",
      " 48%|██████████████████▏                   | 48/100 [1:08:04<1:13:27, 84.75s/it]"
     ]
    },
    {
     "name": "stdout",
     "output_type": "stream",
     "text": [
      "Exp val calculado:  -79.6796096687214\n"
     ]
    },
    {
     "name": "stderr",
     "output_type": "stream",
     "text": [
      "\r",
      " 49%|██████████████████▌                   | 49/100 [1:09:29<1:11:56, 84.63s/it]"
     ]
    },
    {
     "name": "stdout",
     "output_type": "stream",
     "text": [
      "Exp val calculado:  -79.67798489492836\n"
     ]
    },
    {
     "name": "stderr",
     "output_type": "stream",
     "text": [
      "\r",
      " 50%|███████████████████                   | 50/100 [1:10:53<1:10:26, 84.53s/it]"
     ]
    },
    {
     "name": "stdout",
     "output_type": "stream",
     "text": [
      "Exp val calculado:  -79.68015541760272\n"
     ]
    },
    {
     "name": "stderr",
     "output_type": "stream",
     "text": [
      "\r",
      " 51%|███████████████████▍                  | 51/100 [1:12:18<1:09:05, 84.60s/it]"
     ]
    },
    {
     "name": "stdout",
     "output_type": "stream",
     "text": [
      "Exp val calculado:  -79.67858575428187\n"
     ]
    },
    {
     "name": "stderr",
     "output_type": "stream",
     "text": [
      "\r",
      " 52%|███████████████████▊                  | 52/100 [1:13:42<1:07:42, 84.63s/it]"
     ]
    },
    {
     "name": "stdout",
     "output_type": "stream",
     "text": [
      "Exp val calculado:  -79.67716578707373\n"
     ]
    },
    {
     "name": "stderr",
     "output_type": "stream",
     "text": [
      "\r",
      " 53%|████████████████████▏                 | 53/100 [1:15:06<1:06:06, 84.39s/it]"
     ]
    },
    {
     "name": "stdout",
     "output_type": "stream",
     "text": [
      "Exp val calculado:  -79.67940637914037\n"
     ]
    },
    {
     "name": "stderr",
     "output_type": "stream",
     "text": [
      "\r",
      " 54%|████████████████████▌                 | 54/100 [1:16:31<1:04:49, 84.56s/it]"
     ]
    },
    {
     "name": "stdout",
     "output_type": "stream",
     "text": [
      "Exp val calculado:  -79.6801805599988\n"
     ]
    },
    {
     "name": "stderr",
     "output_type": "stream",
     "text": [
      "\r",
      " 55%|████████████████████▉                 | 55/100 [1:17:56<1:03:22, 84.51s/it]"
     ]
    },
    {
     "name": "stdout",
     "output_type": "stream",
     "text": [
      "Exp val calculado:  -79.68144176689646\n"
     ]
    },
    {
     "name": "stderr",
     "output_type": "stream",
     "text": [
      "\r",
      " 56%|█████████████████████▎                | 56/100 [1:19:20<1:01:57, 84.49s/it]"
     ]
    },
    {
     "name": "stdout",
     "output_type": "stream",
     "text": [
      "Exp val calculado:  -79.6819701872247\n"
     ]
    },
    {
     "name": "stderr",
     "output_type": "stream",
     "text": [
      "\r",
      " 57%|█████████████████████▋                | 57/100 [1:20:44<1:00:30, 84.43s/it]"
     ]
    },
    {
     "name": "stdout",
     "output_type": "stream",
     "text": [
      "Exp val calculado:  -79.68045993590715\n"
     ]
    },
    {
     "name": "stderr",
     "output_type": "stream",
     "text": [
      "\r",
      " 58%|███████████████████████▏                | 58/100 [1:22:09<59:15, 84.65s/it]"
     ]
    },
    {
     "name": "stdout",
     "output_type": "stream",
     "text": [
      "Exp val calculado:  -79.68100189987126\n"
     ]
    },
    {
     "name": "stderr",
     "output_type": "stream",
     "text": [
      "\r",
      " 59%|███████████████████████▌                | 59/100 [1:23:34<57:46, 84.56s/it]"
     ]
    },
    {
     "name": "stdout",
     "output_type": "stream",
     "text": [
      "Exp val calculado:  -79.68052939092127\n"
     ]
    },
    {
     "name": "stderr",
     "output_type": "stream",
     "text": [
      "\r",
      " 60%|████████████████████████                | 60/100 [1:24:58<56:23, 84.58s/it]"
     ]
    },
    {
     "name": "stdout",
     "output_type": "stream",
     "text": [
      "Exp val calculado:  -79.68092743592713\n"
     ]
    },
    {
     "name": "stderr",
     "output_type": "stream",
     "text": [
      "\r",
      " 61%|████████████████████████▍               | 61/100 [1:26:23<54:59, 84.61s/it]"
     ]
    },
    {
     "name": "stdout",
     "output_type": "stream",
     "text": [
      "Exp val calculado:  -79.68063019307468\n"
     ]
    },
    {
     "name": "stderr",
     "output_type": "stream",
     "text": [
      "\r",
      " 62%|████████████████████████▊               | 62/100 [1:27:47<53:25, 84.35s/it]"
     ]
    },
    {
     "name": "stdout",
     "output_type": "stream",
     "text": [
      "Exp val calculado:  -79.68017978715017\n"
     ]
    },
    {
     "name": "stderr",
     "output_type": "stream",
     "text": [
      "\r",
      " 63%|█████████████████████████▏              | 63/100 [1:29:11<51:57, 84.26s/it]"
     ]
    },
    {
     "name": "stdout",
     "output_type": "stream",
     "text": [
      "Exp val calculado:  -79.68021604516261\n"
     ]
    },
    {
     "name": "stderr",
     "output_type": "stream",
     "text": [
      "\r",
      " 64%|█████████████████████████▌              | 64/100 [1:30:35<50:36, 84.36s/it]"
     ]
    },
    {
     "name": "stdout",
     "output_type": "stream",
     "text": [
      "Exp val calculado:  -79.67925093358774\n"
     ]
    },
    {
     "name": "stderr",
     "output_type": "stream",
     "text": [
      "\r",
      " 65%|██████████████████████████              | 65/100 [1:32:03<49:46, 85.32s/it]"
     ]
    },
    {
     "name": "stdout",
     "output_type": "stream",
     "text": [
      "Exp val calculado:  -79.68403068644339\n"
     ]
    },
    {
     "name": "stderr",
     "output_type": "stream",
     "text": [
      "\r",
      " 66%|██████████████████████████▍             | 66/100 [1:33:29<48:25, 85.45s/it]"
     ]
    },
    {
     "name": "stdout",
     "output_type": "stream",
     "text": [
      "Exp val calculado:  -79.67899585586699\n"
     ]
    },
    {
     "name": "stderr",
     "output_type": "stream",
     "text": [
      "\r",
      " 67%|██████████████████████████▊             | 67/100 [1:34:52<46:40, 84.87s/it]"
     ]
    },
    {
     "name": "stdout",
     "output_type": "stream",
     "text": [
      "Exp val calculado:  -79.67952232617834\n"
     ]
    },
    {
     "name": "stderr",
     "output_type": "stream",
     "text": [
      "\r",
      " 68%|███████████████████████████▏            | 68/100 [1:36:16<45:03, 84.48s/it]"
     ]
    },
    {
     "name": "stdout",
     "output_type": "stream",
     "text": [
      "Exp val calculado:  -79.67918177181012\n"
     ]
    },
    {
     "name": "stderr",
     "output_type": "stream",
     "text": [
      "\r",
      " 69%|███████████████████████████▌            | 69/100 [1:37:40<43:31, 84.24s/it]"
     ]
    },
    {
     "name": "stdout",
     "output_type": "stream",
     "text": [
      "Exp val calculado:  -79.68110360887484\n"
     ]
    },
    {
     "name": "stderr",
     "output_type": "stream",
     "text": [
      "\r",
      " 70%|████████████████████████████            | 70/100 [1:39:03<41:59, 83.97s/it]"
     ]
    },
    {
     "name": "stdout",
     "output_type": "stream",
     "text": [
      "Exp val calculado:  -79.6814822714305\n"
     ]
    },
    {
     "name": "stderr",
     "output_type": "stream",
     "text": [
      "\r",
      " 71%|████████████████████████████▍           | 71/100 [1:40:27<40:36, 84.01s/it]"
     ]
    },
    {
     "name": "stdout",
     "output_type": "stream",
     "text": [
      "Exp val calculado:  -79.67877913392554\n"
     ]
    },
    {
     "name": "stderr",
     "output_type": "stream",
     "text": [
      "\r",
      " 72%|████████████████████████████▊           | 72/100 [1:41:50<39:05, 83.78s/it]"
     ]
    },
    {
     "name": "stdout",
     "output_type": "stream",
     "text": [
      "Exp val calculado:  -79.6791434453544\n"
     ]
    },
    {
     "name": "stderr",
     "output_type": "stream",
     "text": [
      "\r",
      " 73%|█████████████████████████████▏          | 73/100 [1:43:14<37:45, 83.90s/it]"
     ]
    },
    {
     "name": "stdout",
     "output_type": "stream",
     "text": [
      "Exp val calculado:  -79.67809241803495\n"
     ]
    },
    {
     "name": "stderr",
     "output_type": "stream",
     "text": [
      "\r",
      " 74%|█████████████████████████████▌          | 74/100 [1:44:38<36:21, 83.91s/it]"
     ]
    },
    {
     "name": "stdout",
     "output_type": "stream",
     "text": [
      "Exp val calculado:  -79.67824366798548\n"
     ]
    },
    {
     "name": "stderr",
     "output_type": "stream",
     "text": [
      "\r",
      " 75%|██████████████████████████████          | 75/100 [1:46:03<35:01, 84.06s/it]"
     ]
    },
    {
     "name": "stdout",
     "output_type": "stream",
     "text": [
      "Exp val calculado:  -79.68165980588162\n"
     ]
    },
    {
     "name": "stderr",
     "output_type": "stream",
     "text": [
      "\r",
      " 76%|██████████████████████████████▍         | 76/100 [1:47:27<33:37, 84.06s/it]"
     ]
    },
    {
     "name": "stdout",
     "output_type": "stream",
     "text": [
      "Exp val calculado:  -79.6798913228827\n"
     ]
    },
    {
     "name": "stderr",
     "output_type": "stream",
     "text": [
      "\r",
      " 77%|██████████████████████████████▊         | 77/100 [1:48:51<32:11, 84.00s/it]"
     ]
    },
    {
     "name": "stdout",
     "output_type": "stream",
     "text": [
      "Exp val calculado:  -79.67937909468583\n"
     ]
    },
    {
     "name": "stderr",
     "output_type": "stream",
     "text": [
      "\r",
      " 78%|███████████████████████████████▏        | 78/100 [1:50:14<30:46, 83.91s/it]"
     ]
    },
    {
     "name": "stdout",
     "output_type": "stream",
     "text": [
      "Exp val calculado:  -79.67960819604606\n"
     ]
    },
    {
     "name": "stderr",
     "output_type": "stream",
     "text": [
      "\r",
      " 79%|███████████████████████████████▌        | 79/100 [1:51:40<29:33, 84.43s/it]"
     ]
    },
    {
     "name": "stdout",
     "output_type": "stream",
     "text": [
      "Exp val calculado:  -79.67915919680969\n"
     ]
    },
    {
     "name": "stderr",
     "output_type": "stream",
     "text": [
      "\r",
      " 80%|████████████████████████████████        | 80/100 [1:53:04<28:04, 84.23s/it]"
     ]
    },
    {
     "name": "stdout",
     "output_type": "stream",
     "text": [
      "Exp val calculado:  -79.67703782415788\n"
     ]
    },
    {
     "name": "stderr",
     "output_type": "stream",
     "text": [
      "\r",
      " 81%|████████████████████████████████▍       | 81/100 [1:54:27<26:37, 84.06s/it]"
     ]
    },
    {
     "name": "stdout",
     "output_type": "stream",
     "text": [
      "Exp val calculado:  -79.68034741090416\n"
     ]
    },
    {
     "name": "stderr",
     "output_type": "stream",
     "text": [
      "\r",
      " 82%|████████████████████████████████▊       | 82/100 [1:55:51<25:11, 83.97s/it]"
     ]
    },
    {
     "name": "stdout",
     "output_type": "stream",
     "text": [
      "Exp val calculado:  -79.67779892615552\n"
     ]
    },
    {
     "name": "stderr",
     "output_type": "stream",
     "text": [
      "\r",
      " 83%|█████████████████████████████████▏      | 83/100 [1:57:15<23:45, 83.87s/it]"
     ]
    },
    {
     "name": "stdout",
     "output_type": "stream",
     "text": [
      "Exp val calculado:  -79.67597009848373\n"
     ]
    },
    {
     "name": "stderr",
     "output_type": "stream",
     "text": [
      "\r",
      " 84%|█████████████████████████████████▌      | 84/100 [1:58:39<22:25, 84.09s/it]"
     ]
    },
    {
     "name": "stdout",
     "output_type": "stream",
     "text": [
      "Exp val calculado:  -79.68140905873163\n"
     ]
    },
    {
     "name": "stderr",
     "output_type": "stream",
     "text": [
      "\r",
      " 85%|██████████████████████████████████      | 85/100 [2:00:03<20:57, 83.83s/it]"
     ]
    },
    {
     "name": "stdout",
     "output_type": "stream",
     "text": [
      "Exp val calculado:  -79.67809691789068\n"
     ]
    },
    {
     "name": "stderr",
     "output_type": "stream",
     "text": [
      "\r",
      " 86%|██████████████████████████████████▍     | 86/100 [2:01:26<19:33, 83.80s/it]"
     ]
    },
    {
     "name": "stdout",
     "output_type": "stream",
     "text": [
      "Exp val calculado:  -79.68173075698147\n"
     ]
    },
    {
     "name": "stderr",
     "output_type": "stream",
     "text": [
      "\r",
      " 87%|██████████████████████████████████▊     | 87/100 [2:02:50<18:07, 83.62s/it]"
     ]
    },
    {
     "name": "stdout",
     "output_type": "stream",
     "text": [
      "Exp val calculado:  -79.67936910460175\n"
     ]
    },
    {
     "name": "stderr",
     "output_type": "stream",
     "text": [
      "\r",
      " 88%|███████████████████████████████████▏    | 88/100 [2:04:13<16:42, 83.55s/it]"
     ]
    },
    {
     "name": "stdout",
     "output_type": "stream",
     "text": [
      "Exp val calculado:  -79.67972287044589\n"
     ]
    },
    {
     "name": "stderr",
     "output_type": "stream",
     "text": [
      "\r",
      " 89%|███████████████████████████████████▌    | 89/100 [2:05:37<15:19, 83.61s/it]"
     ]
    },
    {
     "name": "stdout",
     "output_type": "stream",
     "text": [
      "Exp val calculado:  -79.67930535654071\n"
     ]
    },
    {
     "name": "stderr",
     "output_type": "stream",
     "text": [
      "\r",
      " 90%|████████████████████████████████████    | 90/100 [2:07:01<13:59, 83.92s/it]"
     ]
    },
    {
     "name": "stdout",
     "output_type": "stream",
     "text": [
      "Exp val calculado:  -79.68084727563601\n"
     ]
    },
    {
     "name": "stderr",
     "output_type": "stream",
     "text": [
      "\r",
      " 91%|████████████████████████████████████▍   | 91/100 [2:08:25<12:35, 83.92s/it]"
     ]
    },
    {
     "name": "stdout",
     "output_type": "stream",
     "text": [
      "Exp val calculado:  -79.68012285386268\n"
     ]
    },
    {
     "name": "stderr",
     "output_type": "stream",
     "text": [
      "\r",
      " 92%|████████████████████████████████████▊   | 92/100 [2:09:50<11:12, 84.10s/it]"
     ]
    },
    {
     "name": "stdout",
     "output_type": "stream",
     "text": [
      "Exp val calculado:  -79.68044655626323\n"
     ]
    },
    {
     "name": "stderr",
     "output_type": "stream",
     "text": [
      "\r",
      " 93%|█████████████████████████████████████▏  | 93/100 [2:11:14<09:47, 83.99s/it]"
     ]
    },
    {
     "name": "stdout",
     "output_type": "stream",
     "text": [
      "Exp val calculado:  -79.67681270528459\n"
     ]
    },
    {
     "name": "stderr",
     "output_type": "stream",
     "text": [
      "\r",
      " 94%|█████████████████████████████████████▌  | 94/100 [2:12:37<08:22, 83.76s/it]"
     ]
    },
    {
     "name": "stdout",
     "output_type": "stream",
     "text": [
      "Exp val calculado:  -79.68133178661908\n"
     ]
    },
    {
     "name": "stderr",
     "output_type": "stream",
     "text": [
      "\r",
      " 95%|██████████████████████████████████████  | 95/100 [2:14:01<06:58, 83.77s/it]"
     ]
    },
    {
     "name": "stdout",
     "output_type": "stream",
     "text": [
      "Exp val calculado:  -79.67899868955158\n"
     ]
    },
    {
     "name": "stderr",
     "output_type": "stream",
     "text": [
      "\r",
      " 96%|██████████████████████████████████████▍ | 96/100 [2:15:24<05:34, 83.70s/it]"
     ]
    },
    {
     "name": "stdout",
     "output_type": "stream",
     "text": [
      "Exp val calculado:  -79.68199562420547\n"
     ]
    },
    {
     "name": "stderr",
     "output_type": "stream",
     "text": [
      "\r",
      " 97%|██████████████████████████████████████▊ | 97/100 [2:16:47<04:10, 83.46s/it]"
     ]
    },
    {
     "name": "stdout",
     "output_type": "stream",
     "text": [
      "Exp val calculado:  -79.68027422954452\n"
     ]
    },
    {
     "name": "stderr",
     "output_type": "stream",
     "text": [
      "\r",
      " 98%|███████████████████████████████████████▏| 98/100 [2:18:10<02:46, 83.39s/it]"
     ]
    },
    {
     "name": "stdout",
     "output_type": "stream",
     "text": [
      "Exp val calculado:  -79.68083178357057\n"
     ]
    },
    {
     "name": "stderr",
     "output_type": "stream",
     "text": [
      "\r",
      " 99%|███████████████████████████████████████▌| 99/100 [2:19:33<01:23, 83.32s/it]"
     ]
    },
    {
     "name": "stdout",
     "output_type": "stream",
     "text": [
      "Exp val calculado:  -79.67833333729966\n"
     ]
    },
    {
     "name": "stderr",
     "output_type": "stream",
     "text": [
      "100%|███████████████████████████████████████| 100/100 [2:20:57<00:00, 84.58s/it]"
     ]
    },
    {
     "name": "stdout",
     "output_type": "stream",
     "text": [
      "Exp val calculado:  -79.67885497923038\n"
     ]
    },
    {
     "name": "stderr",
     "output_type": "stream",
     "text": [
      "\n"
     ]
    }
   ],
   "source": [
    "results_god = []\n",
    "\n",
    "for i in tqdm(range(reps)):\n",
    "    algorithm = ExpVal(n_shots = total_shots-total_shots//4,\n",
    "            bodies = bodies, \n",
    "            r = r, \n",
    "            r_shots = total_shots//4,\n",
    "            n_qubits = n_qubits)\n",
    "\n",
    "    algorithm.get_shadows_R(circ_gs)\n",
    "\n",
    "    coeffs, obs = get_obs_data(hamiltonian)\n",
    "\n",
    "    exp_val = algorithm.exp_val(obs)\n",
    "\n",
    "    first_term = hamiltonian[0].coeffs[0].real\n",
    "\n",
    "    print('Exp val calculado: ', np.sum(exp_val*coeffs).real + first_term)\n",
    "    results_god.append(np.sum(exp_val*coeffs).real + first_term)"
   ]
  },
  {
   "cell_type": "code",
   "execution_count": 12,
   "id": "bf0915a4",
   "metadata": {
    "ExecuteTime": {
     "end_time": "2023-02-28T02:53:49.432246Z",
     "start_time": "2023-02-28T02:53:49.426713Z"
    }
   },
   "outputs": [
    {
     "name": "stdout",
     "output_type": "stream",
     "text": [
      "-79.59454251461337\n",
      "[0.08495712 0.08447707 0.08609546 0.0832267  0.08518683 0.08473566\n",
      " 0.08504043 0.08587993 0.08530542 0.08571404 0.08725688 0.08568786\n",
      " 0.08567286 0.08493349 0.08243772 0.0858856  0.08393683 0.08532206\n",
      " 0.08530135 0.08277833 0.083249   0.08661382 0.08144629 0.08397533\n",
      " 0.08705344 0.08708268 0.08243801 0.08600776 0.08338337 0.08634661\n",
      " 0.08772059 0.08652751 0.08353997 0.08421132 0.08309616 0.08473194\n",
      " 0.08719646 0.08688177 0.08473248 0.08410005 0.08553946 0.08591802\n",
      " 0.08753691 0.08680562 0.08390263 0.08593093 0.08732775 0.08506715\n",
      " 0.08344238 0.0856129  0.08404324 0.08262327 0.08486386 0.08563805\n",
      " 0.08689925 0.08742767 0.08591742 0.08645939 0.08598688 0.08638492\n",
      " 0.08608768 0.08563727 0.08567353 0.08470842 0.08948817 0.08445334\n",
      " 0.08497981 0.08463926 0.08656109 0.08693976 0.08423662 0.08460093\n",
      " 0.0835499  0.08370115 0.08711729 0.08534881 0.08483658 0.08506568\n",
      " 0.08461668 0.08249531 0.0858049  0.08325641 0.08142758 0.08686654\n",
      " 0.0835544  0.08718824 0.08482659 0.08518036 0.08476284 0.08630476\n",
      " 0.08558034 0.08590404 0.08227019 0.08678927 0.08445617 0.08745311\n",
      " 0.08573171 0.08628927 0.08379082 0.08431246]\n",
      "0.08530338739927856\n"
     ]
    }
   ],
   "source": [
    "print(eig_gs)\n",
    "\n",
    "print(np.abs(results_god-eig_gs))\n",
    "\n",
    "print(np.median(np.abs(results_god-eig_gs)))"
   ]
  },
  {
   "cell_type": "code",
   "execution_count": 13,
   "id": "81ea31ca",
   "metadata": {
    "ExecuteTime": {
     "end_time": "2023-02-28T05:58:30.017173Z",
     "start_time": "2023-02-28T02:53:49.434126Z"
    }
   },
   "outputs": [
    {
     "name": "stderr",
     "output_type": "stream",
     "text": [
      "  1%|▍                                       | 1/100 [01:47<2:56:52, 107.20s/it]"
     ]
    },
    {
     "name": "stdout",
     "output_type": "stream",
     "text": [
      "Exp val calculado:  -79.58709473287345\n"
     ]
    },
    {
     "name": "stderr",
     "output_type": "stream",
     "text": [
      "\r",
      "  2%|▊                                       | 2/100 [03:46<3:06:19, 114.08s/it]"
     ]
    },
    {
     "name": "stdout",
     "output_type": "stream",
     "text": [
      "Exp val calculado:  -79.59461535241849\n"
     ]
    },
    {
     "name": "stderr",
     "output_type": "stream",
     "text": [
      "\r",
      "  3%|█▏                                      | 3/100 [05:42<3:06:30, 115.37s/it]"
     ]
    },
    {
     "name": "stdout",
     "output_type": "stream",
     "text": [
      "Exp val calculado:  -79.59310692236981\n"
     ]
    },
    {
     "name": "stderr",
     "output_type": "stream",
     "text": [
      "\r",
      "  4%|█▌                                      | 4/100 [07:33<3:01:27, 113.42s/it]"
     ]
    },
    {
     "name": "stdout",
     "output_type": "stream",
     "text": [
      "Exp val calculado:  -79.58849727514604\n"
     ]
    },
    {
     "name": "stderr",
     "output_type": "stream",
     "text": [
      "\r",
      "  5%|██                                      | 5/100 [09:19<2:55:30, 110.85s/it]"
     ]
    },
    {
     "name": "stdout",
     "output_type": "stream",
     "text": [
      "Exp val calculado:  -79.58750266870007\n"
     ]
    },
    {
     "name": "stderr",
     "output_type": "stream",
     "text": [
      "\r",
      "  6%|██▍                                     | 6/100 [11:19<2:58:15, 113.78s/it]"
     ]
    },
    {
     "name": "stdout",
     "output_type": "stream",
     "text": [
      "Exp val calculado:  -79.58932110562559\n"
     ]
    },
    {
     "name": "stderr",
     "output_type": "stream",
     "text": [
      "\r",
      "  7%|██▊                                     | 7/100 [13:06<2:53:14, 111.76s/it]"
     ]
    },
    {
     "name": "stdout",
     "output_type": "stream",
     "text": [
      "Exp val calculado:  -79.58833191031712\n"
     ]
    },
    {
     "name": "stderr",
     "output_type": "stream",
     "text": [
      "\r",
      "  8%|███▏                                    | 8/100 [14:55<2:49:44, 110.70s/it]"
     ]
    },
    {
     "name": "stdout",
     "output_type": "stream",
     "text": [
      "Exp val calculado:  -79.58883108755703\n"
     ]
    },
    {
     "name": "stderr",
     "output_type": "stream",
     "text": [
      "\r",
      "  9%|███▌                                    | 9/100 [16:49<2:49:33, 111.80s/it]"
     ]
    },
    {
     "name": "stdout",
     "output_type": "stream",
     "text": [
      "Exp val calculado:  -79.5951587021589\n"
     ]
    },
    {
     "name": "stderr",
     "output_type": "stream",
     "text": [
      "\r",
      " 10%|███▉                                   | 10/100 [18:33<2:44:19, 109.55s/it]"
     ]
    },
    {
     "name": "stdout",
     "output_type": "stream",
     "text": [
      "Exp val calculado:  -79.58441056541093\n"
     ]
    },
    {
     "name": "stderr",
     "output_type": "stream",
     "text": [
      "\r",
      " 11%|████▎                                  | 11/100 [20:24<2:43:08, 109.98s/it]"
     ]
    },
    {
     "name": "stdout",
     "output_type": "stream",
     "text": [
      "Exp val calculado:  -79.59005657074518\n"
     ]
    },
    {
     "name": "stderr",
     "output_type": "stream",
     "text": [
      "\r",
      " 12%|████▋                                  | 12/100 [22:15<2:41:24, 110.05s/it]"
     ]
    },
    {
     "name": "stdout",
     "output_type": "stream",
     "text": [
      "Exp val calculado:  -79.58494591498605\n"
     ]
    },
    {
     "name": "stderr",
     "output_type": "stream",
     "text": [
      "\r",
      " 13%|█████                                  | 13/100 [24:04<2:39:12, 109.80s/it]"
     ]
    },
    {
     "name": "stdout",
     "output_type": "stream",
     "text": [
      "Exp val calculado:  -79.58935660382848\n"
     ]
    },
    {
     "name": "stderr",
     "output_type": "stream",
     "text": [
      "\r",
      " 14%|█████▍                                 | 14/100 [25:49<2:35:10, 108.26s/it]"
     ]
    },
    {
     "name": "stdout",
     "output_type": "stream",
     "text": [
      "Exp val calculado:  -79.58430485723491\n"
     ]
    },
    {
     "name": "stderr",
     "output_type": "stream",
     "text": [
      "\r",
      " 15%|█████▊                                 | 15/100 [27:42<2:35:24, 109.71s/it]"
     ]
    },
    {
     "name": "stdout",
     "output_type": "stream",
     "text": [
      "Exp val calculado:  -79.5912845500377\n"
     ]
    },
    {
     "name": "stderr",
     "output_type": "stream",
     "text": [
      "\r",
      " 16%|██████▏                                | 16/100 [29:29<2:32:40, 109.06s/it]"
     ]
    },
    {
     "name": "stdout",
     "output_type": "stream",
     "text": [
      "Exp val calculado:  -79.58707343707621\n"
     ]
    },
    {
     "name": "stderr",
     "output_type": "stream",
     "text": [
      "\r",
      " 17%|██████▋                                | 17/100 [31:26<2:34:13, 111.48s/it]"
     ]
    },
    {
     "name": "stdout",
     "output_type": "stream",
     "text": [
      "Exp val calculado:  -79.59061758950651\n"
     ]
    },
    {
     "name": "stderr",
     "output_type": "stream",
     "text": [
      "\r",
      " 18%|███████                                | 18/100 [33:16<2:31:34, 110.91s/it]"
     ]
    },
    {
     "name": "stdout",
     "output_type": "stream",
     "text": [
      "Exp val calculado:  -79.58955772561075\n"
     ]
    },
    {
     "name": "stderr",
     "output_type": "stream",
     "text": [
      "\r",
      " 19%|███████▍                               | 19/100 [35:04<2:28:42, 110.15s/it]"
     ]
    },
    {
     "name": "stdout",
     "output_type": "stream",
     "text": [
      "Exp val calculado:  -79.58740829062474\n"
     ]
    },
    {
     "name": "stderr",
     "output_type": "stream",
     "text": [
      "\r",
      " 20%|███████▊                               | 20/100 [36:55<2:27:10, 110.38s/it]"
     ]
    },
    {
     "name": "stdout",
     "output_type": "stream",
     "text": [
      "Exp val calculado:  -79.58822314696349\n"
     ]
    },
    {
     "name": "stderr",
     "output_type": "stream",
     "text": [
      "\r",
      " 21%|████████▏                              | 21/100 [38:40<2:23:08, 108.71s/it]"
     ]
    },
    {
     "name": "stdout",
     "output_type": "stream",
     "text": [
      "Exp val calculado:  -79.58371120182564\n"
     ]
    },
    {
     "name": "stderr",
     "output_type": "stream",
     "text": [
      "\r",
      " 22%|████████▌                              | 22/100 [40:28<2:20:55, 108.40s/it]"
     ]
    },
    {
     "name": "stdout",
     "output_type": "stream",
     "text": [
      "Exp val calculado:  -79.58625185634403\n"
     ]
    },
    {
     "name": "stderr",
     "output_type": "stream",
     "text": [
      "\r",
      " 23%|████████▉                              | 23/100 [42:22<2:21:16, 110.08s/it]"
     ]
    },
    {
     "name": "stdout",
     "output_type": "stream",
     "text": [
      "Exp val calculado:  -79.5910093187209\n"
     ]
    },
    {
     "name": "stderr",
     "output_type": "stream",
     "text": [
      "\r",
      " 24%|█████████▎                             | 24/100 [44:23<2:23:40, 113.43s/it]"
     ]
    },
    {
     "name": "stdout",
     "output_type": "stream",
     "text": [
      "Exp val calculado:  -79.58999140733015\n"
     ]
    },
    {
     "name": "stderr",
     "output_type": "stream",
     "text": [
      "\r",
      " 25%|█████████▊                             | 25/100 [46:13<2:20:24, 112.33s/it]"
     ]
    },
    {
     "name": "stdout",
     "output_type": "stream",
     "text": [
      "Exp val calculado:  -79.58798540891198\n"
     ]
    },
    {
     "name": "stderr",
     "output_type": "stream",
     "text": [
      "\r",
      " 26%|██████████▏                            | 26/100 [48:04<2:18:00, 111.89s/it]"
     ]
    },
    {
     "name": "stdout",
     "output_type": "stream",
     "text": [
      "Exp val calculado:  -79.58820312983168\n"
     ]
    },
    {
     "name": "stderr",
     "output_type": "stream",
     "text": [
      "\r",
      " 27%|██████████▌                            | 27/100 [49:57<2:16:51, 112.48s/it]"
     ]
    },
    {
     "name": "stdout",
     "output_type": "stream",
     "text": [
      "Exp val calculado:  -79.59576467323744\n"
     ]
    },
    {
     "name": "stderr",
     "output_type": "stream",
     "text": [
      "\r",
      " 28%|██████████▉                            | 28/100 [51:54<2:16:26, 113.69s/it]"
     ]
    },
    {
     "name": "stdout",
     "output_type": "stream",
     "text": [
      "Exp val calculado:  -79.59616972004675\n"
     ]
    },
    {
     "name": "stderr",
     "output_type": "stream",
     "text": [
      "\r",
      " 29%|███████████▎                           | 29/100 [53:42<2:12:33, 112.02s/it]"
     ]
    },
    {
     "name": "stdout",
     "output_type": "stream",
     "text": [
      "Exp val calculado:  -79.58570277872006\n"
     ]
    },
    {
     "name": "stderr",
     "output_type": "stream",
     "text": [
      "\r",
      " 30%|███████████▋                           | 30/100 [55:35<2:10:57, 112.24s/it]"
     ]
    },
    {
     "name": "stdout",
     "output_type": "stream",
     "text": [
      "Exp val calculado:  -79.58811330541357\n"
     ]
    },
    {
     "name": "stderr",
     "output_type": "stream",
     "text": [
      "\r",
      " 31%|████████████                           | 31/100 [57:27<2:09:13, 112.37s/it]"
     ]
    },
    {
     "name": "stdout",
     "output_type": "stream",
     "text": [
      "Exp val calculado:  -79.58866184700312\n"
     ]
    },
    {
     "name": "stderr",
     "output_type": "stream",
     "text": [
      "\r",
      " 32%|████████████▍                          | 32/100 [59:14<2:05:27, 110.69s/it]"
     ]
    },
    {
     "name": "stdout",
     "output_type": "stream",
     "text": [
      "Exp val calculado:  -79.58789958233714\n"
     ]
    },
    {
     "name": "stderr",
     "output_type": "stream",
     "text": [
      "\r",
      " 33%|████████████▏                        | 33/100 [1:01:06<2:03:48, 110.88s/it]"
     ]
    },
    {
     "name": "stdout",
     "output_type": "stream",
     "text": [
      "Exp val calculado:  -79.58844546638377\n"
     ]
    },
    {
     "name": "stderr",
     "output_type": "stream",
     "text": [
      "\r",
      " 34%|████████████▌                        | 34/100 [1:02:56<2:01:42, 110.65s/it]"
     ]
    },
    {
     "name": "stdout",
     "output_type": "stream",
     "text": [
      "Exp val calculado:  -79.59083920001032\n"
     ]
    },
    {
     "name": "stderr",
     "output_type": "stream",
     "text": [
      "\r",
      " 35%|████████████▉                        | 35/100 [1:04:47<2:00:08, 110.90s/it]"
     ]
    },
    {
     "name": "stdout",
     "output_type": "stream",
     "text": [
      "Exp val calculado:  -79.58654471911106\n"
     ]
    },
    {
     "name": "stderr",
     "output_type": "stream",
     "text": [
      "\r",
      " 36%|█████████████▎                       | 36/100 [1:06:41<1:59:17, 111.84s/it]"
     ]
    },
    {
     "name": "stdout",
     "output_type": "stream",
     "text": [
      "Exp val calculado:  -79.59166572738746\n"
     ]
    },
    {
     "name": "stderr",
     "output_type": "stream",
     "text": [
      "\r",
      " 37%|█████████████▋                       | 37/100 [1:08:33<1:57:25, 111.83s/it]"
     ]
    },
    {
     "name": "stdout",
     "output_type": "stream",
     "text": [
      "Exp val calculado:  -79.58608039501479\n"
     ]
    },
    {
     "name": "stderr",
     "output_type": "stream",
     "text": [
      "\r",
      " 38%|██████████████                       | 38/100 [1:10:26<1:56:01, 112.28s/it]"
     ]
    },
    {
     "name": "stdout",
     "output_type": "stream",
     "text": [
      "Exp val calculado:  -79.58886872127236\n"
     ]
    },
    {
     "name": "stderr",
     "output_type": "stream",
     "text": [
      "\r",
      " 39%|██████████████▍                      | 39/100 [1:12:23<1:55:24, 113.51s/it]"
     ]
    },
    {
     "name": "stdout",
     "output_type": "stream",
     "text": [
      "Exp val calculado:  -79.59090417077208\n"
     ]
    },
    {
     "name": "stderr",
     "output_type": "stream",
     "text": [
      "\r",
      " 40%|██████████████▊                      | 40/100 [1:14:11<1:51:56, 111.95s/it]"
     ]
    },
    {
     "name": "stdout",
     "output_type": "stream",
     "text": [
      "Exp val calculado:  -79.58669588923397\n"
     ]
    },
    {
     "name": "stderr",
     "output_type": "stream",
     "text": [
      "\r",
      " 41%|███████████████▏                     | 41/100 [1:15:59<1:49:02, 110.89s/it]"
     ]
    },
    {
     "name": "stdout",
     "output_type": "stream",
     "text": [
      "Exp val calculado:  -79.58757230559215\n"
     ]
    },
    {
     "name": "stderr",
     "output_type": "stream",
     "text": [
      "\r",
      " 42%|███████████████▌                     | 42/100 [1:17:46<1:46:00, 109.67s/it]"
     ]
    },
    {
     "name": "stdout",
     "output_type": "stream",
     "text": [
      "Exp val calculado:  -79.58335940330362\n"
     ]
    },
    {
     "name": "stderr",
     "output_type": "stream",
     "text": [
      "\r",
      " 43%|███████████████▉                     | 43/100 [1:19:38<1:44:40, 110.18s/it]"
     ]
    },
    {
     "name": "stdout",
     "output_type": "stream",
     "text": [
      "Exp val calculado:  -79.58617038156495\n"
     ]
    },
    {
     "name": "stderr",
     "output_type": "stream",
     "text": [
      "\r",
      " 44%|████████████████▎                    | 44/100 [1:21:30<1:43:34, 110.97s/it]"
     ]
    },
    {
     "name": "stdout",
     "output_type": "stream",
     "text": [
      "Exp val calculado:  -79.59248985595528\n"
     ]
    },
    {
     "name": "stderr",
     "output_type": "stream",
     "text": [
      "\r",
      " 45%|████████████████▋                    | 45/100 [1:23:19<1:41:02, 110.23s/it]"
     ]
    },
    {
     "name": "stdout",
     "output_type": "stream",
     "text": [
      "Exp val calculado:  -79.58596362725635\n"
     ]
    },
    {
     "name": "stderr",
     "output_type": "stream",
     "text": [
      "\r",
      " 46%|█████████████████                    | 46/100 [1:25:12<1:39:53, 111.00s/it]"
     ]
    },
    {
     "name": "stdout",
     "output_type": "stream",
     "text": [
      "Exp val calculado:  -79.58684008771255\n"
     ]
    },
    {
     "name": "stderr",
     "output_type": "stream",
     "text": [
      "\r",
      " 47%|█████████████████▍                   | 47/100 [1:27:00<1:37:26, 110.31s/it]"
     ]
    },
    {
     "name": "stdout",
     "output_type": "stream",
     "text": [
      "Exp val calculado:  -79.58512777144091\n"
     ]
    },
    {
     "name": "stderr",
     "output_type": "stream",
     "text": [
      "\r",
      " 48%|█████████████████▊                   | 48/100 [1:29:00<1:37:59, 113.07s/it]"
     ]
    },
    {
     "name": "stdout",
     "output_type": "stream",
     "text": [
      "Exp val calculado:  -79.59202502185526\n"
     ]
    },
    {
     "name": "stderr",
     "output_type": "stream",
     "text": [
      "\r",
      " 49%|██████████████████▏                  | 49/100 [1:30:50<1:35:25, 112.27s/it]"
     ]
    },
    {
     "name": "stdout",
     "output_type": "stream",
     "text": [
      "Exp val calculado:  -79.58999891913513\n"
     ]
    },
    {
     "name": "stderr",
     "output_type": "stream",
     "text": [
      "\r",
      " 50%|██████████████████▌                  | 50/100 [1:32:40<1:32:59, 111.59s/it]"
     ]
    },
    {
     "name": "stdout",
     "output_type": "stream",
     "text": [
      "Exp val calculado:  -79.58774010446162\n"
     ]
    },
    {
     "name": "stderr",
     "output_type": "stream",
     "text": [
      "\r",
      " 51%|██████████████████▊                  | 51/100 [1:34:37<1:32:22, 113.12s/it]"
     ]
    },
    {
     "name": "stdout",
     "output_type": "stream",
     "text": [
      "Exp val calculado:  -79.58661542870217\n"
     ]
    },
    {
     "name": "stderr",
     "output_type": "stream",
     "text": [
      "\r",
      " 52%|███████████████████▏                 | 52/100 [1:36:27<1:29:48, 112.27s/it]"
     ]
    },
    {
     "name": "stdout",
     "output_type": "stream",
     "text": [
      "Exp val calculado:  -79.58970658657825\n"
     ]
    },
    {
     "name": "stderr",
     "output_type": "stream",
     "text": [
      "\r",
      " 53%|███████████████████▌                 | 53/100 [1:38:18<1:27:33, 111.78s/it]"
     ]
    },
    {
     "name": "stdout",
     "output_type": "stream",
     "text": [
      "Exp val calculado:  -79.58782111174253\n"
     ]
    },
    {
     "name": "stderr",
     "output_type": "stream",
     "text": [
      "\r",
      " 54%|███████████████████▉                 | 54/100 [1:40:11<1:26:00, 112.18s/it]"
     ]
    },
    {
     "name": "stdout",
     "output_type": "stream",
     "text": [
      "Exp val calculado:  -79.58917934844112\n"
     ]
    },
    {
     "name": "stderr",
     "output_type": "stream",
     "text": [
      "\r",
      " 55%|████████████████████▎                | 55/100 [1:42:02<1:23:52, 111.83s/it]"
     ]
    },
    {
     "name": "stdout",
     "output_type": "stream",
     "text": [
      "Exp val calculado:  -79.58792068897375\n"
     ]
    },
    {
     "name": "stderr",
     "output_type": "stream",
     "text": [
      "\r",
      " 56%|████████████████████▋                | 56/100 [1:43:56<1:22:31, 112.53s/it]"
     ]
    },
    {
     "name": "stdout",
     "output_type": "stream",
     "text": [
      "Exp val calculado:  -79.59172663232262\n"
     ]
    },
    {
     "name": "stderr",
     "output_type": "stream",
     "text": [
      "\r",
      " 57%|█████████████████████                | 57/100 [1:45:43<1:19:25, 110.83s/it]"
     ]
    },
    {
     "name": "stdout",
     "output_type": "stream",
     "text": [
      "Exp val calculado:  -79.58814621223634\n"
     ]
    },
    {
     "name": "stderr",
     "output_type": "stream",
     "text": [
      "\r",
      " 58%|█████████████████████▍               | 58/100 [1:47:30<1:16:49, 109.74s/it]"
     ]
    },
    {
     "name": "stdout",
     "output_type": "stream",
     "text": [
      "Exp val calculado:  -79.58344848674253\n"
     ]
    },
    {
     "name": "stderr",
     "output_type": "stream",
     "text": [
      "\r",
      " 59%|█████████████████████▊               | 59/100 [1:49:24<1:15:48, 110.94s/it]"
     ]
    },
    {
     "name": "stdout",
     "output_type": "stream",
     "text": [
      "Exp val calculado:  -79.59237785316311\n"
     ]
    },
    {
     "name": "stderr",
     "output_type": "stream",
     "text": [
      "\r",
      " 60%|██████████████████████▏              | 60/100 [1:51:13<1:13:30, 110.25s/it]"
     ]
    },
    {
     "name": "stdout",
     "output_type": "stream",
     "text": [
      "Exp val calculado:  -79.58726717673201\n"
     ]
    },
    {
     "name": "stderr",
     "output_type": "stream",
     "text": [
      "\r",
      " 61%|██████████████████████▌              | 61/100 [1:53:01<1:11:12, 109.54s/it]"
     ]
    },
    {
     "name": "stdout",
     "output_type": "stream",
     "text": [
      "Exp val calculado:  -79.58838292450778\n"
     ]
    },
    {
     "name": "stderr",
     "output_type": "stream",
     "text": [
      "\r",
      " 62%|██████████████████████▉              | 62/100 [1:54:55<1:10:13, 110.89s/it]"
     ]
    },
    {
     "name": "stdout",
     "output_type": "stream",
     "text": [
      "Exp val calculado:  -79.58800528157356\n"
     ]
    },
    {
     "name": "stderr",
     "output_type": "stream",
     "text": [
      "\r",
      " 63%|███████████████████████▎             | 63/100 [1:56:47<1:08:34, 111.20s/it]"
     ]
    },
    {
     "name": "stdout",
     "output_type": "stream",
     "text": [
      "Exp val calculado:  -79.59028835608855\n"
     ]
    },
    {
     "name": "stderr",
     "output_type": "stream",
     "text": [
      "\r",
      " 64%|███████████████████████▋             | 64/100 [1:58:37<1:06:32, 110.92s/it]"
     ]
    },
    {
     "name": "stdout",
     "output_type": "stream",
     "text": [
      "Exp val calculado:  -79.58935309084767\n"
     ]
    },
    {
     "name": "stderr",
     "output_type": "stream",
     "text": [
      "\r",
      " 65%|████████████████████████             | 65/100 [2:00:25<1:04:17, 110.22s/it]"
     ]
    },
    {
     "name": "stdout",
     "output_type": "stream",
     "text": [
      "Exp val calculado:  -79.5870079520256\n"
     ]
    },
    {
     "name": "stderr",
     "output_type": "stream",
     "text": [
      "\r",
      " 66%|████████████████████████▍            | 66/100 [2:02:15<1:02:22, 110.07s/it]"
     ]
    },
    {
     "name": "stdout",
     "output_type": "stream",
     "text": [
      "Exp val calculado:  -79.59090692188144\n"
     ]
    },
    {
     "name": "stderr",
     "output_type": "stream",
     "text": [
      "\r",
      " 67%|████████████████████████▊            | 67/100 [2:04:07<1:00:51, 110.66s/it]"
     ]
    },
    {
     "name": "stdout",
     "output_type": "stream",
     "text": [
      "Exp val calculado:  -79.58981358948672\n"
     ]
    },
    {
     "name": "stderr",
     "output_type": "stream",
     "text": [
      "\r",
      " 68%|██████████████████████████▌            | 68/100 [2:05:54<58:24, 109.52s/it]"
     ]
    },
    {
     "name": "stdout",
     "output_type": "stream",
     "text": [
      "Exp val calculado:  -79.58911450791815\n"
     ]
    },
    {
     "name": "stderr",
     "output_type": "stream",
     "text": [
      "\r",
      " 69%|██████████████████████████▉            | 69/100 [2:07:48<57:14, 110.79s/it]"
     ]
    },
    {
     "name": "stdout",
     "output_type": "stream",
     "text": [
      "Exp val calculado:  -79.59486976961126\n"
     ]
    },
    {
     "name": "stderr",
     "output_type": "stream",
     "text": [
      "\r",
      " 70%|███████████████████████████▎           | 70/100 [2:09:41<55:48, 111.63s/it]"
     ]
    },
    {
     "name": "stdout",
     "output_type": "stream",
     "text": [
      "Exp val calculado:  -79.5951510605928\n"
     ]
    },
    {
     "name": "stderr",
     "output_type": "stream",
     "text": [
      "\r",
      " 71%|███████████████████████████▋           | 71/100 [2:11:31<53:39, 111.00s/it]"
     ]
    },
    {
     "name": "stdout",
     "output_type": "stream",
     "text": [
      "Exp val calculado:  -79.5868411412449\n"
     ]
    },
    {
     "name": "stderr",
     "output_type": "stream",
     "text": [
      "\r",
      " 72%|████████████████████████████           | 72/100 [2:13:24<52:03, 111.57s/it]"
     ]
    },
    {
     "name": "stdout",
     "output_type": "stream",
     "text": [
      "Exp val calculado:  -79.59521445891295\n"
     ]
    },
    {
     "name": "stderr",
     "output_type": "stream",
     "text": [
      "\r",
      " 73%|████████████████████████████▍          | 73/100 [2:15:16<50:20, 111.86s/it]"
     ]
    },
    {
     "name": "stdout",
     "output_type": "stream",
     "text": [
      "Exp val calculado:  -79.59204901529333\n"
     ]
    },
    {
     "name": "stderr",
     "output_type": "stream",
     "text": [
      "\r",
      " 74%|████████████████████████████▊          | 74/100 [2:17:03<47:49, 110.37s/it]"
     ]
    },
    {
     "name": "stdout",
     "output_type": "stream",
     "text": [
      "Exp val calculado:  -79.58657142655801\n"
     ]
    },
    {
     "name": "stderr",
     "output_type": "stream",
     "text": [
      "\r",
      " 75%|█████████████████████████████▎         | 75/100 [2:18:52<45:50, 110.01s/it]"
     ]
    },
    {
     "name": "stdout",
     "output_type": "stream",
     "text": [
      "Exp val calculado:  -79.58864596114462\n"
     ]
    },
    {
     "name": "stderr",
     "output_type": "stream",
     "text": [
      "\r",
      " 76%|█████████████████████████████▋         | 76/100 [2:20:44<44:10, 110.43s/it]"
     ]
    },
    {
     "name": "stdout",
     "output_type": "stream",
     "text": [
      "Exp val calculado:  -79.59157129307957\n"
     ]
    },
    {
     "name": "stderr",
     "output_type": "stream",
     "text": [
      "\r",
      " 77%|██████████████████████████████         | 77/100 [2:22:36<42:34, 111.06s/it]"
     ]
    },
    {
     "name": "stdout",
     "output_type": "stream",
     "text": [
      "Exp val calculado:  -79.5905488552843\n"
     ]
    },
    {
     "name": "stderr",
     "output_type": "stream",
     "text": [
      "\r",
      " 78%|██████████████████████████████▍        | 78/100 [2:24:30<40:57, 111.69s/it]"
     ]
    },
    {
     "name": "stdout",
     "output_type": "stream",
     "text": [
      "Exp val calculado:  -79.59015754753364\n"
     ]
    },
    {
     "name": "stderr",
     "output_type": "stream",
     "text": [
      "\r",
      " 79%|██████████████████████████████▊        | 79/100 [2:26:19<38:50, 110.99s/it]"
     ]
    },
    {
     "name": "stdout",
     "output_type": "stream",
     "text": [
      "Exp val calculado:  -79.59018502967024\n"
     ]
    },
    {
     "name": "stderr",
     "output_type": "stream",
     "text": [
      "\r",
      " 80%|███████████████████████████████▏       | 80/100 [2:28:11<37:05, 111.28s/it]"
     ]
    },
    {
     "name": "stdout",
     "output_type": "stream",
     "text": [
      "Exp val calculado:  -79.59071331828501\n"
     ]
    },
    {
     "name": "stderr",
     "output_type": "stream",
     "text": [
      "\r",
      " 81%|███████████████████████████████▌       | 81/100 [2:30:02<35:15, 111.36s/it]"
     ]
    },
    {
     "name": "stdout",
     "output_type": "stream",
     "text": [
      "Exp val calculado:  -79.58965444628333\n"
     ]
    },
    {
     "name": "stderr",
     "output_type": "stream",
     "text": [
      "\r",
      " 82%|███████████████████████████████▉       | 82/100 [2:31:48<32:53, 109.65s/it]"
     ]
    },
    {
     "name": "stdout",
     "output_type": "stream",
     "text": [
      "Exp val calculado:  -79.58672475667282\n"
     ]
    },
    {
     "name": "stderr",
     "output_type": "stream",
     "text": [
      "\r",
      " 83%|████████████████████████████████▎      | 83/100 [2:33:36<30:54, 109.10s/it]"
     ]
    },
    {
     "name": "stdout",
     "output_type": "stream",
     "text": [
      "Exp val calculado:  -79.58301214497804\n"
     ]
    },
    {
     "name": "stderr",
     "output_type": "stream",
     "text": [
      "\r",
      " 84%|████████████████████████████████▊      | 84/100 [2:35:29<29:26, 110.40s/it]"
     ]
    },
    {
     "name": "stdout",
     "output_type": "stream",
     "text": [
      "Exp val calculado:  -79.59174742526955\n"
     ]
    },
    {
     "name": "stderr",
     "output_type": "stream",
     "text": [
      "\r",
      " 85%|█████████████████████████████████▏     | 85/100 [2:37:16<27:21, 109.43s/it]"
     ]
    },
    {
     "name": "stdout",
     "output_type": "stream",
     "text": [
      "Exp val calculado:  -79.58825093373221\n"
     ]
    },
    {
     "name": "stderr",
     "output_type": "stream",
     "text": [
      "\r",
      " 86%|█████████████████████████████████▌     | 86/100 [2:39:01<25:12, 108.05s/it]"
     ]
    },
    {
     "name": "stdout",
     "output_type": "stream",
     "text": [
      "Exp val calculado:  -79.58217093936588\n"
     ]
    },
    {
     "name": "stderr",
     "output_type": "stream",
     "text": [
      "\r",
      " 87%|█████████████████████████████████▉     | 87/100 [2:40:55<23:45, 109.67s/it]"
     ]
    },
    {
     "name": "stdout",
     "output_type": "stream",
     "text": [
      "Exp val calculado:  -79.58929349576887\n"
     ]
    },
    {
     "name": "stderr",
     "output_type": "stream",
     "text": [
      "\r",
      " 88%|██████████████████████████████████▎    | 88/100 [2:42:45<21:58, 109.84s/it]"
     ]
    },
    {
     "name": "stdout",
     "output_type": "stream",
     "text": [
      "Exp val calculado:  -79.58792639027618\n"
     ]
    },
    {
     "name": "stderr",
     "output_type": "stream",
     "text": [
      "\r",
      " 89%|██████████████████████████████████▋    | 89/100 [2:44:35<20:07, 109.82s/it]"
     ]
    },
    {
     "name": "stdout",
     "output_type": "stream",
     "text": [
      "Exp val calculado:  -79.59075354764776\n"
     ]
    },
    {
     "name": "stderr",
     "output_type": "stream",
     "text": [
      "\r",
      " 90%|███████████████████████████████████    | 90/100 [2:46:24<18:15, 109.55s/it]"
     ]
    },
    {
     "name": "stdout",
     "output_type": "stream",
     "text": [
      "Exp val calculado:  -79.58329009530894\n"
     ]
    },
    {
     "name": "stderr",
     "output_type": "stream",
     "text": [
      "\r",
      " 91%|███████████████████████████████████▍   | 91/100 [2:48:08<16:13, 108.12s/it]"
     ]
    },
    {
     "name": "stdout",
     "output_type": "stream",
     "text": [
      "Exp val calculado:  -79.58227903320355\n"
     ]
    },
    {
     "name": "stderr",
     "output_type": "stream",
     "text": [
      "\r",
      " 92%|███████████████████████████████████▉   | 92/100 [2:49:59<14:31, 108.91s/it]"
     ]
    },
    {
     "name": "stdout",
     "output_type": "stream",
     "text": [
      "Exp val calculado:  -79.5883916209791\n"
     ]
    },
    {
     "name": "stderr",
     "output_type": "stream",
     "text": [
      "\r",
      " 93%|████████████████████████████████████▎  | 93/100 [2:51:46<12:38, 108.31s/it]"
     ]
    },
    {
     "name": "stdout",
     "output_type": "stream",
     "text": [
      "Exp val calculado:  -79.58604372451369\n"
     ]
    },
    {
     "name": "stderr",
     "output_type": "stream",
     "text": [
      "\r",
      " 94%|████████████████████████████████████▋  | 94/100 [2:53:38<10:56, 109.38s/it]"
     ]
    },
    {
     "name": "stdout",
     "output_type": "stream",
     "text": [
      "Exp val calculado:  -79.59074607612271\n"
     ]
    },
    {
     "name": "stderr",
     "output_type": "stream",
     "text": [
      "\r",
      " 95%|█████████████████████████████████████  | 95/100 [2:55:30<09:10, 110.07s/it]"
     ]
    },
    {
     "name": "stdout",
     "output_type": "stream",
     "text": [
      "Exp val calculado:  -79.59374853188213\n"
     ]
    },
    {
     "name": "stderr",
     "output_type": "stream",
     "text": [
      "\r",
      " 96%|█████████████████████████████████████▍ | 96/100 [2:57:23<07:24, 111.19s/it]"
     ]
    },
    {
     "name": "stdout",
     "output_type": "stream",
     "text": [
      "Exp val calculado:  -79.58788271960566\n"
     ]
    },
    {
     "name": "stderr",
     "output_type": "stream",
     "text": [
      "\r",
      " 97%|█████████████████████████████████████▊ | 97/100 [2:59:11<05:30, 110.17s/it]"
     ]
    },
    {
     "name": "stdout",
     "output_type": "stream",
     "text": [
      "Exp val calculado:  -79.58712087821212\n"
     ]
    },
    {
     "name": "stderr",
     "output_type": "stream",
     "text": [
      "\r",
      " 98%|██████████████████████████████████████▏| 98/100 [3:01:01<03:40, 110.08s/it]"
     ]
    },
    {
     "name": "stdout",
     "output_type": "stream",
     "text": [
      "Exp val calculado:  -79.58770391943901\n"
     ]
    },
    {
     "name": "stderr",
     "output_type": "stream",
     "text": [
      "\r",
      " 99%|██████████████████████████████████████▌| 99/100 [3:02:55<01:51, 111.11s/it]"
     ]
    },
    {
     "name": "stdout",
     "output_type": "stream",
     "text": [
      "Exp val calculado:  -79.58648880499372\n"
     ]
    },
    {
     "name": "stderr",
     "output_type": "stream",
     "text": [
      "100%|██████████████████████████████████████| 100/100 [3:04:40<00:00, 110.81s/it]"
     ]
    },
    {
     "name": "stdout",
     "output_type": "stream",
     "text": [
      "Exp val calculado:  -79.57985725014356\n"
     ]
    },
    {
     "name": "stderr",
     "output_type": "stream",
     "text": [
      "\n"
     ]
    }
   ],
   "source": [
    "results = []\n",
    "\n",
    "\n",
    "for i in tqdm(range(reps)):\n",
    "    algorithm = ExpVal(n_shots = total_shots-1000,\n",
    "            bodies = bodies, \n",
    "            r = r, \n",
    "            r_shots = 1000,\n",
    "            n_qubits = n_qubits)\n",
    "\n",
    "    algorithm.get_interferences(circ_gs)\n",
    "\n",
    "    coeffs, obs = get_obs_data(hamiltonian)\n",
    "\n",
    "    exp_val = algorithm.exp_val(obs)\n",
    "    \n",
    "    first_term = hamiltonian[0].coeffs[0].real\n",
    "\n",
    "    print('Exp val calculado: ', np.sum(exp_val*coeffs).real + first_term)\n",
    "    results.append(np.sum(exp_val*coeffs).real + first_term)"
   ]
  },
  {
   "cell_type": "code",
   "execution_count": 14,
   "id": "8f5a6cbc",
   "metadata": {
    "ExecuteTime": {
     "end_time": "2023-02-28T05:58:30.024889Z",
     "start_time": "2023-02-28T05:58:30.019432Z"
    }
   },
   "outputs": [
    {
     "name": "stdout",
     "output_type": "stream",
     "text": [
      "-79.59454251461337\n",
      "[7.44778174e-03 7.28378051e-05 1.43559224e-03 6.04523947e-03\n",
      " 7.03984591e-03 5.22140899e-03 6.21060430e-03 5.71142706e-03\n",
      " 6.16187546e-04 1.01319492e-02 4.48594387e-03 9.59659963e-03\n",
      " 5.18591078e-03 1.02376574e-02 3.25796458e-03 7.46907754e-03\n",
      " 3.92492511e-03 4.98478900e-03 7.13422399e-03 6.31936765e-03\n",
      " 1.08313128e-02 8.29065827e-03 3.53319589e-03 4.55110728e-03\n",
      " 6.55710570e-03 6.33938478e-03 1.22215862e-03 1.62720543e-03\n",
      " 8.83973589e-03 6.42920920e-03 5.88066761e-03 6.64293228e-03\n",
      " 6.09704823e-03 3.70331460e-03 7.99779550e-03 2.87678723e-03\n",
      " 8.46211960e-03 5.67379334e-03 3.63834384e-03 7.84662538e-03\n",
      " 6.97020902e-03 1.11831113e-02 8.37213305e-03 2.05265866e-03\n",
      " 8.57888736e-03 7.70242690e-03 9.41474317e-03 2.51749276e-03\n",
      " 4.54359548e-03 6.80241015e-03 7.92708591e-03 4.83592804e-03\n",
      " 6.72140287e-03 5.36316617e-03 6.62182564e-03 2.81588229e-03\n",
      " 6.39630238e-03 1.10940279e-02 2.16466145e-03 7.27533788e-03\n",
      " 6.15959011e-03 6.53723304e-03 4.25415852e-03 5.18942377e-03\n",
      " 7.53456259e-03 3.63559273e-03 4.72892513e-03 5.42800670e-03\n",
      " 3.27254998e-04 6.08545979e-04 7.70137337e-03 6.71944300e-04\n",
      " 2.49349932e-03 7.97108806e-03 5.89655347e-03 2.97122153e-03\n",
      " 3.99365933e-03 4.38496708e-03 4.35748494e-03 3.82919633e-03\n",
      " 4.88806833e-03 7.81775794e-03 1.15303696e-02 2.79508934e-03\n",
      " 6.29158088e-03 1.23715752e-02 5.24901884e-03 6.61612434e-03\n",
      " 3.78896697e-03 1.12524193e-02 1.22634814e-02 6.15089363e-03\n",
      " 8.49879010e-03 3.79643849e-03 7.93982731e-04 6.65979501e-03\n",
      " 7.42163640e-03 6.83859517e-03 8.05370962e-03 1.46852645e-02]\n",
      "0.006155241869926442\n"
     ]
    }
   ],
   "source": [
    "print(eig_gs)\n",
    "\n",
    "print(np.abs(results-eig_gs))\n",
    "\n",
    "print(np.median(np.abs(results-eig_gs)))"
   ]
  },
  {
   "cell_type": "code",
   "execution_count": 15,
   "id": "4b0cd336",
   "metadata": {
    "ExecuteTime": {
     "end_time": "2023-02-28T05:58:30.041014Z",
     "start_time": "2023-02-28T05:58:30.026614Z"
    }
   },
   "outputs": [],
   "source": [
    "num_paulis = len(hamiltonian)\n",
    "shots_runtime = total_shots//num_paulis\n",
    "shots_opflow = total_shots//num_paulis"
   ]
  },
  {
   "cell_type": "code",
   "execution_count": 16,
   "id": "22034c8e",
   "metadata": {
    "ExecuteTime": {
     "end_time": "2023-02-28T05:58:49.488403Z",
     "start_time": "2023-02-28T05:58:30.042757Z"
    }
   },
   "outputs": [],
   "source": [
    "from qiskit_ibm_runtime import QiskitRuntimeService, Estimator, Session, Options\n",
    "\n",
    "#QiskitRuntimeService.save_account(channel=\"ibm_quantum\", token=\"1a92dbd3ad8a3a75036e3b0fed7d2a10a0dfef2277960a619c033757aa1aa9bcc8f95922671a2fbd0b05339eea4aae6305bc43b5b2e6d33b161346f9983adf48\")\n",
    "service = QiskitRuntimeService(channel=\"ibm_quantum\")\n",
    "\n",
    "options = Options()\n",
    "options.optimization_level = 1\n",
    "options.resilience_level = 0\n",
    "options.execution.shots = shots_runtime\n",
    "\n",
    "# with Session(service=service, backend=\"ibmq_qasm_simulator\") as session:\n",
    "#     estimator = Estimator(session=session, options = options)\n",
    "\n",
    "#     job = estimator.run(circ_gs, hamiltonian)\n",
    "\n",
    "#     result = job.result()\n",
    "\n",
    "# result_runtime = result.values[0]\n",
    "# np.abs(result_runtime-eig_gs)"
   ]
  },
  {
   "cell_type": "code",
   "execution_count": 17,
   "id": "a8279d6b",
   "metadata": {
    "ExecuteTime": {
     "end_time": "2023-02-28T05:58:49.744151Z",
     "start_time": "2023-02-28T05:58:49.492500Z"
    }
   },
   "outputs": [
    {
     "ename": "NameError",
     "evalue": "name 'rep' is not defined",
     "output_type": "error",
     "traceback": [
      "\u001b[0;31m---------------------------------------------------------------------------\u001b[0m",
      "\u001b[0;31mNameError\u001b[0m                                 Traceback (most recent call last)",
      "\u001b[0;32m/tmp/ipykernel_1897173/1886095701.py\u001b[0m in \u001b[0;36m<module>\u001b[0;34m\u001b[0m\n\u001b[1;32m      1\u001b[0m \u001b[0mresults_runtime\u001b[0m \u001b[0;34m=\u001b[0m \u001b[0;34m[\u001b[0m\u001b[0;34m]\u001b[0m\u001b[0;34m\u001b[0m\u001b[0;34m\u001b[0m\u001b[0m\n\u001b[1;32m      2\u001b[0m \u001b[0;34m\u001b[0m\u001b[0m\n\u001b[0;32m----> 3\u001b[0;31m \u001b[0;32mfor\u001b[0m \u001b[0mi\u001b[0m \u001b[0;32min\u001b[0m \u001b[0mtqdm\u001b[0m\u001b[0;34m(\u001b[0m\u001b[0mrange\u001b[0m\u001b[0;34m(\u001b[0m\u001b[0mrep\u001b[0m\u001b[0;34m)\u001b[0m\u001b[0;34m)\u001b[0m\u001b[0;34m:\u001b[0m\u001b[0;34m\u001b[0m\u001b[0;34m\u001b[0m\u001b[0m\n\u001b[0m\u001b[1;32m      4\u001b[0m \u001b[0;34m\u001b[0m\u001b[0m\n\u001b[1;32m      5\u001b[0m     \u001b[0;32mwith\u001b[0m \u001b[0mSession\u001b[0m\u001b[0;34m(\u001b[0m\u001b[0mservice\u001b[0m\u001b[0;34m=\u001b[0m\u001b[0mservice\u001b[0m\u001b[0;34m,\u001b[0m \u001b[0mbackend\u001b[0m\u001b[0;34m=\u001b[0m\u001b[0;34m\"ibmq_qasm_simulator\"\u001b[0m\u001b[0;34m)\u001b[0m \u001b[0;32mas\u001b[0m \u001b[0msession\u001b[0m\u001b[0;34m:\u001b[0m\u001b[0;34m\u001b[0m\u001b[0;34m\u001b[0m\u001b[0m\n",
      "\u001b[0;31mNameError\u001b[0m: name 'rep' is not defined"
     ]
    }
   ],
   "source": [
    "results_runtime = []\n",
    "\n",
    "for i in tqdm(range(rep)):\n",
    "    \n",
    "    with Session(service=service, backend=\"ibmq_qasm_simulator\") as session:\n",
    "        estimator = Estimator(session=session, options = options)\n",
    "\n",
    "        job = estimator.run(circ_gs, hamiltonian)\n",
    "\n",
    "        result = job.result()\n",
    "\n",
    "    result_runtime = result.values[0]\n",
    "    \n",
    "    results_runtime.append(result_runtime)"
   ]
  },
  {
   "cell_type": "code",
   "execution_count": null,
   "id": "2d63fc9f",
   "metadata": {
    "ExecuteTime": {
     "end_time": "2023-02-28T05:58:49.746415Z",
     "start_time": "2023-02-28T05:58:49.746395Z"
    }
   },
   "outputs": [],
   "source": [
    "print(eig_gs)\n",
    "\n",
    "print(np.abs(results_runtime-eig_gs))\n",
    "\n",
    "print(np.median(np.abs(results_runtime-eig_gs)))"
   ]
  },
  {
   "cell_type": "code",
   "execution_count": null,
   "id": "f683dce6",
   "metadata": {
    "ExecuteTime": {
     "end_time": "2023-02-28T05:58:49.747854Z",
     "start_time": "2023-02-28T05:58:49.747835Z"
    }
   },
   "outputs": [],
   "source": [
    "# from qiskit.opflow import PauliExpectation, CircuitSampler, StateFn, CircuitStateFn\n",
    "# from qiskit import Aer\n",
    "# from qiskit.utils import QuantumInstance\n",
    "\n",
    "# backend = Aer.get_backend(\"aer_simulator\")\n",
    "# quantum_instance = QuantumInstance(backend, shots=shots_opflow)\n",
    "\n",
    "# op = hamiltonian\n",
    "# psi = CircuitStateFn(circ_gs)\n",
    "\n",
    "# measurable_expression = StateFn(op, is_measurement=True).compose(psi)\n",
    "# expectation = PauliExpectation().convert(measurable_expression)  \n",
    "# sampler = CircuitSampler(quantum_instance).convert(expectation)\n",
    "\n",
    "# result_opflow = sampler.eval().real\n",
    "# np.abs(result_opflow-eig_gs)"
   ]
  }
 ],
 "metadata": {
  "hide_input": false,
  "kernelspec": {
   "display_name": "Python 3 (ipykernel)",
   "language": "python",
   "name": "python3"
  },
  "language_info": {
   "codemirror_mode": {
    "name": "ipython",
    "version": 3
   },
   "file_extension": ".py",
   "mimetype": "text/x-python",
   "name": "python",
   "nbconvert_exporter": "python",
   "pygments_lexer": "ipython3",
   "version": "3.9.16"
  }
 },
 "nbformat": 4,
 "nbformat_minor": 5
}
