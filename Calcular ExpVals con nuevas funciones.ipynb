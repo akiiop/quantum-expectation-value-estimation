{
 "cells": [
  {
   "cell_type": "code",
   "execution_count": 1,
   "id": "6b635891",
   "metadata": {
    "ExecuteTime": {
     "end_time": "2023-02-27T19:18:46.775390Z",
     "start_time": "2023-02-27T19:18:45.988784Z"
    }
   },
   "outputs": [],
   "source": [
    "import sys\n",
    "sys.path.append(\"./expectation_value\")\n",
    "\n",
    "from expectationvalue import ExpVal\n",
    "import numpy as np\n",
    "import qiskit.quantum_info as qif\n",
    "from qiskit_nature.second_q.mappers import JordanWignerMapper, QubitConverter"
   ]
  },
  {
   "cell_type": "code",
   "execution_count": 2,
   "id": "fc45b253",
   "metadata": {
    "ExecuteTime": {
     "end_time": "2023-02-27T19:18:47.279492Z",
     "start_time": "2023-02-27T19:18:46.778117Z"
    }
   },
   "outputs": [],
   "source": [
    "from qiskit_nature.second_q.transformers import FreezeCoreTransformer\n",
    "from qiskit.algorithms.minimum_eigensolvers import NumPyMinimumEigensolver\n",
    "from qiskit_nature.second_q.algorithms import GroundStateEigensolver\n",
    "from qiskit_nature.units import DistanceUnit\n",
    "from qiskit_nature.second_q.drivers import PySCFDriver\n",
    "\n",
    "\n",
    "class MoleculeHamiltonian():\n",
    "    def __init__(self,\n",
    "                 molecule,\n",
    "                 converter,\n",
    "                 basis,\n",
    "                ):\n",
    "        self.molecule = molecule\n",
    "        self.basis = basis\n",
    "        driver = PySCFDriver(\n",
    "            atom= self.molecule,\n",
    "            basis=self.basis,\n",
    "            charge=0,\n",
    "            spin=0,\n",
    "            unit=DistanceUnit.ANGSTROM,\n",
    "            )\n",
    "        \n",
    "        self.problem = driver.run()\n",
    "        self.converter = converter\n",
    "        \n",
    "    def Hamiltonian(self,\n",
    "                    freeze_core = True,\n",
    "                    remove_orbitals = None\n",
    "                   ):\n",
    "        problem = self.problem\n",
    "        fermionic_op = self.problem.hamiltonian.second_q_op()\n",
    "            \n",
    "        if freeze_core:\n",
    "            fc_transformer = FreezeCoreTransformer(freeze_core=freeze_core, remove_orbitals=remove_orbitals)\n",
    "            problem = fc_transformer.transform(problem)\n",
    "            fermionic_op = problem.hamiltonian.second_q_op()\n",
    "            \n",
    "        qubit_op = self.converter.convert(fermionic_op,\n",
    "                                           sector_locator=problem.symmetry_sector_locator)\n",
    "        return qubit_op\n",
    "    \n",
    "    def ComputeGroundState(self , circuit = True):\n",
    "        solver = NumPyMinimumEigensolver()\n",
    "        \n",
    "        ground_solver = GroundStateEigensolver(self.converter, solver)\n",
    "        ground_state = ground_solver.solve(self.problem)\n",
    "        \n",
    "        state = ground_state.groundstate[0]\n",
    "        eigenvalue = ground_state.groundenergy\n",
    "        \n",
    "        if circuit:\n",
    "            return state, eigenvalue\n",
    "        else:\n",
    "            return qif.Statevector(state).data, eigenvalue"
   ]
  },
  {
   "cell_type": "code",
   "execution_count": 8,
   "id": "51bd9e21",
   "metadata": {
    "ExecuteTime": {
     "end_time": "2023-02-27T19:19:10.761989Z",
     "start_time": "2023-02-27T19:19:10.750494Z"
    }
   },
   "outputs": [],
   "source": [
    "def get_number_nbody_terms(hamiltonian):\n",
    "    \"\"\"\n",
    "    Gets the needed data of the hamiltonian to compute the expectation values using ExpVal.exp_val().\n",
    "\n",
    "\n",
    "    Parameters\n",
    "    ----------\n",
    "    hamiltonian : PauliSumOp.\n",
    "        Hamiltonian.\n",
    "\n",
    "\n",
    "    Returns\n",
    "    -------\n",
    "    bodies : list.\n",
    "        N-bodies interactions.\n",
    "    \"\"\"\n",
    "    \n",
    "    n_bodies_inter = []\n",
    "    \n",
    "    for i in range(len(hamiltonian)):\n",
    "        pauli_string = hamiltonian[i].to_pauli_op().primitive.to_label()\n",
    "        num_x = pauli_string.count('X')\n",
    "        num_y = pauli_string.count('Y')\n",
    "        \n",
    "        n_body_terms = num_x+num_y\n",
    "        \n",
    "        n_bodies_inter.append(n_body_terms)\n",
    "    \n",
    "    bodies = list(set(n_bodies_inter))\n",
    "    \n",
    "    return bodies\n",
    "\n",
    "\n",
    "def get_obs_data(hamiltonian):\n",
    "    \"\"\"\n",
    "    Gets the needed data of the hamiltonian to compute the expectation values using ExpVal.exp_val().\n",
    "\n",
    "\n",
    "    Parameters\n",
    "    ----------\n",
    "    hamiltonian : PauliSumOp.\n",
    "        Hamiltonian.\n",
    "\n",
    "\n",
    "    Returns\n",
    "    -------\n",
    "    coeffs : array(num_paulis).\n",
    "        Coefficients of each pauli string of the hamiltonian.\n",
    "    obs : array(2, 2, n_qubits, num_paulis)\n",
    "        Observable made of every pauli string of the hamiltonian.\n",
    "    \"\"\"\n",
    "    \n",
    "    num_paulis = len(hamiltonian)\n",
    "    n_qubits = hamiltonian.num_qubits\n",
    "\n",
    "    paulis_dict = {'X': np.array([[0., 1.], [1., 0.]], dtype=\"complex\"),\n",
    "               'Y': np.array([[0., -1.*1j], [1.*1j, 0.]], dtype=\"complex\"),\n",
    "               'Z': np.array([[1., 0], [0, -1.]], dtype=\"complex\"),\n",
    "               'I': np.array([[1., 0], [0, 1.]], dtype=\"complex\")}\n",
    "\n",
    "    obs = np.zeros((2, 2, n_qubits, num_paulis), dtype=complex)\n",
    "    coeffs = np.zeros(num_paulis, dtype=complex)\n",
    "\n",
    "    for i in range(num_paulis):\n",
    "        pauli_string_coeff = hamiltonian[i].coeffs[0]\n",
    "        pauli_string = hamiltonian[i].to_pauli_op().primitive.to_label()\n",
    "        pauli_string_list = [paulis_dict[i] for i in pauli_string]\n",
    "        obs[:,:,:,i] =  np.stack(pauli_string_list, axis=-1)\n",
    "        coeffs[i] = pauli_string_coeff\n",
    "    \n",
    "    return coeffs, obs"
   ]
  },
  {
   "cell_type": "code",
   "execution_count": 9,
   "id": "880a672e",
   "metadata": {
    "ExecuteTime": {
     "end_time": "2023-02-27T19:19:10.905755Z",
     "start_time": "2023-02-27T19:19:10.901292Z"
    }
   },
   "outputs": [],
   "source": [
    "#########################################################################################################"
   ]
  },
  {
   "cell_type": "code",
   "execution_count": 10,
   "id": "cb7eb5b3",
   "metadata": {
    "ExecuteTime": {
     "end_time": "2023-02-27T19:19:11.067965Z",
     "start_time": "2023-02-27T19:19:11.061518Z"
    }
   },
   "outputs": [],
   "source": [
    "dist = 1.0\n",
    "molecules = {\n",
    "    \"H2Be\": \"Be .0 .0 .0; H .0 .0 -\" + str(dist) + \"; H .0 .0 \" + str(dist),\n",
    "    \"H2\":\"H .0 .0 .0; H .0 .0 \" + str(dist),\n",
    "    \"LiH\":\"Li .0 .0 .0; H .0 .0 \" + str(dist),\n",
    "    \"H2O\": \"H -0.0399 -0.0038 0.0; O 1.5780 0.8540 0.0; H 2.7909 -0.5159 0.0\",\n",
    "    \"NH4\": \"N 0.0 0.0 0.149; H 0.0 0.947 -0.348; H  0.821 -0.474 -0.348; H -0.821 -0.474 -0.348\"\n",
    "}"
   ]
  },
  {
   "cell_type": "code",
   "execution_count": 11,
   "id": "58e6a7ee",
   "metadata": {
    "ExecuteTime": {
     "end_time": "2023-02-27T19:19:12.003405Z",
     "start_time": "2023-02-27T19:19:11.998602Z"
    }
   },
   "outputs": [],
   "source": [
    "# mol = 'H2'\n",
    "# mol = 'H2Be'\n",
    "mol = 'LiH'\n",
    "# mol = \"H2O\"\n",
    "# mol = \"NH4\""
   ]
  },
  {
   "cell_type": "code",
   "execution_count": 12,
   "id": "12f490f2",
   "metadata": {
    "ExecuteTime": {
     "end_time": "2023-02-27T19:19:13.256910Z",
     "start_time": "2023-02-27T19:19:12.167046Z"
    }
   },
   "outputs": [],
   "source": [
    "converter = QubitConverter( JordanWignerMapper(), z2symmetry_reduction=None)\n",
    "molecular_hamiltonian = MoleculeHamiltonian(molecules[mol] , converter=converter, basis='sto3g')\n",
    "hamiltonian = molecular_hamiltonian.Hamiltonian( freeze_core = None )\n",
    "problem = molecular_hamiltonian.problem\n",
    "n_qubits = hamiltonian.num_qubits\n",
    "bodies = get_number_nbody_terms(hamiltonian)"
   ]
  },
  {
   "cell_type": "code",
   "execution_count": 13,
   "id": "d134f2ef",
   "metadata": {
    "ExecuteTime": {
     "end_time": "2023-02-27T19:19:13.266517Z",
     "start_time": "2023-02-27T19:19:13.259512Z"
    }
   },
   "outputs": [
    {
     "data": {
      "text/plain": [
       "qiskit.opflow.primitive_ops.pauli_sum_op.PauliSumOp"
      ]
     },
     "execution_count": 13,
     "metadata": {},
     "output_type": "execute_result"
    }
   ],
   "source": [
    "type(hamiltonian)"
   ]
  },
  {
   "cell_type": "code",
   "execution_count": 14,
   "id": "8be54dd2",
   "metadata": {
    "ExecuteTime": {
     "end_time": "2023-02-27T19:19:16.892531Z",
     "start_time": "2023-02-27T19:19:13.268375Z"
    }
   },
   "outputs": [
    {
     "data": {
      "text/plain": [
       "-9.371991912791243"
      ]
     },
     "execution_count": 14,
     "metadata": {},
     "output_type": "execute_result"
    }
   ],
   "source": [
    "circ_gs, eig_gs = molecular_hamiltonian.ComputeGroundState()\n",
    "eig_gs"
   ]
  },
  {
   "cell_type": "code",
   "execution_count": null,
   "id": "35ac3201",
   "metadata": {
    "ExecuteTime": {
     "start_time": "2023-02-27T19:20:02.832Z"
    }
   },
   "outputs": [
    {
     "name": "stdout",
     "output_type": "stream",
     "text": [
      "Exp val calculado:  -9.369668300217091\n",
      "Exp val calculado:  -9.368752411889309\n",
      "Exp val calculado:  -9.366922049876614\n",
      "Exp val calculado:  -9.372038872947638\n",
      "Exp val calculado:  -9.368319668561474\n",
      "Exp val calculado:  -9.364757602092215\n",
      "Exp val calculado:  -9.369064257571454\n",
      "Exp val calculado:  -9.369815507669623\n",
      "Exp val calculado:  -9.362833760632517\n",
      "Exp val calculado:  -9.369594206678439\n",
      "Exp val calculado:  -9.366495794020828\n",
      "Exp val calculado:  -9.369848021378823\n",
      "Exp val calculado:  -9.36741644995471\n",
      "Exp val calculado:  -9.362213839695475\n",
      "Exp val calculado:  -9.36562120794275\n",
      "Exp val calculado:  -9.367145351793516\n",
      "Exp val calculado:  -9.366473947145167\n",
      "Exp val calculado:  -9.37269838977472\n",
      "Exp val calculado:  -9.367769125034718\n",
      "Exp val calculado:  -9.3634459646961\n",
      "Exp val calculado:  -9.364018281886029\n",
      "Exp val calculado:  -9.370499397837484\n",
      "Exp val calculado:  -9.365769558657183\n",
      "Exp val calculado:  -9.372134313966155\n",
      "Exp val calculado:  -9.36423928390248\n",
      "Exp val calculado:  -9.368426172508952\n",
      "Exp val calculado:  -9.365335317650906\n",
      "Exp val calculado:  -9.364683406013224\n",
      "Exp val calculado:  -9.370107121649358\n",
      "Exp val calculado:  -9.372048610854057\n",
      "Exp val calculado:  -9.371190069832364\n",
      "Exp val calculado:  -9.364777559120386\n",
      "Exp val calculado:  -9.369002088336167\n",
      "Exp val calculado:  -9.366293539259743\n",
      "Exp val calculado:  -9.372354537678293\n",
      "Exp val calculado:  -9.366157039957525\n",
      "Exp val calculado:  -9.375356876938852\n",
      "Exp val calculado:  -9.371000219604534\n",
      "Exp val calculado:  -9.366483247610548\n",
      "Exp val calculado:  -9.366287653599736\n",
      "Exp val calculado:  -9.366253716694844\n",
      "Exp val calculado:  -9.36895662068716\n",
      "Exp val calculado:  -9.366994023621988\n",
      "Exp val calculado:  -9.366013460128732\n",
      "Exp val calculado:  -9.368356056949379\n",
      "Exp val calculado:  -9.373520828572223\n",
      "Exp val calculado:  -9.368494378167949\n",
      "Exp val calculado:  -9.367174993772846\n",
      "Exp val calculado:  -9.367830455043658\n",
      "Exp val calculado:  -9.367570945110186\n",
      "Exp val calculado:  -9.365716890535872\n",
      "Exp val calculado:  -9.367939104050228\n",
      "Exp val calculado:  -9.371074153686282\n",
      "Exp val calculado:  -9.37243659074431\n",
      "Exp val calculado:  -9.363400940278096\n",
      "Exp val calculado:  -9.365566890450133\n",
      "Exp val calculado:  -9.369011861409843\n",
      "Exp val calculado:  -9.370786069638697\n",
      "Exp val calculado:  -9.36836532447747\n",
      "Exp val calculado:  -9.370551835503584\n",
      "Exp val calculado:  -9.377802247245425\n",
      "Exp val calculado:  -9.368405306931745\n",
      "Exp val calculado:  -9.369985919015134\n",
      "Exp val calculado:  -9.369238182120126\n",
      "Exp val calculado:  -9.367232487721218\n",
      "Exp val calculado:  -9.371700706516913\n",
      "Exp val calculado:  -9.373066500872117\n",
      "Exp val calculado:  -9.367489263822597\n",
      "Exp val calculado:  -9.369417721730033\n"
     ]
    }
   ],
   "source": [
    "results = []\n",
    "\n",
    "for i in range(100):\n",
    "    algorithm = ExpVal(n_shots = 300000,\n",
    "            bodies = bodies, \n",
    "            r = 9, \n",
    "            r_shots = 1000,\n",
    "            n_qubits = n_qubits)\n",
    "\n",
    "    algorithm.get_interferences(circ_gs)\n",
    "\n",
    "    coeffs, obs = get_obs_data(hamiltonian)\n",
    "\n",
    "    exp_val = algorithm.exp_val(obs)\n",
    "\n",
    "    print('Exp val calculado: ', np.sum(exp_val*coeffs).real)\n",
    "    results.append(np.sum(exp_val*coeffs).real)"
   ]
  },
  {
   "cell_type": "code",
   "execution_count": null,
   "id": "b74c91d6",
   "metadata": {
    "ExecuteTime": {
     "start_time": "2023-02-27T19:20:03.068Z"
    }
   },
   "outputs": [],
   "source": [
    "np.abs(results-eig_gs)"
   ]
  },
  {
   "cell_type": "code",
   "execution_count": null,
   "id": "7c3dd0da",
   "metadata": {
    "ExecuteTime": {
     "start_time": "2023-02-27T19:20:03.411Z"
    }
   },
   "outputs": [],
   "source": [
    "np.mean(np.abs(results-eig_gs))"
   ]
  }
 ],
 "metadata": {
  "hide_input": false,
  "kernelspec": {
   "display_name": "Python 3 (ipykernel)",
   "language": "python",
   "name": "python3"
  },
  "language_info": {
   "codemirror_mode": {
    "name": "ipython",
    "version": 3
   },
   "file_extension": ".py",
   "mimetype": "text/x-python",
   "name": "python",
   "nbconvert_exporter": "python",
   "pygments_lexer": "ipython3",
   "version": "3.9.16"
  }
 },
 "nbformat": 4,
 "nbformat_minor": 5
}
