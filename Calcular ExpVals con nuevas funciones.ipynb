{
 "cells": [
  {
   "cell_type": "code",
   "execution_count": 19,
   "id": "dad0fdf6",
   "metadata": {
    "ExecuteTime": {
     "end_time": "2023-02-27T18:25:07.588952Z",
     "start_time": "2023-02-27T18:25:07.565735Z"
    }
   },
   "outputs": [],
   "source": [
    "import sys\n",
    "sys.path.append(\"./expectation_value\")\n",
    "\n",
    "from expectationvalue import ExpVal\n",
    "import numpy as np\n",
    "import qiskit.quantum_info as qi"
   ]
  },
  {
   "cell_type": "code",
   "execution_count": 20,
   "id": "55eceb5b",
   "metadata": {
    "ExecuteTime": {
     "end_time": "2023-02-27T18:25:08.733060Z",
     "start_time": "2023-02-27T18:25:08.707498Z"
    }
   },
   "outputs": [],
   "source": [
    "from qiskit_nature.second_q.transformers import FreezeCoreTransformer\n",
    "from qiskit.algorithms.minimum_eigensolvers import NumPyMinimumEigensolver\n",
    "from qiskit_nature.second_q.algorithms import GroundStateEigensolver\n",
    "from qiskit_nature.units import DistanceUnit\n",
    "from qiskit_nature.second_q.drivers import PySCFDriver\n",
    "import qiskit.quantum_info as qif\n",
    "\n",
    "\n",
    "class MoleculeHamiltonian():\n",
    "    def __init__(self,\n",
    "                 molecule,\n",
    "                 converter,\n",
    "                 basis,\n",
    "                ):\n",
    "        self.molecule = molecule\n",
    "        self.basis = basis\n",
    "        driver = PySCFDriver(\n",
    "            atom= self.molecule,\n",
    "            basis=self.basis,\n",
    "            charge=0,\n",
    "            spin=0,\n",
    "            unit=DistanceUnit.ANGSTROM,\n",
    "            )\n",
    "        \n",
    "        self.problem = driver.run()\n",
    "        self.converter = converter\n",
    "        \n",
    "    def Hamiltonian(self,\n",
    "                    freeze_core = True,\n",
    "                    remove_orbitals = None\n",
    "                   ):\n",
    "        problem = self.problem\n",
    "        fermionic_op = self.problem.hamiltonian.second_q_op()\n",
    "            \n",
    "        if freeze_core:\n",
    "            fc_transformer = FreezeCoreTransformer(freeze_core=freeze_core, remove_orbitals=remove_orbitals)\n",
    "            problem = fc_transformer.transform(problem)\n",
    "            fermionic_op = problem.hamiltonian.second_q_op()\n",
    "            \n",
    "        qubit_op = self.converter.convert(fermionic_op,\n",
    "                                           sector_locator=problem.symmetry_sector_locator)\n",
    "        return qubit_op\n",
    "    \n",
    "    def ComputeGroundState(self , circuit = True):\n",
    "        solver = NumPyMinimumEigensolver()\n",
    "        \n",
    "        ground_solver = GroundStateEigensolver(self.converter, solver)\n",
    "        ground_state = ground_solver.solve(self.problem)\n",
    "        \n",
    "        state = ground_state.groundstate[0]\n",
    "        eigenvalue = ground_state.groundenergy\n",
    "        \n",
    "        if circuit:\n",
    "            return state, eigenvalue\n",
    "        else:\n",
    "            return qif.Statevector(state).data, eigenvalue"
   ]
  },
  {
   "cell_type": "code",
   "execution_count": 21,
   "id": "dd3e3753",
   "metadata": {
    "ExecuteTime": {
     "end_time": "2023-02-27T18:25:08.990491Z",
     "start_time": "2023-02-27T18:25:08.981232Z"
    }
   },
   "outputs": [],
   "source": [
    "dist = 1.0\n",
    "molecules = {\n",
    "    \"H2Be\": \"Be .0 .0 .0; H .0 .0 -\" + str(dist) + \"; H .0 .0 \" + str(dist),\n",
    "    \"H2\":\"H .0 .0 .0; H .0 .0 \" + str(dist),\n",
    "    \"LiH\":\"Li .0 .0 .0; H .0 .0 \" + str(dist),\n",
    "    \"H2O\": \"H -0.0399 -0.0038 0.0; O 1.5780 0.8540 0.0; H 2.7909 -0.5159 0.0\",\n",
    "    \"NH4\": \"N 0.0 0.0 0.149; H 0.0 0.947 -0.348; H  0.821 -0.474 -0.348; H -0.821 -0.474 -0.348\"\n",
    "}"
   ]
  },
  {
   "cell_type": "code",
   "execution_count": 22,
   "id": "162f86b6",
   "metadata": {
    "ExecuteTime": {
     "end_time": "2023-02-27T18:25:09.263543Z",
     "start_time": "2023-02-27T18:25:09.257517Z"
    }
   },
   "outputs": [],
   "source": [
    "mol = 'H2'\n",
    "# mol = 'H2Be'\n",
    "# mol = 'LiH'\n",
    "# mol = \"H2O\"\n",
    "# mol = \"NH4\""
   ]
  },
  {
   "cell_type": "code",
   "execution_count": 23,
   "id": "e83ebe98",
   "metadata": {
    "ExecuteTime": {
     "end_time": "2023-02-27T18:25:09.748718Z",
     "start_time": "2023-02-27T18:25:09.553984Z"
    }
   },
   "outputs": [],
   "source": [
    "from qiskit_nature.second_q.mappers import JordanWignerMapper, QubitConverter\n",
    "\n",
    "\n",
    "converter = QubitConverter( JordanWignerMapper(), z2symmetry_reduction=None)\n",
    "molecular_hamiltonian = MoleculeHamiltonian(molecules[mol] , converter=converter, basis='sto3g')\n",
    "hamiltonian = molecular_hamiltonian.Hamiltonian( freeze_core = None )\n",
    "problem = molecular_hamiltonian.problem\n",
    "n_qubits = hamiltonian.num_qubits"
   ]
  },
  {
   "cell_type": "code",
   "execution_count": 24,
   "id": "9ce4b721",
   "metadata": {
    "ExecuteTime": {
     "end_time": "2023-02-27T18:25:09.808492Z",
     "start_time": "2023-02-27T18:25:09.793349Z"
    }
   },
   "outputs": [
    {
     "name": "stdout",
     "output_type": "stream",
     "text": [
      "[0, 4]\n"
     ]
    }
   ],
   "source": [
    "def get_number_nbody_terms(qubit_op):\n",
    "    \n",
    "    n_bodies_inter = []\n",
    "    \n",
    "    for i in range(len(qubit_op)):\n",
    "        pauli_string = qubit_op[i].to_pauli_op().primitive.to_label()\n",
    "        num_x = pauli_string.count('X')\n",
    "        num_y = pauli_string.count('Y')\n",
    "        \n",
    "        n_body_terms = num_x+num_y\n",
    "        \n",
    "        n_bodies_inter.append(n_body_terms)\n",
    "        \n",
    "    return list(set(n_bodies_inter))\n",
    "\n",
    "bodies = get_number_nbody_terms(hamiltonian)\n",
    "\n",
    "print(bodies)"
   ]
  },
  {
   "cell_type": "code",
   "execution_count": 25,
   "id": "c2b5bca2",
   "metadata": {
    "ExecuteTime": {
     "end_time": "2023-02-27T18:25:10.317114Z",
     "start_time": "2023-02-27T18:25:10.222179Z"
    }
   },
   "outputs": [],
   "source": [
    "circ_gs, eig_gs = molecular_hamiltonian.ComputeGroundState()"
   ]
  },
  {
   "cell_type": "code",
   "execution_count": 26,
   "id": "2fbe64d2",
   "metadata": {
    "ExecuteTime": {
     "end_time": "2023-02-27T18:25:10.862098Z",
     "start_time": "2023-02-27T18:25:10.856576Z"
    }
   },
   "outputs": [],
   "source": [
    "algorithm = ExpVal(n_shots = 10000,\n",
    "        bodies = bodies, \n",
    "        r = 4, \n",
    "        r_shots = 1000,\n",
    "        n_qubits = n_qubits)"
   ]
  },
  {
   "cell_type": "code",
   "execution_count": null,
   "id": "893de173",
   "metadata": {},
   "outputs": [],
   "source": [
    "shadows = algorithm.get_intefereces()"
   ]
  }
 ],
 "metadata": {
  "hide_input": false,
  "kernelspec": {
   "display_name": "Python 3 (ipykernel)",
   "language": "python",
   "name": "python3"
  },
  "language_info": {
   "codemirror_mode": {
    "name": "ipython",
    "version": 3
   },
   "file_extension": ".py",
   "mimetype": "text/x-python",
   "name": "python",
   "nbconvert_exporter": "python",
   "pygments_lexer": "ipython3",
   "version": "3.9.16"
  }
 },
 "nbformat": 4,
 "nbformat_minor": 5
}
