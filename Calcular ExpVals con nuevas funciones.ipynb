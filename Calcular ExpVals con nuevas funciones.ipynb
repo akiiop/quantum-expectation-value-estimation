{
 "cells": [
  {
   "cell_type": "code",
   "execution_count": 1,
   "id": "4255cc7e",
   "metadata": {
    "ExecuteTime": {
     "end_time": "2023-02-28T00:20:50.797939Z",
     "start_time": "2023-02-28T00:20:49.998627Z"
    }
   },
   "outputs": [],
   "source": [
    "import sys\n",
    "sys.path.append(\"./expectation_value\")\n",
    "\n",
    "from expectationvalue import ExpVal\n",
    "import numpy as np\n",
    "import qiskit.quantum_info as qif\n",
    "from qiskit_nature.second_q.mappers import JordanWignerMapper, QubitConverter\n",
    "from tqdm import tqdm\n"
   ]
  },
  {
   "cell_type": "code",
   "execution_count": 2,
   "id": "1cba85d7",
   "metadata": {
    "ExecuteTime": {
     "end_time": "2023-02-28T00:20:51.305228Z",
     "start_time": "2023-02-28T00:20:50.800598Z"
    },
    "code_folding": [
     7
    ]
   },
   "outputs": [],
   "source": [
    "from qiskit_nature.second_q.transformers import FreezeCoreTransformer\n",
    "from qiskit.algorithms.minimum_eigensolvers import NumPyMinimumEigensolver\n",
    "from qiskit_nature.second_q.algorithms import GroundStateEigensolver\n",
    "from qiskit_nature.units import DistanceUnit\n",
    "from qiskit_nature.second_q.drivers import PySCFDriver\n",
    "\n",
    "\n",
    "class MoleculeHamiltonian():\n",
    "    \"\"\"\n",
    "    The MoleculeHamiltonian class uses qiskit_nature functions to easly obtain the qubit hamiltonian and\n",
    "    groundstate/ground energy for a given molecule.\n",
    "    \n",
    "    \"\"\"\n",
    "    \n",
    "    def __init__(self,\n",
    "                 molecule,\n",
    "                 converter = QubitConverter(JordanWignerMapper()),\n",
    "                 basis = 'sto3g',\n",
    "                ):\n",
    "        \"\"\"\n",
    "\n",
    "        Parameters\n",
    "        ----------\n",
    "        molecule : string.\n",
    "            Molecule geometry.\n",
    "        converter : QubitConverter.\n",
    "            Convert which transforms the second quantized hamiltonian to a qubit hamiltonian. By default,\n",
    "            we use the JordanWignerMapper without reductions.\n",
    "        basis : string.\n",
    "            Basis set name as recognized by PySCF. We use sto3g as default, but others can be chosen\n",
    "            from the list of PySCF’s valid basis set names 1_.\n",
    "        \n",
    "        . _1: https://pyscf.org/pyscf_api_docs/pyscf.gto.basis.html#module-pyscf.gto.basis\n",
    "        \"\"\"\n",
    "        \n",
    "        self.molecule = molecule\n",
    "        self.basis = basis\n",
    "        driver = PySCFDriver(\n",
    "            atom= self.molecule,\n",
    "            basis=self.basis,\n",
    "            charge=0,\n",
    "            spin=0,\n",
    "            unit=DistanceUnit.ANGSTROM,\n",
    "            )                                  # Define the PySCFDriver for a given molecule\n",
    "        \n",
    "        self.driver = driver\n",
    "        self.problem = driver.run()            # Define the ElectronicStructureProblem from the driver\n",
    "        self.converter = converter\n",
    "        \n",
    "    def Hamiltonian(self,\n",
    "                    freeze_core = False,\n",
    "                    remove_orbitals = None):\n",
    "        \n",
    "        \n",
    "        \"\"\"\n",
    "        Returns the qubit hamiltonian, allowing Active-Space reduction using the FreezeCoreTransformer to\n",
    "        obtain a hamiltonian with a lower number of qubits.\n",
    "\n",
    "\n",
    "        Parameters\n",
    "        ----------\n",
    "        freeze_core : bool.\n",
    "            Choose to inactive and remove the core orbitals according to count_core_orbitals.\n",
    "        remove_orbitals : List, optional.\n",
    "            Choose to remove aditional orbitals.\n",
    "            \n",
    "        Returns\n",
    "        -------\n",
    "        qubit_op : PauliSumOp.\n",
    "            Qubit hamiltonian.\n",
    "        \"\"\"\n",
    "        problem = self.problem\n",
    "        fermionic_op = self.problem.hamiltonian.second_q_op()\n",
    "            \n",
    "        if freeze_core or remove_orbitals is not None:\n",
    "            fc_transformer = FreezeCoreTransformer(freeze_core=freeze_core, remove_orbitals=remove_orbitals)\n",
    "            problem = fc_transformer.transform(problem)\n",
    "            fermionic_op = problem.hamiltonian.second_q_op()\n",
    "            \n",
    "        qubit_op = self.converter.convert(fermionic_op,\n",
    "                                           sector_locator=problem.symmetry_sector_locator)\n",
    "        return qubit_op\n",
    "    \n",
    "    def ComputeGroundState(self , circuit = True):\n",
    "        \n",
    "        \"\"\"\n",
    "        Compute the exact ground state and ground state energy using the NumPyMinimumEigensolver.\n",
    "\n",
    "        Parameters\n",
    "        ----------\n",
    "        circuit : bool.\n",
    "            If True, returns a quantum circuit that constructs the ground state. If False,\n",
    "            returns the ground state as an array using Statevector.\n",
    "\n",
    "\n",
    "        Returns\n",
    "        -------\n",
    "        state : QuantumCircuit or array(2**num_qubits)\n",
    "            Ground state as a quantum circuit or as an array.\n",
    "        eigenvalue : float.\n",
    "            Ground state energy.\n",
    "        \"\"\"\n",
    "        solver = NumPyMinimumEigensolver()\n",
    "        \n",
    "        ground_solver = GroundStateEigensolver(self.converter, solver)\n",
    "        ground_state = ground_solver.solve(self.problem)\n",
    "        \n",
    "        state = ground_state.groundstate[0]\n",
    "        eigenvalue = ground_state.groundenergy\n",
    "        \n",
    "        if circuit:\n",
    "            return state, eigenvalue\n",
    "        else:\n",
    "            return qif.Statevector(state).data, eigenvalue"
   ]
  },
  {
   "cell_type": "code",
   "execution_count": 3,
   "id": "4ca1eec3",
   "metadata": {
    "ExecuteTime": {
     "end_time": "2023-02-28T00:20:51.316509Z",
     "start_time": "2023-02-28T00:20:51.307740Z"
    },
    "code_folding": [
     0,
     33
    ]
   },
   "outputs": [],
   "source": [
    "def get_number_nbody_terms(hamiltonian):\n",
    "    \"\"\"\n",
    "    Gets the needed data of the hamiltonian to compute the expectation values using ExpVal.exp_val().\n",
    "\n",
    "\n",
    "    Parameters\n",
    "    ----------\n",
    "    hamiltonian : PauliSumOp.\n",
    "        Hamiltonian.\n",
    "\n",
    "\n",
    "    Returns\n",
    "    -------\n",
    "    bodies : list.\n",
    "        N-bodies interactions.\n",
    "    \"\"\"\n",
    "    \n",
    "    n_bodies_inter = []\n",
    "    \n",
    "    for i in range(len(hamiltonian)):\n",
    "        pauli_string = hamiltonian[i].to_pauli_op().primitive.to_label()\n",
    "        num_x = pauli_string.count('X')\n",
    "        num_y = pauli_string.count('Y')\n",
    "        \n",
    "        n_body_terms = num_x+num_y\n",
    "        \n",
    "        n_bodies_inter.append(n_body_terms)\n",
    "    \n",
    "    bodies = list(set(n_bodies_inter))\n",
    "    \n",
    "    return bodies\n",
    "\n",
    "\n",
    "def get_obs_data(hamiltonian):\n",
    "    \"\"\"\n",
    "    Gets the needed data of the hamiltonian to compute the expectation values using ExpVal.exp_val().\n",
    "\n",
    "\n",
    "    Parameters\n",
    "    ----------\n",
    "    hamiltonian : PauliSumOp.\n",
    "        Hamiltonian.\n",
    "\n",
    "\n",
    "    Returns\n",
    "    -------\n",
    "    coeffs : array(num_paulis).\n",
    "        Coefficients of each pauli string of the hamiltonian.\n",
    "    obs : array(2, 2, n_qubits, num_paulis)\n",
    "        Observable made of every pauli string of the hamiltonian.\n",
    "    \"\"\"\n",
    "    \n",
    "    num_paulis = len(hamiltonian)\n",
    "    n_qubits = hamiltonian.num_qubits\n",
    "\n",
    "    paulis_dict = {'X': np.array([[0., 1.], [1., 0.]], dtype=\"complex\"),\n",
    "               'Y': np.array([[0., -1.*1j], [1.*1j, 0.]], dtype=\"complex\"),\n",
    "               'Z': np.array([[1., 0], [0, -1.]], dtype=\"complex\"),\n",
    "               'I': np.array([[1., 0], [0, 1.]], dtype=\"complex\")}\n",
    "\n",
    "    obs = np.zeros((2, 2, n_qubits, num_paulis), dtype=complex)\n",
    "    coeffs = np.zeros(num_paulis, dtype=complex)\n",
    "\n",
    "    for i in range(1, num_paulis):   # OJO CON EL PRIMER TERMINO\n",
    "        pauli_string_coeff = hamiltonian[i].coeffs[0]\n",
    "        pauli_string = hamiltonian[i].to_pauli_op().primitive.to_label()\n",
    "        pauli_string_list = [paulis_dict[i] for i in pauli_string]\n",
    "        obs[:,:,:,i] =  np.stack(pauli_string_list, axis=-1)\n",
    "        coeffs[i] = pauli_string_coeff\n",
    "    \n",
    "    return coeffs, obs"
   ]
  },
  {
   "cell_type": "code",
   "execution_count": 4,
   "id": "bd4b9411",
   "metadata": {
    "ExecuteTime": {
     "end_time": "2023-02-28T00:20:51.332520Z",
     "start_time": "2023-02-28T00:20:51.319201Z"
    }
   },
   "outputs": [],
   "source": [
    "#########################################################################################################"
   ]
  },
  {
   "cell_type": "code",
   "execution_count": 5,
   "id": "3009f35d",
   "metadata": {
    "ExecuteTime": {
     "end_time": "2023-02-28T00:20:51.345566Z",
     "start_time": "2023-02-28T00:20:51.334553Z"
    }
   },
   "outputs": [],
   "source": [
    "dist = 1.0\n",
    "molecules = {\n",
    "    \"BeH2\": \"Be .0 .0 .0; H .0 .0 -\" + str(dist) + \"; H .0 .0 \" + str(dist),\n",
    "    \"H2\":\"H .0 .0 .0; H .0 .0 \" + str(dist),\n",
    "    \"LiH\":\"Li .0 .0 .0; H .0 .0 \" + str(dist),\n",
    "    \"H2O\": \"H -0.0399 -0.0038 0.0; O 1.5780 0.8540 0.0; H 2.7909 -0.5159 0.0\",\n",
    "    \"NH3\": \"N 0.0 0.0 0.149; H 0.0 0.947 -0.348; H  0.821 -0.474 -0.348; H -0.821 -0.474 -0.348\"\n",
    "}"
   ]
  },
  {
   "cell_type": "code",
   "execution_count": 6,
   "id": "69db3d7d",
   "metadata": {
    "ExecuteTime": {
     "end_time": "2023-02-28T00:20:51.355903Z",
     "start_time": "2023-02-28T00:20:51.347594Z"
    }
   },
   "outputs": [],
   "source": [
    "# mol = 'H2'\n",
    "# mol = 'LiH'\n",
    "# mol = 'BeH2'\n",
    "mol = \"H2O\"\n",
    "# mol = \"NH3\""
   ]
  },
  {
   "cell_type": "code",
   "execution_count": 7,
   "id": "d0c84f5a",
   "metadata": {
    "ExecuteTime": {
     "end_time": "2023-02-28T00:20:54.324235Z",
     "start_time": "2023-02-28T00:20:51.358126Z"
    }
   },
   "outputs": [],
   "source": [
    "converter = QubitConverter( JordanWignerMapper(), z2symmetry_reduction=None)\n",
    "molecular_hamiltonian = MoleculeHamiltonian(molecules[mol] , converter=converter, basis='sto3g')\n",
    "hamiltonian = molecular_hamiltonian.Hamiltonian( freeze_core = False )\n",
    "\n",
    "driver = molecular_hamiltonian.driver\n",
    "problem = molecular_hamiltonian.problem\n",
    "n_qubits = hamiltonian.num_qubits\n",
    "\n",
    "bodies = get_number_nbody_terms(hamiltonian)"
   ]
  },
  {
   "cell_type": "code",
   "execution_count": 8,
   "id": "80f5a574",
   "metadata": {
    "ExecuteTime": {
     "end_time": "2023-02-28T00:21:40.073477Z",
     "start_time": "2023-02-28T00:20:54.326485Z"
    },
    "scrolled": true
   },
   "outputs": [
    {
     "data": {
      "text/plain": [
       "-79.59454251461254"
      ]
     },
     "execution_count": 8,
     "metadata": {},
     "output_type": "execute_result"
    }
   ],
   "source": [
    "circ_gs, eig_gs = molecular_hamiltonian.ComputeGroundState()\n",
    "eig_gs"
   ]
  },
  {
   "cell_type": "code",
   "execution_count": 9,
   "id": "2438ed43",
   "metadata": {
    "ExecuteTime": {
     "end_time": "2023-02-28T00:21:40.078594Z",
     "start_time": "2023-02-28T00:21:40.075433Z"
    }
   },
   "outputs": [],
   "source": [
    "total_shots = 6000000\n",
    "r = 30\n",
    "reps = 1"
   ]
  },
  {
   "cell_type": "code",
   "execution_count": 10,
   "id": "58c86464",
   "metadata": {
    "ExecuteTime": {
     "end_time": "2023-02-28T00:21:40.091410Z",
     "start_time": "2023-02-28T00:21:40.081848Z"
    }
   },
   "outputs": [],
   "source": [
    "# algorithm = ExpVal(n_shots = total_shots-1000,\n",
    "#         bodies = bodies, \n",
    "#         r = r, \n",
    "#         r_shots = 1000,\n",
    "#         n_qubits = n_qubits)\n",
    "\n",
    "# algorithm.get_interferences(circ_gs)\n",
    "\n",
    "# coeffs, obs = get_obs_data(hamiltonian)\n",
    "\n",
    "# exp_val = algorithm.exp_val(obs)\n",
    "\n",
    "\n",
    "# results = np.sum(exp_val*coeffs).real"
   ]
  },
  {
   "cell_type": "code",
   "execution_count": 11,
   "id": "71712ba3",
   "metadata": {
    "ExecuteTime": {
     "end_time": "2023-02-28T00:23:23.750994Z",
     "start_time": "2023-02-28T00:21:40.093295Z"
    }
   },
   "outputs": [
    {
     "name": "stderr",
     "output_type": "stream",
     "text": [
      "100%|████████████████████████████████████████████| 1/1 [01:43<00:00, 103.64s/it]"
     ]
    },
    {
     "name": "stdout",
     "output_type": "stream",
     "text": [
      "Exp val calculado:  -79.67825421053438\n"
     ]
    },
    {
     "name": "stderr",
     "output_type": "stream",
     "text": [
      "\n"
     ]
    }
   ],
   "source": [
    "results_god = []\n",
    "\n",
    "for i in tqdm(range(reps)):\n",
    "    algorithm = ExpVal(n_shots = total_shots-total_shots//4,\n",
    "            bodies = bodies, \n",
    "            r = r, \n",
    "            r_shots = total_shots//4,\n",
    "            n_qubits = n_qubits)\n",
    "\n",
    "    algorithm.get_shadows_R(circ_gs)\n",
    "\n",
    "    coeffs, obs = get_obs_data(hamiltonian)\n",
    "\n",
    "    exp_val = algorithm.exp_val(obs)\n",
    "\n",
    "    first_term = hamiltonian[0].coeffs[0].real\n",
    "\n",
    "    print('Exp val calculado: ', np.sum(exp_val*coeffs).real + first_term)\n",
    "    results_god.append(np.sum(exp_val*coeffs).real + first_term)"
   ]
  },
  {
   "cell_type": "code",
   "execution_count": 12,
   "id": "a7429cc4",
   "metadata": {
    "ExecuteTime": {
     "end_time": "2023-02-28T00:23:23.758268Z",
     "start_time": "2023-02-28T00:23:23.753267Z"
    }
   },
   "outputs": [
    {
     "name": "stdout",
     "output_type": "stream",
     "text": [
      "-79.59454251461254\n",
      "[0.0837117]\n",
      "0.08371169592183492\n"
     ]
    }
   ],
   "source": [
    "print(eig_gs)\n",
    "\n",
    "print(np.abs(results_god-eig_gs))\n",
    "\n",
    "print(np.median(np.abs(results_god-eig_gs)))"
   ]
  },
  {
   "cell_type": "code",
   "execution_count": 13,
   "id": "657aa4a3",
   "metadata": {
    "ExecuteTime": {
     "end_time": "2023-02-28T00:25:36.960292Z",
     "start_time": "2023-02-28T00:23:23.760321Z"
    }
   },
   "outputs": [
    {
     "name": "stderr",
     "output_type": "stream",
     "text": [
      "100%|████████████████████████████████████████████| 1/1 [02:13<00:00, 133.19s/it]"
     ]
    },
    {
     "name": "stdout",
     "output_type": "stream",
     "text": [
      "Exp val calculado:  -79.58968993213763\n"
     ]
    },
    {
     "name": "stderr",
     "output_type": "stream",
     "text": [
      "\n"
     ]
    }
   ],
   "source": [
    "results = []\n",
    "\n",
    "\n",
    "for i in tqdm(range(reps)):\n",
    "    algorithm = ExpVal(n_shots = total_shots-1000,\n",
    "            bodies = bodies, \n",
    "            r = r, \n",
    "            r_shots = 1000,\n",
    "            n_qubits = n_qubits)\n",
    "\n",
    "    algorithm.get_interferences(circ_gs)\n",
    "\n",
    "    coeffs, obs = get_obs_data(hamiltonian)\n",
    "\n",
    "    exp_val = algorithm.exp_val(obs)\n",
    "    \n",
    "    first_term = hamiltonian[0].coeffs[0].real\n",
    "\n",
    "    print('Exp val calculado: ', np.sum(exp_val*coeffs).real + first_term)\n",
    "    results.append(np.sum(exp_val*coeffs).real + first_term)"
   ]
  },
  {
   "cell_type": "code",
   "execution_count": 14,
   "id": "2245018c",
   "metadata": {
    "ExecuteTime": {
     "end_time": "2023-02-28T00:25:36.967175Z",
     "start_time": "2023-02-28T00:25:36.962568Z"
    }
   },
   "outputs": [
    {
     "name": "stdout",
     "output_type": "stream",
     "text": [
      "-79.59454251461254\n",
      "[0.00485258]\n",
      "0.004852582474910605\n"
     ]
    }
   ],
   "source": [
    "print(eig_gs)\n",
    "\n",
    "print(np.abs(results-eig_gs))\n",
    "\n",
    "print(np.median(np.abs(results-eig_gs)))"
   ]
  },
  {
   "cell_type": "code",
   "execution_count": 15,
   "id": "fec8bfcd",
   "metadata": {
    "ExecuteTime": {
     "end_time": "2023-02-28T00:25:36.983700Z",
     "start_time": "2023-02-28T00:25:36.969054Z"
    }
   },
   "outputs": [],
   "source": [
    "num_paulis = len(hamiltonian)\n",
    "shots_runtime = total_shots//num_paulis\n",
    "shots_opflow = total_shots//num_paulis"
   ]
  },
  {
   "cell_type": "code",
   "execution_count": 16,
   "id": "3cb9aa40",
   "metadata": {
    "ExecuteTime": {
     "end_time": "2023-02-28T00:26:05.953065Z",
     "start_time": "2023-02-28T00:25:36.985585Z"
    }
   },
   "outputs": [],
   "source": [
    "from qiskit_ibm_runtime import QiskitRuntimeService, Estimator, Session, Options\n",
    "\n",
    "#QiskitRuntimeService.save_account(channel=\"ibm_quantum\", token=\"1a92dbd3ad8a3a75036e3b0fed7d2a10a0dfef2277960a619c033757aa1aa9bcc8f95922671a2fbd0b05339eea4aae6305bc43b5b2e6d33b161346f9983adf48\")\n",
    "service = QiskitRuntimeService(channel=\"ibm_quantum\")\n",
    "\n",
    "options = Options()\n",
    "options.optimization_level = 1\n",
    "options.resilience_level = 0\n",
    "options.execution.shots = shots_runtime\n",
    "\n",
    "# with Session(service=service, backend=\"ibmq_qasm_simulator\") as session:\n",
    "#     estimator = Estimator(session=session, options = options)\n",
    "\n",
    "#     job = estimator.run(circ_gs, hamiltonian)\n",
    "\n",
    "#     result = job.result()\n",
    "\n",
    "# result_runtime = result.values[0]\n",
    "# np.abs(result_runtime-eig_gs)"
   ]
  },
  {
   "cell_type": "code",
   "execution_count": null,
   "id": "8420f4fe",
   "metadata": {
    "ExecuteTime": {
     "start_time": "2023-02-28T00:20:50.099Z"
    }
   },
   "outputs": [
    {
     "name": "stderr",
     "output_type": "stream",
     "text": [
      " 20%|█████████                                    | 1/5 [00:27<01:49, 27.32s/it]"
     ]
    }
   ],
   "source": [
    "results_runtime = []\n",
    "\n",
    "for i in tqdm(range(rep)):\n",
    "\n",
    "\n",
    "    with Session(service=service, backend=\"ibmq_qasm_simulator\") as session:\n",
    "        estimator = Estimator(session=session, options = options)\n",
    "\n",
    "        job = estimator.run(circ_gs, hamiltonian)\n",
    "\n",
    "        result = job.result()\n",
    "\n",
    "    result_runtime = result.values[0]\n",
    "    \n",
    "    results_runtime.append(result_runtime)"
   ]
  },
  {
   "cell_type": "code",
   "execution_count": null,
   "id": "f23c0656",
   "metadata": {
    "ExecuteTime": {
     "start_time": "2023-02-28T00:20:50.102Z"
    }
   },
   "outputs": [],
   "source": [
    "print(eig_gs)\n",
    "\n",
    "print(np.abs(results_runtime-eig_gs))\n",
    "\n",
    "print(np.median(np.abs(results_runtime-eig_gs)))"
   ]
  },
  {
   "cell_type": "code",
   "execution_count": null,
   "id": "ce880b7f",
   "metadata": {
    "ExecuteTime": {
     "start_time": "2023-02-28T00:20:50.105Z"
    }
   },
   "outputs": [],
   "source": [
    "# from qiskit.opflow import PauliExpectation, CircuitSampler, StateFn, CircuitStateFn\n",
    "# from qiskit import Aer\n",
    "# from qiskit.utils import QuantumInstance\n",
    "\n",
    "# backend = Aer.get_backend(\"aer_simulator\")\n",
    "# quantum_instance = QuantumInstance(backend, shots=shots_opflow)\n",
    "\n",
    "# op = hamiltonian\n",
    "# psi = CircuitStateFn(circ_gs)\n",
    "\n",
    "# measurable_expression = StateFn(op, is_measurement=True).compose(psi)\n",
    "# expectation = PauliExpectation().convert(measurable_expression)  \n",
    "# sampler = CircuitSampler(quantum_instance).convert(expectation)\n",
    "\n",
    "# result_opflow = sampler.eval().real\n",
    "# np.abs(result_opflow-eig_gs)"
   ]
  }
 ],
 "metadata": {
  "hide_input": false,
  "kernelspec": {
   "display_name": "Python 3 (ipykernel)",
   "language": "python",
   "name": "python3"
  },
  "language_info": {
   "codemirror_mode": {
    "name": "ipython",
    "version": 3
   },
   "file_extension": ".py",
   "mimetype": "text/x-python",
   "name": "python",
   "nbconvert_exporter": "python",
   "pygments_lexer": "ipython3",
   "version": "3.9.16"
  }
 },
 "nbformat": 4,
 "nbformat_minor": 5
}
