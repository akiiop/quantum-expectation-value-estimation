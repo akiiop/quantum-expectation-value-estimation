{
 "cells": [
  {
   "cell_type": "markdown",
   "id": "6813e5ff",
   "metadata": {},
   "source": [
    "# Efficient Quantum Expectation Values Estimation for Concentrated States"
   ]
  },
  {
   "cell_type": "markdown",
   "id": "59c968ae",
   "metadata": {},
   "source": [
    "## Summary\n",
    "\n",
    "Measuring [expectation values](https://en.wikipedia.org/wiki/Expectation_value_(quantum_mechanics)) of [observables](https://en.wikipedia.org/wiki/Observable#Quantum_mechanics) is an essential task in algorithms in quantum computing, for example, Quantum Neural Networks (QNN), the Variational Quantum Eigensolver (VQE) and the Quantum Approximate Optimization Algorithm (QAOA) [[1]](https://www.nature.com/articles/s42254-021-00348-9). These hybrid quantum-classical algorithms are one of the leading candidates for obtaining quantum advantage in the current era. However, these algorithms require such high precision in estimating the expectation values of observables that make them impractical due to the many sources of noisy in current hardware. \n",
    "\n",
    "In this project, we deal with the efficient measurement of the expectation values of observables acting on concentrated states, i.e., when only a small number of amplitudes in a measurement basis are non-negligible. This is accomplished using a hybrid quantum-classical algorithm based on a novel procedure described in [[2]](https://en.wikipedia.org/wiki/Variational_quantum_eigensolver) that includes improvements like reducing the number of CNOT gates employed and the estimated number of parameters. Our algorithm is supported in Qiskit and detailed in this tutorial, which provides the theoretical framework and numerical simulations to evaluate its performance."
   ]
  },
  {
   "cell_type": "markdown",
   "id": "13c12135",
   "metadata": {},
   "source": [
    "# 1. Introduction\n",
    "\n",
    "The current generation of quantum processors [[3]](https://quantum-journal.org/papers/q-2018-08-06-79/). is characterized by limited numbers of qubits, low gate fidelities, short coherence times, and noise processes that limit circuit depth. In this context, the VQAs is the best hope for obtaining quantum advantage. These algorithms typically utilize quantum computers to measure expectation values of observables for a given state using parametrized [quantum circuits](https://en.wikipedia.org/wiki/Quantum_circuit). However, precisely estimating these expectation values requires numerous [measurement](https://en.wikipedia.org/wiki/Measurement_in_quantum_mechanics) repetitions to reduce statistical fluctuation. Many applications require such high precision, that VQA algorithms are impractical due to the enormous amount of time needed. For instance, quantum chemical calculations require the so-called chemical accuracy of $ 1 \\textrm{ kcal/mol } \\approx 1.6 \\times 10^{-3}$ Hartree, making the [Variational Quantum Eigensolver](https://en.wikipedia.org/wiki/Variational_quantum_eigensolver) (VQE) method non-viable even for a small number of molecules [[4]](https://journals.aps.org/prresearch/abstract/10.1103/PhysRevResearch.4.033154).\n",
    "\n",
    "In this project, we implement a hybrid quantum-classical algorithm supported on Qiskit to measure the expectation values of observables efficiently. This algorithm is designed to be effective when the state is pure and concentrated, which is a family of quantum states with many interesting practical applications, such as in Quantum Chemistry. The approach is based on the paper [Quantum expectation-value estimation by computational basis sampling](https://link.aps.org/doi/10.1103/PhysRevResearch.4.033173) and includes improvements such as a reduction in the number of CNOT gates used and the estimated number of parameters. To explain the algorithm, this tutorial briefly describes the computation of the expectation values of observables. The algorithm's functioning is then described, and its implementation in Qiskit is shown using instructive examples. Moreover, we assess its performance by calculating the resources required to achieve a fixed accuracy. Finally, we illustrate how to implement the VQE method for a molecular Hamiltonian."
   ]
  },
  {
   "cell_type": "markdown",
   "id": "bb1a87cb",
   "metadata": {},
   "source": [
    "## 2.  Measuring expectation values of observables\n",
    "\n",
    "Let us consider a $n$-qubit system described by the pure state\n",
    "\\begin{align}\n",
    "|\\psi \\rangle = \\sum_{i=0}^{d-1} c_i |i \\rangle,\n",
    "\\end{align}\n",
    "\n",
    "where $i = i_{n-1} ... i_1 i_0$ is the integer representation of a binary string and $d = 2^n$ is the dimension of the system. The coefficients $c_i$ are complex numbers such that $\\sum_{i=0}^{d-1} |c_i|^2 =1$. An observable $O$ acting on $d$ qubits can be expressed as a linear combination of products of Pauli and identity operators on single qubits by\n",
    "\n",
    "\\begin{align}\n",
    " O = \\sum_{k=1}^M  \\alpha_k  P_k,\n",
    "\\end{align}\n",
    "\n",
    "where $P_k \\in \\{I, X,Y, Z\\}^{\\otimes d}$, $\\alpha_k\\in\\mathbb{R}$, and $M$ is the number of the Pauli strings. Therefore, the expectation value of $O$ can be written as\n",
    "\n",
    "\\begin{align}\n",
    "\\langle \\psi  | O | \\psi \\rangle\n",
    "= \\sum_{k=1}^M  \\alpha_k \\langle \\psi  | P_k | \\psi \\rangle.\n",
    "\\end{align}\n",
    "\n",
    "In the simplest way to estimate the expectation value $\\langle \\psi  | O |\\psi \\rangle$, each\n",
    "term $\\alpha_k \\langle \\psi  | P_k | \\psi \\rangle$ is measured on a quantum computer and then\n",
    "assembled by classical post-processing. However, for many applications, the number of quantities $M$ to be measured is $\\mathcal{O}\\left(\\mathrm{poly}(n)\\right)$, making the computation unfeasible if the number of qubits $n$ is not small enough.\n",
    "There are several studies to reduce the number of measurements to estimate expectation values of observables. Those works, to the best of our knowledge, are driven by: grouping Pauli strings [[4]](https://dx.doi.org/10.1088/1367-2630/18/2/023023), using classical shadows [[5]](https://www.nature.com/articles/s41567-020-0932-7#citeas), and dealing with one part of the quantum state classically [[6]](https://arxiv.org/abs/2106.04755). Despite these efforts, the measurement counts for practical applications are not significantly reduced."
   ]
  },
  {
   "cell_type": "markdown",
   "id": "25807a6e",
   "metadata": {},
   "source": [
    "## 3.  Efficient quantum expectation values estimation for concentrated states\n",
    "\n",
    "### 3.1 Motivation\n",
    "Under the assumption that $|\\psi \\rangle$ is a concentrated state, it is defined a reduced state $|\\psi_R \\rangle$ as\n",
    "\n",
    "\\begin{align}\n",
    "|\\psi_R \\rangle = \\mathcal{N}_R \\sum_{r=1}^{R} c_{i_r} |i_r \\rangle,\n",
    "\\end{align}\n",
    "\n",
    "where $R$ is a fixed number, $|c_{i_1}|^2 \\geq |c_{i_2}|^2 \\dots \\geq |c_{i_R}|^2 \\geq \\max\\{|c_{i}|^2: i \\neq i_r \\text{ for each } r=1\\dots R\\}$, and $\\mathcal{N}_r = 1/\\sqrt{ \\sum_{r=1}^{R} |c_{i_r}|^2}$. Therefore, the expectation value of an observable $O$ acting on the system can be approximated by\n",
    "\n",
    "\\begin{equation}\n",
    "\\begin{split}\n",
    "\\langle \\psi  | O | \\psi \\rangle \\approx \\mathcal{N}_R^2 \\langle \\psi_R  | O | \\psi_R \\rangle\n",
    "= & \\,\\mathcal{N}_R^2 \\sum_{r,r'=1}^R  c_{i_r} c_{i_r'}^* \\, \\langle i_{r'}  | O | i_r \\rangle \\\\\n",
    "= & \\, \\mathcal{N}_R^2 \\left\\{ \\sum_{r=1}^R |c_{i_r}|^2 \\langle i_r  | O | i_r \\rangle + 2 \\sum_{r < r'} \\mathrm{Re}(c_{i_r} c_{i_r'}^*) \\, \\mathrm{Re} \\langle i_{r'}  | O | i_r \\rangle  -  2 \\sum_{ r < r'} \\mathrm{Im}(c_{i_r} c_{i_r'}^*) \\, \\mathrm{Im} \\langle i_{r'}  | O | i_r \\rangle \\right\\},\n",
    "\\end{split}\n",
    "\\end{equation}\n",
    "\n",
    "If $O = O_{n-1} \\otimes \\dots \\otimes O_1 \\otimes O_0$ is a tensor product of one-qubit observables, the values of $\\langle j |O | k \\rangle$ can be efficiently calculated in a classical computer as\n",
    "\n",
    "\\begin{align}\n",
    "        \\langle k |O | j \\rangle = \\langle k_{n-1} |O_{n-1} | j_{n-1} \\rangle \\dots  \\langle k_1 |O_1 | j_1 \\rangle \\langle k_0 |O_0 | j_0 \\rangle.\n",
    "\\end{align} \n",
    "\n",
    "Hence, by an estimation of the coefficients $|c_{i_r}|^2$ , $2\\mathrm{Re}(c_{i_r} c_{i_r'}^*)$ and $2\\mathrm{Im}(c_{i_r} c_{i_r'}^*)$ we can estimate the expectation value of $O$. For this purpose, we define a [POVM](https://en.wikipedia.org/wiki/POVM) $E$ composed of the elements\n",
    "\\begin{equation}\n",
    "\\begin{split}\n",
    "P_k = K |k \\rangle \\langle k |, \\quad \n",
    "D_{jk} = \\frac{K}{2}(|j \\rangle  + |k \\rangle ) ( \\langle  j| + \\langle k |), & \\quad\n",
    "A_{jk} =  \\frac{K}{2}(|j \\rangle  - |k \\rangle ) ( \\langle  j| - \\langle k |), \\quad\n",
    "L_{jk} = \\frac{K}{2}(|j \\rangle  + i|k \\rangle ) ( \\langle  j| -i \\langle k |), \\\\\n",
    "R_{jk} = & \\frac{K}{2}(|j \\rangle  - i|k \\rangle ) ( \\langle  j| + i \\langle k |), \n",
    "\\end{split}\n",
    "\\end{equation}\n",
    "\n",
    "and noticing that\n",
    " \n",
    "\\begin{align}\n",
    "|c_{i}|^2 =   \\, \\frac{\\mathrm{Tr}\\left(\\rho P_{j} \\right)}{K},\\qquad\n",
    "2 \\mathrm{Re}(c_j c_k^*) =  \\, \\frac{\\mathrm{Tr}\\left(\\rho D_{jk} \\right) - \\mathrm{Tr}\\left(\\rho A_{jk} \\right)}{K},\\qquad\n",
    "-2 \\mathrm{Im}(c_j c_k^*) =  \\, \\frac{\\mathrm{Tr}\\left(\\rho L_{jk} \\right) - \\mathrm{Tr}\\left(\\rho R_{jk} \\right)}{K},\n",
    "\\end{align}\n",
    "\n",
    "we approximate $\\langle \\psi  | O | \\psi \\rangle$ by measuring the POVM $E$. To implement this POVM, we select $2R(R-1)+1$ basis that contain all the combinations \n",
    "\n",
    "$\\textbf{Observation:}$ Since concentrate states usually present interactions for a small number of bodies,  there are some quantities $\\langle i_{r'}  | O | i_r \\rangle = 0 $. Therefore, some coefficients are negligible due to the structure of the quantum state. This reduction of coefficients depend on the number of $X$ and $Y$ gates on the Pauli string, and improves the required measurement resources to compute the approximation, hence improving the estimation of $\\langle \\psi  | O | \\psi \\rangle$.\n"
   ]
  },
  {
   "cell_type": "markdown",
   "id": "9aeaec0d",
   "metadata": {},
   "source": [
    "### 3.1 Motivation\n",
    "Given a state $|\\psi \\rangle$ of $n$ qubits, the expectation value of an observable $O$ acting on the system is\n",
    "\\begin{equation}\n",
    "\\begin{split}\n",
    "\\langle \\psi  | O | \\psi \\rangle = & \\sum_{j,k=1}^d  c_{j} c_{k}^* \\, \\langle k  | O | j \\rangle \\\\\n",
    "= &\\sum_{j=1}^d |c_{j}|^2 \\langle j  | O | j \\rangle + 2 \\sum_{j < k}^d \\mathrm{Re}(c_{j} c_{k}^*) \\, \\mathrm{Re} \\langle k  | O | j \\rangle  -  2 \\sum_{ j < k}^d \\mathrm{Im}(c_j c_k^*) \\, \\mathrm{Im} \\langle k  | O | j \\rangle.\n",
    "\\end{split}\n",
    "\\end{equation}\n",
    "\n",
    "If $O = O_{n-1} \\otimes \\dots \\otimes O_0$ is a tensor product of one-qubit observables, we can classically calculate $ \\langle k |O | j \\rangle = \\langle k_{n-1} |O_{n-1} | j_{n-1} \\rangle \\dots   \\langle k_0 |O_0 | j_0 \\rangle$.\n",
    "Hence, by an estimation of the coefficients $|c_j|^2$ , $2\\mathrm{Re}(c_j c_k^*)$ and $2\\mathrm{Im}(c_j c_k^*)$ we can estimate the expectation value of $O$. For this purpose, we define a [POVM](https://en.wikipedia.org/wiki/POVM) $E$ composed of the elements\n",
    "\n",
    "\\begin{equation}\n",
    "\\begin{split}\n",
    "P_k = K |k \\rangle \\langle k |, \\quad \n",
    "D_{jk}^\\pm = \\frac{K}{2}(|j \\rangle  \\pm |k \\rangle ) ( \\langle  j| \\pm \\langle k |), & \\quad\n",
    "L_{jk}^\\pm = \\frac{K}{2}(|j \\rangle  \\pm i|k \\rangle ) ( \\langle  j| \\mp i \\langle k |), \\\\\n",
    "\\end{split}\n",
    "\\end{equation}\n",
    "\n",
    "with $j, k = 0, 1, ..., d-1$, $j < k$ and $K = 1/(2d-1)$ is a normalization term. Noticing that\n",
    "\n",
    "\\begin{align}\n",
    "|c_{i}|^2 =   \\, \\frac{\\mathrm{Tr}\\left(\\rho P_{j} \\right)}{K},\\qquad\n",
    "2 \\mathrm{Re}(c_j c_k^*) =  \\, \\frac{\\mathrm{Tr}\\left(\\rho D_{jk}^+ \\right) - \\mathrm{Tr}\\left(\\rho D_{jk}^- \\right)}{K},\\qquad\n",
    "-2 \\mathrm{Im}(c_j c_k^*) =  \\, \\frac{\\mathrm{Tr}\\left(\\rho L_{jk}^+ \\right) - \\mathrm{Tr}\\left(\\rho L_{jk}^- \\right)}{K},\n",
    "\\end{align}\n",
    "\n",
    "we approximate $\\langle \\psi  | O | \\psi \\rangle$ by measuring the POVM $E$. This POVM can be implemented by sampling uniformly from $2d-1$ basis, which is an exponential number.\n",
    "\n",
    "We can improve the estimation in two ways: \n",
    "\n",
    "1.   If we know that the number of $X$ + $Y$ terms $t$ in a Pauli string $P$ is fixed, then all the terms $\\langle k  | P | j \\rangle$ such that the [Hamming distance](https://en.wikipedia.org/wiki/Hamming_distance) $\\mathrm{dist}_H (k, j) \\neq t$ are zero. For example, $\\langle 000| XYZ |111\\rangle = i\\langle 000| 001 \\rangle = 0$. Then we only need to measure bases that contain terms of the form $| j \\rangle \\pm |k \\rangle$ and $| j \\rangle \\pm i|k \\rangle$ such that $\\mathrm{dist}_H (j, k) = t$. The total number of basis is $K_t = 2\\frac{n!}{(n-t)!t!} \\ll d$, and we define a new POVM $E_t$ sampling from these bases and with normalization factor $K_t$. These basis require $t-1$ CNOT gates. \n",
    "\n",
    "2.   If we know that our state is concentrated, that is, $|\\psi \\rangle \\approx \\sum_{r=1}^{R} c_{i_r} |i_r \\rangle$, where $R \\ll d$ is a fixed number, and $|c_{i_1}|^2 \\geq |c_{i_2}|^2 \\dots \\geq |c_{i_R}|^2 \\geq tolerance$, then the only non-vanishing terms will be the $c_{i_r} c_{i_r'}^{*}$. This means that we only have to measure the $K_R \\leq 2R(R-1)+1$ bases that contain terms of the form $| i_r \\rangle \\pm |i_r' \\rangle$ and $| i_r \\rangle \\pm i| i_r' \\rangle$ and define a POVM $E_R$ that contains these basis and the normalization factor $K_R$.\n",
    "\n",
    "The Pauli strings of molecular Hamiltonians mapped to qubits using Jordan Wigner usually contain $0$, $2$ or $4$ $X + Y$ Paulis. Then, we can use (1) with these observables. Also, their ground states are usually highly concentrated. Then, we can use (2). This means that we only have to measure a POVM $E_{Rt}$ that samples from the basis in the intersection of $E_t$ and $E_r$, with a normalization factor $K_{Rt} < K_t, K_r$. Since we are measuring less bases, we can assign more shots to each one of them, reducing the variance and then improving the estimation. "
   ]
  },
  {
   "cell_type": "markdown",
   "id": "648ebbb8",
   "metadata": {},
   "source": [
    "### 3.2 The method\n",
    "\n",
    "To implement the above idea we reproduce the following procedure:\n",
    "\n",
    "1. Prepare the state $|\\psi\\rangle$ on quantum computers, and measure it in the computational basis $\\{| i \\rangle : i = 0,1,2^n-1\\}$ with a number $L_f$ of shoots.\n",
    "\n",
    "2. From the outcomes of the measurement we  pick up the most frequent R elements such that $1-|\\langle \\psi_R | \\psi \\rangle|^2$ is lower than some previously defined tolerance $\\mathrm{Tol}$ ($\\approx 10^{-4}$). Next, we sort in descending order of frecuency the selected elements.\n",
    "\n",
    "3. Determine the number of $X$ and $Y$ gates in the Pauli string to reduce the number of coefficients in the estimation.\n",
    "\n",
    "4. Measure The POVM $E$ and compute the non-negligible coefficientes $|c_{i_r}|^2$ , $2\\,\\mathrm{Re}(c_{i_r} c_{i_r'}^*)$ and $2\\,\\mathrm{Im}(c_{i_r} c_{i_r'}^*)$ as a sample mean of the outcomes.\n",
    "\n",
    "The described method inherits the performance properties shown in [[2]](https://link.aps.org/doi/10.1103/PhysRevResearch.4.033173). First, the error in estimating  $\\langle \\psi  | O | \\psi \\rangle$ produced by  approximating  the quantum estate by $| \\psi_R\\rangle$ is proportional to $\\sqrt{1-|\\langle \\psi_R | \\psi \\rangle|^2}$. Next, the number of measurements necessary to attain some precision in the standard deviation of the approximation is fewer than that of the alternative techniques. Moreover, the described method improves that reported in [[2]](https://link.aps.org/doi/10.1103/PhysRevResearch.4.033173), since the number of CNOT gates employed is not $\\mathcal{O}(d)$, but is equal to the number of $X$ and $Y$ gate in the Pauli string."
   ]
  },
  {
   "cell_type": "markdown",
   "id": "2abffb1b",
   "metadata": {},
   "source": [
    "## 4. Implementation using Qiskit\n"
   ]
  },
  {
   "cell_type": "markdown",
   "id": "e21ee977",
   "metadata": {},
   "source": [
    "## 5. Expectation Values of Molecule Hamiltonians"
   ]
  },
  {
   "cell_type": "code",
   "execution_count": 1,
   "id": "512e178c",
   "metadata": {
    "ExecuteTime": {
     "end_time": "2023-02-28T19:48:03.989938Z",
     "start_time": "2023-02-28T19:48:02.706144Z"
    }
   },
   "outputs": [],
   "source": [
    "import sys\n",
    "sys.path.append(\"../expectation_value\")\n",
    "sys.path.append(\"../utils_hamiltonian\")\n",
    "\n",
    "from expectationvalue import ExpVal\n",
    "from utils_hamiltonian import MoleculeHamiltonian, get_number_nbody_terms, get_obs_data\n",
    "from qiskit_nature.second_q.mappers import JordanWignerMapper, QubitConverter\n",
    "import qiskit.quantum_info as qif\n",
    "\n",
    "import numpy as np\n",
    "import h5py"
   ]
  },
  {
   "cell_type": "markdown",
   "id": "4706fd93",
   "metadata": {},
   "source": [
    "The first step is to define a our target molecule and obtain the qubit hamiltonian. bla bla\n",
    "\n"
   ]
  },
  {
   "cell_type": "code",
   "execution_count": 2,
   "id": "b0f19610",
   "metadata": {
    "ExecuteTime": {
     "end_time": "2023-02-28T19:48:03.997001Z",
     "start_time": "2023-02-28T19:48:03.992801Z"
    }
   },
   "outputs": [],
   "source": [
    "# The following dictionary gives the molecule geometry needed to obtain\n",
    "# the hamiltonian, for a given interatomic distance.\n",
    "\n",
    "molecules = {\n",
    "    \"H2\":\"H .0 .0 .0; H .0 .0 0.735\",\n",
    "    \"LiH\":\"Li .0 .0 .0; H .0 .0 1.548\",\n",
    "    \"BeH2\": \"Be .0 .0 .0; H .0 .0 -1.7; H .0 .0 1.7\",\n",
    "    \"H2O\": \"H -0.0399 -0.0038 0.0; O 1.5780 0.8540 0.0; H 2.7909 -0.5159 0.0\",\n",
    "    \"NH3\": \"N 0.0 0.0 0.149; H 0.0 0.947 -0.348; H  0.821 -0.474 -0.348; H -0.821 -0.474 -0.348\"\n",
    "}\n",
    "\n",
    "mol = 'H2'\n",
    "# mol = 'LiH'\n",
    "# mol = 'BeH2'\n",
    "# mol = \"H2O\"\n",
    "# mol = \"NH3\""
   ]
  },
  {
   "cell_type": "markdown",
   "id": "df469144",
   "metadata": {},
   "source": [
    "Using the tools in utils_hamiltonian and together with qiskit_natures functions, we can easly define our qubit hamiltonian and obtain its exact ground state and ground state energy."
   ]
  },
  {
   "cell_type": "code",
   "execution_count": 3,
   "id": "3a8581ec",
   "metadata": {
    "ExecuteTime": {
     "end_time": "2023-02-28T19:48:04.383960Z",
     "start_time": "2023-02-28T19:48:03.999273Z"
    }
   },
   "outputs": [
    {
     "name": "stdout",
     "output_type": "stream",
     "text": [
      "Exact Ground State Energy:  -1.8572750302023788\n"
     ]
    }
   ],
   "source": [
    "converter = QubitConverter( JordanWignerMapper(), z2symmetry_reduction=None)\n",
    "molecular_hamiltonian = MoleculeHamiltonian(molecules[mol] , converter=converter, basis='sto3g')\n",
    "\n",
    "# Qubit hamiltonian\n",
    "hamiltonian = molecular_hamiltonian.Hamiltonian( freeze_core = False )\n",
    "\n",
    "driver = molecular_hamiltonian.driver\n",
    "problem = molecular_hamiltonian.problem\n",
    "\n",
    "# Number of qubits of the qubit hamiltonian\n",
    "n_qubits = hamiltonian.num_qubits\n",
    "\n",
    "# Number of n-bodies interaction\n",
    "bodies = get_number_nbody_terms(hamiltonian)\n",
    "\n",
    "# Exact ground state estimation, giving the ground state\n",
    "# (as a circuit) and the ground state energy\n",
    "circ_gs, eig_gs = molecular_hamiltonian.ComputeGroundState()\n",
    "\n",
    "print(\"Exact Ground State Energy: \", eig_gs)"
   ]
  },
  {
   "cell_type": "markdown",
   "id": "48e27af2",
   "metadata": {},
   "source": [
    "Next, we choose the parameters needed to execute our method."
   ]
  },
  {
   "cell_type": "code",
   "execution_count": 4,
   "id": "c13404fa",
   "metadata": {
    "ExecuteTime": {
     "end_time": "2023-02-28T19:48:04.393884Z",
     "start_time": "2023-02-28T19:48:04.390179Z"
    }
   },
   "outputs": [],
   "source": [
    "# Total number of resources i.e. ensemble of shots\n",
    "total_shots = 100000\n",
    "\n",
    "# Number of shots to measure in the computational basis\n",
    "r_shots = 1000\n",
    "\n",
    "# Number of computational basis states retained (Concentration)\n",
    "r = 2"
   ]
  },
  {
   "cell_type": "code",
   "execution_count": 5,
   "id": "46f6bc48",
   "metadata": {
    "ExecuteTime": {
     "end_time": "2023-02-28T19:48:07.575513Z",
     "start_time": "2023-02-28T19:48:04.398480Z"
    },
    "code_folding": []
   },
   "outputs": [],
   "source": [
    "# We load the parameters of our algorithm\n",
    "algorithm = ExpVal(n_shots = total_shots-r_shots,\n",
    "        bodies = bodies, \n",
    "        r = r, \n",
    "        r_shots = r_shots,\n",
    "        n_qubits = n_qubits)\n",
    "\n",
    "# We get the interference terms for a given state, which can be loaded either as a\n",
    "# quantum circuit or as a vector (numpy array)\n",
    "algorithm.get_interferences(circ_gs)\n",
    "\n",
    "# To use the exp_val method, we first need to separete de hamiltonian\n",
    "# into a list of coefficients and the concatenation of every pauli string\n",
    "coeffs, obs = get_obs_data(hamiltonian)\n",
    "\n",
    "\n",
    "# We removed the first pauli string which corresponds to the identity, \n",
    "# as its trace with respect to any state is always 1. Therefore,\n",
    "# we only need to add this coefficient to our expectation value\n",
    "\n",
    "first_term_coeffs = hamiltonian[0].coeffs[0].real\n",
    "\n",
    "# We evaluate the expectation value of each string and multiply it for the respective coefficient\n",
    "exp_val = algorithm.exp_val(obs)\n",
    "results = np.sum(exp_val*coeffs).real+ first_term_coeffs"
   ]
  },
  {
   "cell_type": "code",
   "execution_count": 6,
   "id": "cf9bc66e",
   "metadata": {
    "ExecuteTime": {
     "end_time": "2023-02-28T19:48:07.583867Z",
     "start_time": "2023-02-28T19:48:07.578608Z"
    }
   },
   "outputs": [
    {
     "name": "stdout",
     "output_type": "stream",
     "text": [
      "Calculated expectation value with our algorithm:  -1.8569804903900038\n",
      "Absolute Error:  0.0002945398123750387\n"
     ]
    }
   ],
   "source": [
    "print('Calculated expectation value with our algorithm: ', results)\n",
    "print('Absolute Error: ', np.abs(results-eig_gs))"
   ]
  },
  {
   "cell_type": "markdown",
   "id": "1e50fa46",
   "metadata": {},
   "source": [
    "We repeated the same procedure with every molecule in the dictionary molecules a given number of times"
   ]
  },
  {
   "cell_type": "markdown",
   "id": "adc10f2e",
   "metadata": {},
   "source": [
    "Alternatively, we can use qiskit_runtime to calculate the expectation values using the same number of resources, to compare with our method."
   ]
  },
  {
   "cell_type": "code",
   "execution_count": 7,
   "id": "3b925cd2",
   "metadata": {
    "ExecuteTime": {
     "end_time": "2023-02-28T19:48:39.514483Z",
     "start_time": "2023-02-28T19:48:07.586793Z"
    }
   },
   "outputs": [
    {
     "data": {
      "text/plain": [
       "0.0005410778217940226"
      ]
     },
     "execution_count": 7,
     "metadata": {},
     "output_type": "execute_result"
    }
   ],
   "source": [
    "from qiskit_ibm_runtime import QiskitRuntimeService, Estimator, Session, Options\n",
    "\n",
    "# Number of shots per pauli string\n",
    "num_paulis = len(hamiltonian)\n",
    "shots_runtime = total_shots//num_paulis\n",
    "\n",
    "# Load your qiskit_runtime services\n",
    "#QiskitRuntimeService.save_account(channel=\"ibm_quantum\", token=\"1a92dbd3ad8a3a75036e3b0fed7d2a10a0dfef2277960a619c033757aa1aa9bcc8f95922671a2fbd0b05339eea4aae6305bc43b5b2e6d33b161346f9983adf48\")\n",
    "service = QiskitRuntimeService(channel=\"ibm_quantum\")\n",
    "\n",
    "# Define the options of the Estimator, without error mitigation\n",
    "# and with the same optimization level as our method (default).\n",
    "\n",
    "options = Options()\n",
    "options.optimization_level = 1\n",
    "options.resilience_level = 0\n",
    "options.execution.shots = shots_runtime\n",
    "\n",
    "with Session(service=service, backend=\"ibmq_qasm_simulator\") as session:\n",
    "    estimator = Estimator(session=session, options = options)\n",
    "    job = estimator.run(circ_gs, hamiltonian)\n",
    "    result = job.result()\n",
    "\n",
    "result_runtime = result.values[0]\n",
    "np.abs(result_runtime-eig_gs)"
   ]
  },
  {
   "cell_type": "code",
   "execution_count": null,
   "id": "476cf007",
   "metadata": {},
   "outputs": [],
   "source": []
  },
  {
   "cell_type": "code",
   "execution_count": null,
   "id": "c63b3f8d",
   "metadata": {},
   "outputs": [],
   "source": []
  },
  {
   "cell_type": "code",
   "execution_count": null,
   "id": "266a0ad7",
   "metadata": {},
   "outputs": [],
   "source": []
  },
  {
   "cell_type": "code",
   "execution_count": null,
   "id": "3efc75ec",
   "metadata": {},
   "outputs": [],
   "source": []
  },
  {
   "cell_type": "code",
   "execution_count": null,
   "id": "59241f3e",
   "metadata": {},
   "outputs": [],
   "source": []
  },
  {
   "cell_type": "code",
   "execution_count": null,
   "id": "2421e447",
   "metadata": {},
   "outputs": [],
   "source": []
  },
  {
   "cell_type": "code",
   "execution_count": null,
   "id": "e92e7abe",
   "metadata": {},
   "outputs": [],
   "source": []
  },
  {
   "cell_type": "code",
   "execution_count": null,
   "id": "990dc14e",
   "metadata": {},
   "outputs": [],
   "source": []
  },
  {
   "cell_type": "code",
   "execution_count": null,
   "id": "55ab9573",
   "metadata": {},
   "outputs": [],
   "source": []
  },
  {
   "cell_type": "markdown",
   "id": "a94f8d44",
   "metadata": {},
   "source": [
    "## 6. VQE for the H2 Molecule"
   ]
  },
  {
   "cell_type": "markdown",
   "id": "74bbf1d4",
   "metadata": {},
   "source": [
    "Finally, we performed a VQE simulation for the H2 molecule, where we evaluate the expectation value of the Hamiltonian using our algorithm."
   ]
  },
  {
   "cell_type": "markdown",
   "id": "62a39a49",
   "metadata": {},
   "source": [
    "First, we need to import the necessary packages from qiskit and qiskit_nature. To obtain the best possible results, we will consider three main choices:\n",
    "\n",
    "*  The hamiltonian mapping: Up until now we have only considered the Jordan Wigner mapping as it mantains a low number of body interactions, namely, only 2 and 4 bodies interactions. If we want to consider greater molecules, the large number of qubits and pauli terms will make the performance of the VQE worse. As such, it is important to choose the most efficient mapping with possible reductions to optimize the performance, like z2 simmetries or freezing the core orbitals.\n",
    "\n",
    "* The ansatz: A correct choice of ansatz its vital, as a incorrect choice could, for example, trap our optimization algorithm in a barren blateau due to the high number of parameters. Common choices are the UCC ansatz, which has a large depth but great expressibility, or the EfficientSU2, ...\n",
    "\n",
    "* The classical optimizer: Different optimizer could offer advantages in the number of needed resources i.e. iterations depending on the problem,. ...."
   ]
  },
  {
   "cell_type": "code",
   "execution_count": 21,
   "id": "6ccc5b16",
   "metadata": {
    "ExecuteTime": {
     "end_time": "2023-02-28T19:52:39.848863Z",
     "start_time": "2023-02-28T19:52:39.842145Z"
    }
   },
   "outputs": [],
   "source": [
    "# Importing different ansätze\n",
    "\n",
    "from qiskit.circuit.library import EfficientSU2\n",
    "from qiskit_nature.second_q.circuit.library import UCC\n",
    "\n",
    "\n",
    "ansatz = EfficientSU2(num_qubits=hamiltonian.num_qubits,\n",
    "                     reps = 2,\n",
    "                     entanglement = \"linear\",\n",
    "                     )\n",
    "\n",
    "# ansatz = UCCSD()\n",
    "# ansatz.num_particles = problem.num_particles\n",
    "# ansatz.num_spatial_orbitals = problem.num_spatial_orbitals\n",
    "# ansatz.qubit_converter = converter\n",
    "\n",
    "# initial_state = HartreeFock()\n",
    "# initial_state.num_particles = problem.num_particles\n",
    "# initial_state.num_spatial_orbitals = problem.num_spatial_orbitals\n",
    "# initial_state.qubit_converter = converter\n",
    "# ansatz.initial_state = initial_state"
   ]
  },
  {
   "cell_type": "code",
   "execution_count": 22,
   "id": "02cd93b3",
   "metadata": {
    "ExecuteTime": {
     "end_time": "2023-02-28T19:52:40.654610Z",
     "start_time": "2023-02-28T19:52:40.650087Z"
    }
   },
   "outputs": [],
   "source": [
    "from qiskit.algorithms.optimizers import SPSA, COBYLA\n",
    "\n",
    "\n",
    "optimizer = COBYLA(maxiter=100)\n",
    "\n",
    "#optimizer = SPSA(maxiter=100)"
   ]
  },
  {
   "cell_type": "code",
   "execution_count": 23,
   "id": "1fabf59a",
   "metadata": {
    "ExecuteTime": {
     "end_time": "2023-02-28T19:52:41.343056Z",
     "start_time": "2023-02-28T19:52:41.322509Z"
    }
   },
   "outputs": [],
   "source": [
    "# We chose a random initial point, but more clever\n",
    "# initial states could be chosen with a priori information.\n",
    "\n",
    "initial_point = np.random.randn( ansatz.num_parameters )"
   ]
  },
  {
   "cell_type": "code",
   "execution_count": 24,
   "id": "97548b5a",
   "metadata": {
    "ExecuteTime": {
     "end_time": "2023-02-28T19:52:42.000883Z",
     "start_time": "2023-02-28T19:52:41.995417Z"
    }
   },
   "outputs": [],
   "source": [
    "# We create a VQE instance, and execute for a given hamiltonian\n",
    "\n",
    "total_shots = 10000\n",
    "r_shots = 1000\n",
    "r = 0.99\n",
    "\n",
    "\n",
    "vqe_try = Custom_VQE(initial_point=initial_point,\n",
    "                ansatz = ansatz,\n",
    "                optimizer = optimizer,\n",
    "                total_shots = total_shots,\n",
    "                r_shots = r_shots,\n",
    "                r = r)\n",
    "\n",
    "# exp_val_i and state_i returns the expectation value and circuits\n",
    "# results obtained after every evaluation of the function exp_val_vqe (See utils_hamiltonian_vqe.py)\n",
    "\n",
    "exp_val_i, state_i, final_result = vqe_try.compute_minimum_eigenvalue(hamiltonian)"
   ]
  },
  {
   "cell_type": "code",
   "execution_count": 31,
   "id": "4f95e5f8",
   "metadata": {
    "ExecuteTime": {
     "end_time": "2023-02-28T20:06:41.006515Z",
     "start_time": "2023-02-28T20:06:41.002013Z"
    }
   },
   "outputs": [
    {
     "name": "stdout",
     "output_type": "stream",
     "text": [
      "{   'fun': -1.7819624046412978,\n",
      "    'jac': None,\n",
      "    'nfev': 100,\n",
      "    'nit': None,\n",
      "    'njev': None,\n",
      "    'x': array([-1.07580423,  3.02124098, -1.33750875,  2.12210341,  1.16208897,\n",
      "        1.51092886,  0.12773372,  1.12743534, -2.93569682, -0.24600964,\n",
      "        1.69349849, -1.23861623, -1.66514918, -0.38252344, -0.30364592,\n",
      "       -0.85357634,  1.49425005,  0.02987611, -4.07093643, -0.14872624,\n",
      "        1.80059699, -0.22841858,  1.71777176,  0.04165793])}\n"
     ]
    }
   ],
   "source": [
    "print(final_result)"
   ]
  },
  {
   "cell_type": "code",
   "execution_count": 34,
   "id": "114767d7",
   "metadata": {
    "ExecuteTime": {
     "end_time": "2023-02-28T20:09:50.065284Z",
     "start_time": "2023-02-28T20:09:50.052479Z"
    }
   },
   "outputs": [
    {
     "data": {
      "text/plain": [
       "100"
      ]
     },
     "execution_count": 34,
     "metadata": {},
     "output_type": "execute_result"
    }
   ],
   "source": [
    "# Number of cost function (exp_val_vqe) evaluations (See utils_hamiltonian_vqe.py)\n",
    "num_exp_val = final_result.nfev\n",
    "num_exp_val"
   ]
  },
  {
   "cell_type": "code",
   "execution_count": 37,
   "id": "615522a6",
   "metadata": {
    "ExecuteTime": {
     "end_time": "2023-02-28T20:11:40.774643Z",
     "start_time": "2023-02-28T20:11:40.768305Z"
    }
   },
   "outputs": [
    {
     "name": "stdout",
     "output_type": "stream",
     "text": [
      "-1.7819624046412978\n",
      "0.07531262556108098\n"
     ]
    }
   ],
   "source": [
    "# Final result after the optimization procedure i.e. the estimated ground state\n",
    "estimated_ground_state_energy = final_result.fun\n",
    "\n",
    "print(estimated_ground_state_energy)\n",
    "print(np.abs(estimated_ground_state_energy-eig_gs))"
   ]
  },
  {
   "cell_type": "code",
   "execution_count": 36,
   "id": "9860fbdd",
   "metadata": {
    "ExecuteTime": {
     "end_time": "2023-02-28T20:11:35.025888Z",
     "start_time": "2023-02-28T20:11:35.009794Z"
    }
   },
   "outputs": [],
   "source": [
    "# Final parameters after the optimization procedure\n",
    "\n",
    "estimated_ground_state_parameters = final_result.x\n",
    "estimated_ground_state_circ = ansatz.bind_parameters(estimated_ground_state_parameters)\n",
    "\n",
    "estimated_ground_state = qif.Statevector(estimated_ground_state_circ).data"
   ]
  },
  {
   "cell_type": "markdown",
   "id": "9b7ba445",
   "metadata": {},
   "source": [
    "We can compare our results with qiskit's VQE algorithm using the same configuration."
   ]
  },
  {
   "cell_type": "code",
   "execution_count": 39,
   "id": "de64a4ac",
   "metadata": {
    "ExecuteTime": {
     "end_time": "2023-02-28T20:14:47.107492Z",
     "start_time": "2023-02-28T20:14:17.560761Z"
    }
   },
   "outputs": [],
   "source": [
    "from qiskit import Aer\n",
    "from qiskit.utils import QuantumInstance\n",
    "from qiskit.algorithms import VQE\n",
    "\n",
    "shots_vqe_qiskit = total_shots//len(hamiltonian)\n",
    "\n",
    "backend = Aer.get_backend(\"qasm_simulator\")\n",
    "quantum_instance = QuantumInstance(backend, shots=shots_vqe_qiskit)\n",
    "\n",
    "\n",
    "vqe_qiskit = VQE(ansatz, optimizer=optimizer, quantum_instance=quantum_instance)\n",
    "result_vqe_qiskit = vqe_qiskit.compute_minimum_eigenvalue(hamiltonian)"
   ]
  },
  {
   "cell_type": "code",
   "execution_count": 40,
   "id": "dda56df2",
   "metadata": {
    "ExecuteTime": {
     "end_time": "2023-02-28T20:14:47.115366Z",
     "start_time": "2023-02-28T20:14:47.110177Z"
    }
   },
   "outputs": [
    {
     "data": {
      "text/plain": [
       "-1.703071910703871"
      ]
     },
     "execution_count": 40,
     "metadata": {},
     "output_type": "execute_result"
    }
   ],
   "source": [
    "result.eigenvalue.real"
   ]
  },
  {
   "cell_type": "markdown",
   "id": "cc90c49c",
   "metadata": {},
   "source": [
    "## 7. Discussion and outlook\n",
    "\n",
    "We implement a hybrid quantum-classical algorithm supported by Qiskit to efficiently measure the expectation values of observables. This algorithm is effective when the state is concentrated, a very interesting family of quantum states in practical application, for instance, Quantum Chemistry. The approach presents some improvements to that presented in [[2]](https://link.aps.org/doi/10.1103/PhysRevResearch.4.033173) like a reduction in the number of CNOT gates used and a reduction in the estimated number of parameters. The implementation of the algorithm in Qiskit is detailed in this tutorial, where several numerical simulations evaluate its performance.\n",
    "\n",
    "There are some improvements that could be made on the algorithm implementation:\n",
    " \n",
    " - Implementing the algorithm in Qiskit is not yet fully polished, as some subroutines are not optimally implemented, causing the program to run slower and consume more resources. \n",
    " \n",
    " - The estimator's variance has a closed form, calculated by the program. However, we were not able to perform numerical simulations\n",
    " \n",
    " - The optimal allocation of the measurement budget was not used because it did not affect the estimation outcome.  We can deduce from this that some minor error caused the program to malfunction.\n",
    "\n",
    " - The VQE implementation does not support higher molecules, since the ansatz...\n",
    "\n"
   ]
  },
  {
   "cell_type": "markdown",
   "id": "3aefbea4",
   "metadata": {},
   "source": [
    "## References \n",
    "\n",
    "[1] M. Cerezo, Andrew Arrasmith, Ryan Babbush, Simon C. Benjamin, Suguru Endo, Keisuke Fujii, Jarrod R. McClean, Kosuke Mitarai, Xiao Yuan, Lukasz Cincio & Patrick J. Coles. Variational quantum algorithms. ***Nature Reviews Physics***. 3:625–644, 8 2021. ISSN 2522-5820. [doi: 10.1038/s42254-021-00348-9](https://www.nature.com/articles/s42254-021-00348-9).\n",
    "\n",
    "[2] Kohda, Masaya and Imai, Ryosuke and Kanno, Keita and Mitarai, Kosuke and Mizukami, Wataru and Nakagawa, Yuya O. Quantum expectation-value estimation by computational basis sampling. ***Phys. Rev. Res***, 4:033173, Sep 2022. [doi:\n",
    "10.1103/PhysRevResearch.4.033173](https://link.aps.org/doi/10.1103/PhysRevResearch.4.033173).\n",
    "\n",
    "[3] Gonthier, Jérôme F. and Radin, Maxwell D. and Buda, Corneliu and Doskocil, Eric J. and Abuan, Clena M. and Romero, Jhonathan. Measurements as a roadblock to near-term prac-tical quantum advantage in chemistry: Resource analysis. ***Phys. Rev. Res.***, 4:033154, Aug 2022. [doi: 10.1103/PhysRevResearch.4.033154](https://link.aps.org/doi/10.1103/PhysRevResearch.4.033154).\n",
    "\n",
    "[4] Jarrod R McClean, Jonathan Romero, Ryan Babbush, and Al ́an Aspuru-Guzik. The theory of variational hybrid\n",
    "quantum-classical algorithms. ***New Journal of Physics***, 18(2):023023, feb 2016. [doi: 10.1088/1367-2630/18/2/\n",
    "023023](https://dx.doi.org/10.1088/1367-2630/18/2/023023).\n",
    "\n",
    "[5] Hsin-Yuan Huang, Richard Kueng, and John Preskill. Predicting many properties of a quantum system from very\n",
    "few measurements. ***Nature Physics***, 16:1050–1057, 10 2020. ISSN 1745-2473. [doi: 10.1038/s41567-020-0932-7](https://www.nature.com/articles/s41567-020-0932-7).\n",
    "\n",
    "[6] M. D. Radin and P. Johnson, Classically-boosted variational quantum eigensolver, [arXiv:2106.04755](https://arxiv.org/abs/2106.04755).\n"
   ]
  }
 ],
 "metadata": {
  "hide_input": false,
  "kernelspec": {
   "display_name": "Python 3 (ipykernel)",
   "language": "python",
   "name": "python3"
  },
  "language_info": {
   "codemirror_mode": {
    "name": "ipython",
    "version": 3
   },
   "file_extension": ".py",
   "mimetype": "text/x-python",
   "name": "python",
   "nbconvert_exporter": "python",
   "pygments_lexer": "ipython3",
   "version": "3.9.16"
  }
 },
 "nbformat": 4,
 "nbformat_minor": 5
}
