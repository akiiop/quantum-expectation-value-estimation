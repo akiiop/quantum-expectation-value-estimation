{
 "cells": [
  {
   "cell_type": "markdown",
   "id": "6813e5ff",
   "metadata": {},
   "source": [
    "# Efficient Quantum Expectation Values Estimation for Concentrated States"
   ]
  },
  {
   "cell_type": "markdown",
   "id": "59c968ae",
   "metadata": {},
   "source": [
    "## Summary\n",
    "\n",
    "Measuring [expectation values](https://en.wikipedia.org/wiki/Expectation_value_(quantum_mechanics)) of [observables](https://en.wikipedia.org/wiki/Observable#Quantum_mechanics) is an essential task in algorithms in quantum computing, for example, Quantum Neural Networks (QNN), the Variational Quantum Eigensolver (VQE) and the Quantum Approximate Optimization Algorithm (QAOA) [[1]](https://www.nature.com/articles/s42254-021-00348-9). These hybrid quantum-classical algorithms are one of the leading candidates for obtaining quantum advantage in the current era. However, these algorithms require such high precision in estimating the expectation values of observables that make them impractical due to the many sources of noisy in current hardware. \n",
    "\n",
    "In this project, we deal with the efficient measurement of the expectation values of observables acting on concentrated states, i.e., when only a small number of amplitudes in a measurement basis are non-negligible. This is accomplished using a hybrid quantum-classical algorithm based on a novel procedure described in [[2]](https://en.wikipedia.org/wiki/Variational_quantum_eigensolver) that includes improvements like reducing the number of CNOT gates employed and the estimated number of parameters. Our algorithm is supported in Qiskit and detailed in this tutorial, which provides the theoretical framework and numerical simulations to evaluate its performance."
   ]
  },
  {
   "cell_type": "markdown",
   "id": "13c12135",
   "metadata": {},
   "source": [
    "# 1. Introduction\n",
    "\n",
    "The current generation of quantum processors [[3]](https://quantum-journal.org/papers/q-2018-08-06-79/). is characterized by limited numbers of qubits, low gate fidelities, short coherence times, and noise processes that limit circuit depth. In this context, the VQAs is the best hope for obtaining quantum advantage. These algorithms typically utilize quantum computers to measure expectation values of observables for a given state using parametrized [quantum circuits](https://en.wikipedia.org/wiki/Quantum_circuit). However, precisely estimating these expectation values requires numerous [measurement](https://en.wikipedia.org/wiki/Measurement_in_quantum_mechanics) repetitions to reduce statistical fluctuation. Many applications require such high precision, that VQA algorithms are impractical due to the enormous amount of time needed. For instance, quantum chemical calculations require the so-called chemical accuracy of $ 1 \\textrm{ kcal/mol } \\approx 1.6 \\times 10^{-3}$ Hartree, making the [Variational Quantum Eigensolver](https://en.wikipedia.org/wiki/Variational_quantum_eigensolver) (VQE) method non-viable even for a small number of molecules [[4]](https://journals.aps.org/prresearch/abstract/10.1103/PhysRevResearch.4.033154).\n",
    "\n",
    "In this project, we implement a hybrid quantum-classical algorithm supported on Qiskit to measure the expectation values of observables efficiently. This algorithm is designed to be effective when the state is pure and concentrated, which is a family of quantum states with many interesting practical applications, such as in Quantum Chemistry. The approach is based on the paper [Quantum expectation-value estimation by computational basis sampling](https://link.aps.org/doi/10.1103/PhysRevResearch.4.033173) and includes improvements such as a reduction in the number of CNOT gates used and the estimated number of parameters. To explain the algorithm, this tutorial briefly describes the computation of the expectation values of observables. The algorithm's functioning is then described, and its implementation in Qiskit is shown using instructive examples. Moreover, we assess its performance by calculating the resources required to achieve a fixed accuracy. Finally, we illustrate how to implement the VQE method for a molecular Hamiltonian."
   ]
  },
  {
   "cell_type": "markdown",
   "id": "bb1a87cb",
   "metadata": {},
   "source": [
    "## 2.  Measuring expectation values of observables\n",
    "\n",
    "Let us consider a $n$-qubit system described by the pure state\n",
    "\\begin{align}\n",
    "|\\psi \\rangle = \\sum_{i=0}^{d-1} c_i |i \\rangle,\n",
    "\\end{align}\n",
    "\n",
    "where $i = i_{n-1} ... i_1 i_0$ is the integer representation of a binary string and $d = 2^n$ is the dimension of the system. The coefficients $c_i$ are complex numbers such that $\\sum_{i=0}^{d-1} |c_i|^2 =1$. An observable $O$ acting on $d$ qubits can be expressed as a linear combination of products of Pauli and identity operators on single qubits by\n",
    "\n",
    "\\begin{align}\n",
    " O = \\sum_{k=1}^M  \\alpha_k  P_k,\n",
    "\\end{align}\n",
    "\n",
    "where $P_k \\in \\{I, X,Y, Z\\}^{\\otimes d}$, $\\alpha_k\\in\\mathbb{R}$, and $M$ is the number of the Pauli strings. Therefore, the expectation value of $O$ can be written as\n",
    "\n",
    "\\begin{align}\n",
    "\\langle \\psi  | O | \\psi \\rangle\n",
    "= \\sum_{k=1}^M  \\alpha_k \\langle \\psi  | P_k | \\psi \\rangle.\n",
    "\\end{align}\n",
    "\n",
    "In the simplest way to estimate the expectation value $\\langle \\psi  | O |\\psi \\rangle$, each\n",
    "term $\\alpha_k \\langle \\psi  | P_k | \\psi \\rangle$ is measured on a quantum computer and then\n",
    "assembled by classical post-processing. However, for many applications, the number of quantities $M$ to be measured is $\\mathcal{O}\\left(\\mathrm{poly}(n)\\right)$, making the computation unfeasible if the number of qubits $n$ is not small enough.\n",
    "There are several studies to reduce the number of measurements to estimate expectation values of observables. Those works, to the best of our knowledge, are driven by: grouping Pauli strings [[4]](https://dx.doi.org/10.1088/1367-2630/18/2/023023), using classical shadows [[5]](https://www.nature.com/articles/s41567-020-0932-7#citeas), and dealing with one part of the quantum state classically [[6]](https://arxiv.org/abs/2106.04755). Despite these efforts, the measurement counts for practical applications are not significantly reduced."
   ]
  },
  {
   "cell_type": "markdown",
   "id": "25807a6e",
   "metadata": {},
   "source": [
    "## 3.  Efficient quantum expectation values estimation for concentrated states\n",
    "\n",
    "### 3.1 Motivation\n",
    "Under the assumption that $|\\psi \\rangle$ is a concentrated state, it is defined a reduced state $|\\psi_R \\rangle$ as\n",
    "\n",
    "\\begin{align}\n",
    "|\\psi_R \\rangle = \\mathcal{N}_R \\sum_{r=1}^{R} c_{i_r} |i_r \\rangle,\n",
    "\\end{align}\n",
    "\n",
    "where $R$ is a fixed number, $|c_{i_1}|^2 \\geq |c_{i_2}|^2 \\dots \\geq |c_{i_R}|^2 \\geq \\max\\{|c_{i}|^2: i \\neq i_r \\text{ for each } r=1\\dots R\\}$, and $\\mathcal{N}_r = 1/\\sqrt{ \\sum_{r=1}^{R} |c_{i_r}|^2}$. Therefore, the expectation value of an observable $O$ acting on the system can be approximated by\n",
    "\n",
    "\\begin{equation}\n",
    "\\begin{split}\n",
    "\\langle \\psi  | O | \\psi \\rangle \\approx \\mathcal{N}_R^2 \\langle \\psi_R  | O | \\psi_R \\rangle\n",
    "= & \\,\\mathcal{N}_R^2 \\sum_{r,r'=1}^R  c_{i_r} c_{i_r'}^* \\, \\langle i_{r'}  | O | i_r \\rangle \\\\\n",
    "= & \\, \\mathcal{N}_R^2 \\left\\{ \\sum_{r=1}^R |c_{i_r}|^2 \\langle i_r  | O | i_r \\rangle + 2 \\sum_{r < r'} \\mathrm{Re}(c_{i_r} c_{i_r'}^*) \\, \\mathrm{Re} \\langle i_{r'}  | O | i_r \\rangle  -  2 \\sum_{ r < r'} \\mathrm{Im}(c_{i_r} c_{i_r'}^*) \\, \\mathrm{Im} \\langle i_{r'}  | O | i_r \\rangle \\right\\},\n",
    "\\end{split}\n",
    "\\end{equation}\n",
    "\n",
    "If $O = O_{n-1} \\otimes \\dots \\otimes O_1 \\otimes O_0$ is a tensor product of one-qubit observables, the values of $\\langle j |O | k \\rangle$ can be efficiently calculated in a classical computer as\n",
    "\n",
    "\\begin{align}\n",
    "        \\langle k |O | j \\rangle = \\langle k_{n-1} |O_{n-1} | j_{n-1} \\rangle \\dots  \\langle k_1 |O_1 | j_1 \\rangle \\langle k_0 |O_0 | j_0 \\rangle.\n",
    "\\end{align} \n",
    "\n",
    "Hence, by an estimation of the coefficients $|c_{i_r}|^2$ , $2\\mathrm{Re}(c_{i_r} c_{i_r'}^*)$ and $2\\mathrm{Im}(c_{i_r} c_{i_r'}^*)$ we can estimate the expectation value of $O$. For this purpose, we define a [POVM](https://en.wikipedia.org/wiki/POVM) $E$ composed of the elements\n",
    "\\begin{equation}\n",
    "\\begin{split}\n",
    "P_k = K |k \\rangle \\langle k |, \\quad \n",
    "D_{jk} = \\frac{K}{2}(|j \\rangle  + |k \\rangle ) ( \\langle  j| + \\langle k |), & \\quad\n",
    "A_{jk} =  \\frac{K}{2}(|j \\rangle  - |k \\rangle ) ( \\langle  j| - \\langle k |), \\quad\n",
    "L_{jk} = \\frac{K}{2}(|j \\rangle  + i|k \\rangle ) ( \\langle  j| -i \\langle k |), \\\\\n",
    "R_{jk} = & \\frac{K}{2}(|j \\rangle  - i|k \\rangle ) ( \\langle  j| + i \\langle k |), \n",
    "\\end{split}\n",
    "\\end{equation}\n",
    "\n",
    "and noticing that\n",
    " \n",
    "\\begin{align}\n",
    "|c_{i}|^2 =   \\, \\frac{\\mathrm{Tr}\\left(\\rho P_{j} \\right)}{K},\\qquad\n",
    "2 \\mathrm{Re}(c_j c_k^*) =  \\, \\frac{\\mathrm{Tr}\\left(\\rho D_{jk} \\right) - \\mathrm{Tr}\\left(\\rho A_{jk} \\right)}{K},\\qquad\n",
    "-2 \\mathrm{Im}(c_j c_k^*) =  \\, \\frac{\\mathrm{Tr}\\left(\\rho L_{jk} \\right) - \\mathrm{Tr}\\left(\\rho R_{jk} \\right)}{K},\n",
    "\\end{align}\n",
    "\n",
    "we approximate $\\langle \\psi  | O | \\psi \\rangle$ by measuring the POVM $E$. To implement this POVM, we select $2R(R-1)+1$ basis that contain all the combinations \n",
    "\n",
    "$\\textbf{Observation:}$ Since concentrate states usually present interactions for a small number of bodies,  there are some quantities $\\langle i_{r'}  | O | i_r \\rangle = 0 $. Therefore, some coefficients are negligible due to the structure of the quantum state. This reduction of coefficients depend on the number of $X$ and $Y$ gates on the Pauli string, and improves the required measurement resources to compute the approximation, hence improving the estimation of $\\langle \\psi  | O | \\psi \\rangle$.\n"
   ]
  },
  {
   "cell_type": "markdown",
   "id": "9aeaec0d",
   "metadata": {},
   "source": [
    "### 3.1 Motivation\n",
    "Given a state $|\\psi \\rangle$ of $n$ qubits, the expectation value of an observable $O$ acting on the system is\n",
    "\\begin{equation}\n",
    "\\begin{split}\n",
    "\\langle \\psi  | O | \\psi \\rangle = & \\sum_{j,k=1}^d  c_{j} c_{k}^* \\, \\langle k  | O | j \\rangle \\\\\n",
    "= &\\sum_{j=1}^d |c_{j}|^2 \\langle j  | O | j \\rangle + 2 \\sum_{j < k}^d \\mathrm{Re}(c_{j} c_{k}^*) \\, \\mathrm{Re} \\langle k  | O | j \\rangle  -  2 \\sum_{ j < k}^d \\mathrm{Im}(c_j c_k^*) \\, \\mathrm{Im} \\langle k  | O | j \\rangle.\n",
    "\\end{split}\n",
    "\\end{equation}\n",
    "\n",
    "If $O = O_{n-1} \\otimes \\dots \\otimes O_0$ is a tensor product of one-qubit observables, we can classically calculate $ \\langle k |O | j \\rangle = \\langle k_{n-1} |O_{n-1} | j_{n-1} \\rangle \\dots   \\langle k_0 |O_0 | j_0 \\rangle$.\n",
    "Hence, by an estimation of the coefficients $|c_j|^2$ , $2\\mathrm{Re}(c_j c_k^*)$ and $2\\mathrm{Im}(c_j c_k^*)$ we can estimate the expectation value of $O$. For this purpose, we define a [POVM](https://en.wikipedia.org/wiki/POVM) $E$ composed of the elements\n",
    "\n",
    "\\begin{equation}\n",
    "\\begin{split}\n",
    "P_k = K |k \\rangle \\langle k |, \\quad \n",
    "D_{jk}^\\pm = \\frac{K}{2}(|j \\rangle  \\pm |k \\rangle ) ( \\langle  j| \\pm \\langle k |), & \\quad\n",
    "L_{jk}^\\pm = \\frac{K}{2}(|j \\rangle  \\pm i|k \\rangle ) ( \\langle  j| \\mp i \\langle k |), \\\\\n",
    "\\end{split}\n",
    "\\end{equation}\n",
    "\n",
    "with $j, k = 0, 1, ..., d-1$, $j < k$ and $K = 1/(2d-1)$ is a normalization term. Noticing that\n",
    "\n",
    "\\begin{align}\n",
    "|c_{i}|^2 =   \\, \\frac{\\mathrm{Tr}\\left(\\rho P_{j} \\right)}{K},\\qquad\n",
    "2 \\mathrm{Re}(c_j c_k^*) =  \\, \\frac{\\mathrm{Tr}\\left(\\rho D_{jk}^+ \\right) - \\mathrm{Tr}\\left(\\rho D_{jk}^- \\right)}{K},\\qquad\n",
    "-2 \\mathrm{Im}(c_j c_k^*) =  \\, \\frac{\\mathrm{Tr}\\left(\\rho L_{jk}^+ \\right) - \\mathrm{Tr}\\left(\\rho L_{jk}^- \\right)}{K},\n",
    "\\end{align}\n",
    "\n",
    "we approximate $\\langle \\psi  | O | \\psi \\rangle$ by measuring the POVM $E$. This POVM can be implemented by sampling uniformly from $2d-1$ basis, which is an exponential number.\n",
    "\n",
    "We can improve the estimation in two ways: \n",
    "\n",
    "1.   If we know that the number of $X$ + $Y$ terms $t$ in a Pauli string $P$ is fixed, then all the terms $\\langle k  | P | j \\rangle$ such that the [Hamming distance](https://en.wikipedia.org/wiki/Hamming_distance) $\\mathrm{dist}_H (k, j) \\neq t$ are zero. For example, $\\langle 000| XYZ |111\\rangle = i\\langle 000| 001 \\rangle = 0$. Then we only need to measure bases that contain terms of the form $| j \\rangle \\pm |k \\rangle$ and $| j \\rangle \\pm i|k \\rangle$ such that $\\mathrm{dist}_H (j, k) = t$. The total number of basis is $K_t = 2\\frac{n!}{(n-t)!t!} \\ll d$, and we define a new POVM $E_t$ sampling from these bases and with normalization factor $K_t$. These basis require $t-1$ CNOT gates. \n",
    "\n",
    "2.   If we know that our state is concentrated, that is, $|\\psi \\rangle \\approx \\sum_{r=1}^{R} c_{i_r} |i_r \\rangle$, where $R \\ll d$ is a fixed number, and $|c_{i_1}|^2 \\geq |c_{i_2}|^2 \\dots \\geq |c_{i_R}|^2 \\geq tolerance$, then the only non-vanishing terms will be the $c_{i_r} c_{i_r'}^{*}$. This means that we only have to measure the $K_R \\leq 2R(R-1)+1$ bases that contain terms of the form $| i_r \\rangle \\pm |i_r' \\rangle$ and $| i_r \\rangle \\pm i| i_r' \\rangle$ and define a POVM $E_R$ that contains these basis and the normalization factor $K_R$.\n",
    "\n",
    "The Pauli strings of molecular Hamiltonians mapped to qubits using Jordan Wigner usually contain $0$, $2$ or $4$ $X + Y$ Paulis. Then, we can use (1) with these observables. Also, their ground states are usually highly concentrated. Then, we can use (2). This means that we only have to measure a POVM $E_{Rt}$ that samples from the basis in the intersection of $E_t$ and $E_r$, with a normalization factor $K_{Rt} < K_t, K_r$. Since we are measuring less bases, we can assign more shots to each one of them, reducing the variance and then improving the estimation. "
   ]
  },
  {
   "cell_type": "markdown",
   "id": "648ebbb8",
   "metadata": {},
   "source": [
    "### 3.2 The method\n",
    "\n",
    "To implement the above idea we reproduce the following procedure:\n",
    "\n",
    "1. Prepare the state $|\\psi\\rangle$ on quantum computers, and measure it in the computational basis $\\{| i \\rangle : i = 0,1,2^n-1\\}$ with a number $L_f$ of shoots.\n",
    "\n",
    "2. From the outcomes of the measurement we  pick up the most frequent R elements such that $1-|\\langle \\psi_R | \\psi \\rangle|^2$ is lower than some previously defined tolerance $\\mathrm{Tol}$ ($\\approx 10^{-4}$). Next, we sort in descending order of frecuency the selected elements.\n",
    "\n",
    "3. Determine the number of $X$ and $Y$ gates in the Pauli string to reduce the number of coefficients in the estimation.\n",
    "\n",
    "4. Measure The POVM $E$ and compute the non-negligible coefficientes $|c_{i_r}|^2$ , $2\\,\\mathrm{Re}(c_{i_r} c_{i_r'}^*)$ and $2\\,\\mathrm{Im}(c_{i_r} c_{i_r'}^*)$ as a sample mean of the outcomes.\n",
    "\n",
    "The described method inherits the performance properties shown in [[2]](https://link.aps.org/doi/10.1103/PhysRevResearch.4.033173). First, the error in estimating  $\\langle \\psi  | O | \\psi \\rangle$ produced by  approximating  the quantum estate by $| \\psi_R\\rangle$ is proportional to $\\sqrt{1-|\\langle \\psi_R | \\psi \\rangle|^2}$. Next, the number of measurements necessary to attain some precision in the standard deviation of the approximation is fewer than that of the alternative techniques. Moreover, the described method improves that reported in [[2]](https://link.aps.org/doi/10.1103/PhysRevResearch.4.033173), since the number of CNOT gates employed is not $\\mathcal{O}(d)$, but is equal to the number of $X$ and $Y$ gate in the Pauli string."
   ]
  },
  {
   "cell_type": "markdown",
   "id": "2abffb1b",
   "metadata": {},
   "source": [
    "## 4. Implementation using Qiskit\n"
   ]
  },
  {
   "cell_type": "markdown",
   "id": "e21ee977",
   "metadata": {},
   "source": [
    "## 5. Expectation Values of Molecule Hamiltonians"
   ]
  },
  {
   "cell_type": "code",
   "execution_count": 49,
   "id": "512e178c",
   "metadata": {
    "ExecuteTime": {
     "end_time": "2023-02-28T21:31:38.260718Z",
     "start_time": "2023-02-28T21:31:38.256350Z"
    }
   },
   "outputs": [],
   "source": [
    "import sys\n",
    "sys.path.append(\"../expectation_value\")\n",
    "sys.path.append(\"../utils_hamiltonian\")\n",
    "\n",
    "from expectationvalue import ExpVal\n",
    "from utils_hamiltonian import MoleculeHamiltonian, get_number_nbody_terms, get_obs_data\n",
    "from qiskit_nature.second_q.mappers import JordanWignerMapper, QubitConverter\n",
    "import qiskit.quantum_info as qif\n",
    "\n",
    "import numpy as np\n",
    "import h5py"
   ]
  },
  {
   "cell_type": "markdown",
   "id": "4706fd93",
   "metadata": {},
   "source": [
    "The first step is to define a our target molecule and obtain the qubit hamiltonian. bla bla\n",
    "\n"
   ]
  },
  {
   "cell_type": "code",
   "execution_count": 50,
   "id": "b0f19610",
   "metadata": {
    "ExecuteTime": {
     "end_time": "2023-02-28T21:31:38.652837Z",
     "start_time": "2023-02-28T21:31:38.648199Z"
    }
   },
   "outputs": [],
   "source": [
    "# The following dictionary gives the molecule geometry needed to obtain\n",
    "# the hamiltonian, for a given interatomic distance.\n",
    "\n",
    "molecules = {\n",
    "    \"H2\":\"H .0 .0 .0; H .0 .0 0.735\",\n",
    "    \"LiH\":\"Li .0 .0 .0; H .0 .0 1.548\",\n",
    "    \"BeH2\": \"Be .0 .0 .0; H .0 .0 -1.7; H .0 .0 1.7\",\n",
    "    \"H2O\": \"H -0.0399 -0.0038 0.0; O 1.5780 0.8540 0.0; H 2.7909 -0.5159 0.0\",\n",
    "    \"NH3\": \"N 0.0 0.0 0.149; H 0.0 0.947 -0.348; H  0.821 -0.474 -0.348; H -0.821 -0.474 -0.348\"\n",
    "}\n",
    "\n",
    "mol = 'H2'\n",
    "# mol = 'LiH'\n",
    "# mol = \"H2O\"\n",
    "# mol = \"NH3\""
   ]
  },
  {
   "cell_type": "markdown",
   "id": "df469144",
   "metadata": {},
   "source": [
    "Using the tools in utils_hamiltonian and together with qiskit_natures functions, we can easly define our qubit hamiltonian and obtain its exact ground state and ground state energy."
   ]
  },
  {
   "cell_type": "code",
   "execution_count": 51,
   "id": "3a8581ec",
   "metadata": {
    "ExecuteTime": {
     "end_time": "2023-02-28T21:31:40.882178Z",
     "start_time": "2023-02-28T21:31:40.454187Z"
    }
   },
   "outputs": [
    {
     "name": "stderr",
     "output_type": "stream",
     "text": [
      "Exception ignored in: <function _TemporaryFileCloser.__del__ at 0x7f8138f34160>\n",
      "Traceback (most recent call last):\n",
      "  File \"/opt/anaconda3/lib/python3.9/tempfile.py\", line 445, in __del__\n",
      "    self.close()\n",
      "  File \"/opt/anaconda3/lib/python3.9/tempfile.py\", line 441, in close\n",
      "    unlink(self.name)\n",
      "FileNotFoundError: [Errno 2] No such file or directory: '/home/dmunoz/Documentos/GitHub/quantum-expectation-value-estimation/Tutorial/tmpvewrrjwk'\n"
     ]
    },
    {
     "name": "stdout",
     "output_type": "stream",
     "text": [
      "Exact Ground State Energy:  -1.857275030202379\n"
     ]
    }
   ],
   "source": [
    "converter = QubitConverter( JordanWignerMapper(), z2symmetry_reduction=None)\n",
    "molecular_hamiltonian = MoleculeHamiltonian(molecules[mol] , converter=converter, basis='sto3g')\n",
    "\n",
    "# Qubit hamiltonian\n",
    "hamiltonian = molecular_hamiltonian.Hamiltonian( freeze_core = False )\n",
    "\n",
    "driver = molecular_hamiltonian.driver\n",
    "problem = molecular_hamiltonian.problem\n",
    "\n",
    "# Number of qubits of the qubit hamiltonian\n",
    "n_qubits = hamiltonian.num_qubits\n",
    "\n",
    "# Number of n-bodies interaction\n",
    "bodies = get_number_nbody_terms(hamiltonian)\n",
    "\n",
    "# Exact ground state estimation, giving the ground state\n",
    "# (as a circuit) and the ground state energy\n",
    "circ_gs, eig_gs = molecular_hamiltonian.ComputeGroundState()\n",
    "\n",
    "print(\"Exact Ground State Energy: \", eig_gs)"
   ]
  },
  {
   "cell_type": "markdown",
   "id": "48e27af2",
   "metadata": {},
   "source": [
    "Next, we choose the parameters needed to execute our method."
   ]
  },
  {
   "cell_type": "code",
   "execution_count": 52,
   "id": "c13404fa",
   "metadata": {
    "ExecuteTime": {
     "end_time": "2023-02-28T21:31:41.152864Z",
     "start_time": "2023-02-28T21:31:41.149183Z"
    }
   },
   "outputs": [],
   "source": [
    "# Total number of resources i.e. ensemble of shots\n",
    "total_shots = 100000\n",
    "\n",
    "# Number of shots to measure in the computational basis\n",
    "r_shots = 1000\n",
    "\n",
    "# Number of computational basis states retained (Concentration)\n",
    "r = 2"
   ]
  },
  {
   "cell_type": "code",
   "execution_count": 53,
   "id": "46f6bc48",
   "metadata": {
    "ExecuteTime": {
     "end_time": "2023-02-28T21:31:45.694026Z",
     "start_time": "2023-02-28T21:31:43.004551Z"
    },
    "code_folding": []
   },
   "outputs": [],
   "source": [
    "# We load the parameters of our algorithm\n",
    "algorithm = ExpVal(n_shots = total_shots-r_shots,\n",
    "        bodies = bodies, \n",
    "        r = r, \n",
    "        r_shots = r_shots,\n",
    "        n_qubits = n_qubits)\n",
    "\n",
    "# We get the interference terms for a given state, which can be loaded either as a\n",
    "# quantum circuit or as a vector (numpy array)\n",
    "algorithm.get_interferences(circ_gs)\n",
    "\n",
    "# To use the exp_val method, we first need to separete de hamiltonian\n",
    "# into a list of coefficients and the concatenation of every pauli string\n",
    "coeffs, obs = get_obs_data(hamiltonian)\n",
    "\n",
    "\n",
    "# We removed the first pauli string which corresponds to the identity, \n",
    "# as its trace with respect to any state is always 1. Therefore,\n",
    "# we only need to add this coefficient to our expectation value\n",
    "\n",
    "first_term_coeffs = hamiltonian[0].coeffs[0].real\n",
    "\n",
    "# We evaluate the expectation value of each string and multiply it for the respective coefficient\n",
    "exp_val = algorithm.exp_val(obs)\n",
    "results = np.sum(exp_val*coeffs).real+ first_term_coeffs"
   ]
  },
  {
   "cell_type": "code",
   "execution_count": 54,
   "id": "cf9bc66e",
   "metadata": {
    "ExecuteTime": {
     "end_time": "2023-02-28T21:31:47.148621Z",
     "start_time": "2023-02-28T21:31:47.144078Z"
    }
   },
   "outputs": [
    {
     "name": "stdout",
     "output_type": "stream",
     "text": [
      "Calculated expectation value with our algorithm:  -1.8570912360910827\n",
      "Absolute Error:  0.0001837941112963204\n"
     ]
    }
   ],
   "source": [
    "print('Calculated expectation value with our algorithm: ', results)\n",
    "print('Absolute Error: ', np.abs(results-eig_gs))"
   ]
  },
  {
   "cell_type": "markdown",
   "id": "2b51220d",
   "metadata": {},
   "source": [
    "Next, we aim to show that our method is capable of reproducing the same results from [Quantum expectation-value estimation by computational basis sampling](https://link.aps.org/doi/10.1103/PhysRevResearch.4.033173) shown in Table 1 and Figure 2, for every molecule in the dictionary `molecules`.\n",
    "\n",
    "* H2 molecule: total_shots = 300000, r_shots = 1000, r = 2 with 100 repetitions.\n",
    "\n",
    "* LiH molecule: total_shots = 300000, r_shots = 1000, r = 9 with 100 repetitions.\n",
    "        \n",
    "* H2O molecule: total_shots = 4000000, r_shots = 10000, r = 30 with 26 repetitions.\n",
    "        \n",
    "* NH3 molecule: total_shots = 10000000, r_shots = 10000, r = 171 with 5 repetitions."
   ]
  },
  {
   "cell_type": "code",
   "execution_count": 45,
   "id": "c4e8e6d8",
   "metadata": {
    "ExecuteTime": {
     "end_time": "2023-02-28T21:19:40.985031Z",
     "start_time": "2023-02-28T21:19:40.973831Z"
    }
   },
   "outputs": [
    {
     "name": "stdout",
     "output_type": "stream",
     "text": [
      "Number of repetitions: 100\n",
      "Mean of the absolute error of every repetition: 0.0007403996069078111\n",
      "Standard deviation of the absolute error of every repetition: 0.0005517153302769676\n"
     ]
    }
   ],
   "source": [
    "# H2 molecule\n",
    "\n",
    "h2data = h5py.File('data/h2_data.hdf5', 'r')\n",
    "\n",
    "h2data_results = h2data[\"results\"][:]\n",
    "h2data_eigs_gs = h2data['eig_gs']\n",
    "\n",
    "print('Number of repetitions:', len(h2data_results))\n",
    "\n",
    "mean_h2data = np.mean(np.abs(h2data_results - h2data_eigs_gs))\n",
    "std_h2data = np.std(np.abs(h2data_results - h2data_eigs_gs))\n",
    "\n",
    "print('Mean of the absolute error:', mean_h2data)\n",
    "print('Standard deviation of the absolute error:', std_h2data)"
   ]
  },
  {
   "cell_type": "code",
   "execution_count": 46,
   "id": "c725bfbd",
   "metadata": {
    "ExecuteTime": {
     "end_time": "2023-02-28T21:19:43.266414Z",
     "start_time": "2023-02-28T21:19:43.254393Z"
    }
   },
   "outputs": [
    {
     "name": "stdout",
     "output_type": "stream",
     "text": [
      "Number of repetitions: 100\n",
      "Mean of the absolute error of every repetition: 0.002504397379846406\n",
      "Standard deviation of the absolute error of every repetition: 0.0018177761250875975\n"
     ]
    }
   ],
   "source": [
    "# LiH molecule\n",
    "\n",
    "lihdata = h5py.File('data/lih_data.hdf5', 'r')\n",
    "\n",
    "lihdata_results = lihdata[\"results\"][:]\n",
    "lihdata_eigs_gs = lihdata['eig_gs']\n",
    "\n",
    "print('Number of repetitions:', len(lihdata_results))\n",
    "\n",
    "mean_lihdata = np.mean(np.abs(lihdata_results - lihdata_eigs_gs))\n",
    "std_lihdata = np.std(np.abs(lihdata_results - lihdata_eigs_gs))\n",
    "\n",
    "print('Mean of the absolute error:', mean_lihdata)\n",
    "print('Standard deviation of the absolute error:', std_lihdata)"
   ]
  },
  {
   "cell_type": "code",
   "execution_count": 47,
   "id": "acb72b22",
   "metadata": {
    "ExecuteTime": {
     "end_time": "2023-02-28T21:19:45.642652Z",
     "start_time": "2023-02-28T21:19:45.630599Z"
    }
   },
   "outputs": [
    {
     "name": "stdout",
     "output_type": "stream",
     "text": [
      "Number of repetitions: 26\n",
      "Mean of the absolute error of every repetition: 0.002721312630238952\n",
      "Standard deviation of the absolute error of every repetition: 0.0017530543271490077\n"
     ]
    }
   ],
   "source": [
    "# H2O molecule\n",
    "\n",
    "h2odata = h5py.File('data/h2o_data.hdf5', 'r')\n",
    "\n",
    "h2odata_results = h2odata[\"results\"][:]\n",
    "h2odata_eigs_gs = h2odata['eig_gs']\n",
    "\n",
    "print('Number of repetitions:', len(h2odata_results))\n",
    "\n",
    "mean_h2odata = np.mean(np.abs(h2odata_results - h2odata_eigs_gs))\n",
    "std_h2odata = np.std(np.abs(h2odata_results - h2odata_eigs_gs))\n",
    "\n",
    "print('Mean of the absolute error:', mean_h2odata)\n",
    "print('Standard deviation of the absolute error:', std_h2odata)"
   ]
  },
  {
   "cell_type": "code",
   "execution_count": 48,
   "id": "b4cf9b42",
   "metadata": {
    "ExecuteTime": {
     "end_time": "2023-02-28T21:20:22.433405Z",
     "start_time": "2023-02-28T21:20:22.422105Z"
    }
   },
   "outputs": [
    {
     "name": "stdout",
     "output_type": "stream",
     "text": [
      "Number of repetitions: 5\n",
      "Mean of the absolute error of every repetition: 0.0007403996069078111\n",
      "Standard deviation of the absolute error of every repetition: 0.0005517153302769676\n"
     ]
    }
   ],
   "source": [
    "# NH3 molecule\n",
    "\n",
    "nh3data = h5py.File('data/nh3_data.hdf5', 'r')\n",
    "\n",
    "nh3data_results = nh3data[\"results\"][:]\n",
    "nh3data_eigs_gs = nh3data['eig_gs']\n",
    "\n",
    "print('Number of repetitions:', len(nh3data_results))\n",
    "\n",
    "mean_nh3data = np.mean(np.abs(nh3data_results - nh3data_eigs_gs))\n",
    "std_nh3data = np.std(np.abs(nh3data_results - nh3data_eigs_gs))\n",
    "\n",
    "print('Mean of the absolute error:', mean_h2data)\n",
    "print('Standard deviation of the absolute error:', std_h2data)"
   ]
  },
  {
   "cell_type": "code",
   "execution_count": null,
   "id": "d433df9d",
   "metadata": {},
   "outputs": [],
   "source": [
    "# To obtain similar results, you could execute the following lines of code,\n",
    "# choosing beforehand the molecule of interest.\n",
    "\n",
    "# reps = 100\n",
    "# results = []\n",
    "\n",
    "# for i in range(reps):\n",
    "#     algorithm = ExpVal(n_shots = total_shots-r_shots,\n",
    "#         bodies = bodies, \n",
    "#         r = r, \n",
    "#         r_shots = r_shots,\n",
    "#         n_qubits = n_qubits)\n",
    "    \n",
    "#     algorithm.get_interferences(circ_gs)\n",
    "    \n",
    "#     coeffs, obs = get_obs_data(hamiltonian)\n",
    "\n",
    "#     exp_val = algorithm.exp_val(obs)\n",
    "    \n",
    "#     # We remove the first pauli string which corresponds to the identity, \n",
    "#     # as its trace with respect to any state is always 1. Therefore,\n",
    "#     # we only need to add this coefficient to our expectation value\n",
    "    \n",
    "#     first_term_coeff = hamiltonian[0].coeffs[0].real\n",
    "    \n",
    "#     results.append(np.sum(exp_val*coeffs).real + first_term_coeff)"
   ]
  },
  {
   "cell_type": "code",
   "execution_count": null,
   "id": "4e29773c",
   "metadata": {},
   "outputs": [],
   "source": []
  },
  {
   "cell_type": "code",
   "execution_count": null,
   "id": "f9261f66",
   "metadata": {},
   "outputs": [],
   "source": []
  },
  {
   "cell_type": "code",
   "execution_count": null,
   "id": "367c5276",
   "metadata": {},
   "outputs": [],
   "source": []
  },
  {
   "cell_type": "code",
   "execution_count": null,
   "id": "411ee26f",
   "metadata": {},
   "outputs": [],
   "source": []
  },
  {
   "cell_type": "code",
   "execution_count": 30,
   "id": "76339fbc",
   "metadata": {
    "ExecuteTime": {
     "end_time": "2023-02-28T19:59:01.216170Z",
     "start_time": "2023-02-28T19:54:27.604515Z"
    }
   },
   "outputs": [
    {
     "name": "stdout",
     "output_type": "stream",
     "text": [
      "Exact Ground State Energy:  -66.88026272946854\n"
     ]
    }
   ],
   "source": [
    "# mol = 'H2'\n",
    "# mol = 'LiH'\n",
    "# mol = \"H2O\"\n",
    "# mol = \"NH3\"\n",
    "\n",
    "converter = QubitConverter( JordanWignerMapper(), z2symmetry_reduction=None)\n",
    "molecular_hamiltonian = MoleculeHamiltonian(molecules[mol] , converter=converter, basis='sto3g')\n",
    "\n",
    "# Qubit hamiltonian\n",
    "hamiltonian = molecular_hamiltonian.Hamiltonian( freeze_core = False )\n",
    "\n",
    "driver = molecular_hamiltonian.driver\n",
    "problem = molecular_hamiltonian.problem\n",
    "\n",
    "# Number of qubits of the qubit hamiltonian\n",
    "n_qubits = hamiltonian.num_qubits\n",
    "\n",
    "# Number of n-bodies interaction\n",
    "bodies = get_number_nbody_terms(hamiltonian)\n",
    "\n",
    "# Exact ground state estimation, giving the ground state\n",
    "# (as a circuit) and the ground state energy\n",
    "circ_gs, eig_gs = molecular_hamiltonian.ComputeGroundState()\n",
    "\n",
    "print(\"Exact Ground State Energy: \", eig_gs)"
   ]
  },
  {
   "cell_type": "code",
   "execution_count": 31,
   "id": "615de458",
   "metadata": {
    "ExecuteTime": {
     "end_time": "2023-02-28T19:59:01.221307Z",
     "start_time": "2023-02-28T19:59:01.218356Z"
    }
   },
   "outputs": [],
   "source": [
    "from tqdm import tqdm\n",
    "\n",
    "reps = 5\n",
    "\n",
    "# Total number of resources i.e. ensemble of shots\n",
    "total_shots = 10000000\n",
    "\n",
    "# Number of shots to measure in the computational basis\n",
    "r_shots = 10000\n",
    "\n",
    "# Number of computational basis states retained (Concentration)\n",
    "r = 30"
   ]
  },
  {
   "cell_type": "code",
   "execution_count": 32,
   "id": "8ad49596",
   "metadata": {
    "ExecuteTime": {
     "end_time": "2023-02-28T20:45:47.191465Z",
     "start_time": "2023-02-28T19:59:01.223210Z"
    }
   },
   "outputs": [
    {
     "name": "stderr",
     "output_type": "stream",
     "text": [
      "100%|████████████████████████████████████████████| 5/5 [46:45<00:00, 561.19s/it]\n"
     ]
    }
   ],
   "source": [
    "results = []\n",
    "\n",
    "for i in tqdm(range(reps)):\n",
    "    algorithm = ExpVal(n_shots = total_shots-r_shots,\n",
    "        bodies = bodies, \n",
    "        r = r, \n",
    "        r_shots = r_shots,\n",
    "        n_qubits = n_qubits)\n",
    "    \n",
    "    algorithm.get_interferences(circ_gs)\n",
    "    \n",
    "    coeffs, obs = get_obs_data(hamiltonian)\n",
    "\n",
    "    exp_val = algorithm.exp_val(obs)\n",
    "    \n",
    "    # We remove the first pauli string which corresponds to the identity, \n",
    "    # as its trace with respect to any state is always 1. Therefore,\n",
    "    # we only need to add this coefficient to our expectation value\n",
    "    \n",
    "    first_term_coeff = hamiltonian[0].coeffs[0].real\n",
    "    \n",
    "    results.append(np.sum(exp_val*coeffs).real + first_term_coeff)"
   ]
  },
  {
   "cell_type": "code",
   "execution_count": 35,
   "id": "00983aef",
   "metadata": {
    "ExecuteTime": {
     "end_time": "2023-02-28T21:09:47.547507Z",
     "start_time": "2023-02-28T21:09:47.541039Z"
    }
   },
   "outputs": [
    {
     "name": "stdout",
     "output_type": "stream",
     "text": [
      "0.001224397053726989\n",
      "0.0009830372602834814\n",
      "0.0008589166211297115\n"
     ]
    }
   ],
   "source": [
    "print(np.mean(np.abs(results-eig_gs)))\n",
    "print(np.median(np.abs(results-eig_gs)))\n",
    "print(np.std(np.abs(results-eig_gs)))"
   ]
  },
  {
   "cell_type": "code",
   "execution_count": 34,
   "id": "74064e30",
   "metadata": {
    "ExecuteTime": {
     "end_time": "2023-02-28T20:45:47.212220Z",
     "start_time": "2023-02-28T20:45:47.199034Z"
    }
   },
   "outputs": [],
   "source": [
    "# h2_data = h5py.File(\"h2_data_300000shots_1000rshots_r2_100reps.hdf5\", \"w\")\n",
    "# h2_data.create_dataset('results', data=results)\n",
    "# h2_data.create_dataset('eig_gs', data=eig_gs)\n",
    "# h2_data.close()\n",
    "\n",
    "# lih_data = h5py.File(\"lih_data_300000shots_1000rshots_r9_100reps.hdf5\", \"w\")\n",
    "# lih_data.create_dataset('results', data=results)\n",
    "# lih_data.create_dataset('eig_gs', data=eig_gs)\n",
    "# lih_data.close()\n",
    "\n",
    "# h2o_data = h5py.File(\"h2o_data_4000000shots_10000rshots_r30_26reps.hdf5\", \"w\")\n",
    "# h2o_data.create_dataset('results', data=results)\n",
    "# h2o_data.create_dataset('eig_gs', data=eig_gs)\n",
    "# h2o_data.close()\n",
    "\n",
    "nh3_data = h5py.File(\"nh3_data_10000000shots_1000rshots_r171_Xreps.hdf5\", \"w\")\n",
    "nh3_data.create_dataset('results', data=results)\n",
    "nh3_data.create_dataset('eig_gs', data=eig_gs)\n",
    "nh3_data.close()"
   ]
  },
  {
   "cell_type": "code",
   "execution_count": 21,
   "id": "4e810e32",
   "metadata": {
    "ExecuteTime": {
     "end_time": "2023-02-28T19:02:15.808130Z",
     "start_time": "2023-02-28T19:02:15.799404Z"
    }
   },
   "outputs": [
    {
     "data": {
      "text/plain": [
       "0.0007403996069078111"
      ]
     },
     "execution_count": 21,
     "metadata": {},
     "output_type": "execute_result"
    }
   ],
   "source": [
    "# kek = h5py.File('h2_data_300000shots_1000rshots_r2_100reps.hdf5', 'r')\n",
    "# np.mean(np.abs(kek[\"results\"][:] - kek['eig_gs']))"
   ]
  },
  {
   "cell_type": "code",
   "execution_count": null,
   "id": "f81f6afe",
   "metadata": {},
   "outputs": [],
   "source": []
  },
  {
   "cell_type": "code",
   "execution_count": null,
   "id": "3ff0fa8f",
   "metadata": {},
   "outputs": [],
   "source": []
  },
  {
   "cell_type": "code",
   "execution_count": null,
   "id": "cacd1865",
   "metadata": {},
   "outputs": [],
   "source": []
  },
  {
   "cell_type": "markdown",
   "id": "0508cf26",
   "metadata": {},
   "source": [
    "Alternatively, we can use qiskit_runtime to calculate the expectation values using the same number of resources, to compare with our method."
   ]
  },
  {
   "cell_type": "code",
   "execution_count": null,
   "id": "b47134f5",
   "metadata": {},
   "outputs": [],
   "source": [
    "from qiskit_ibm_runtime import QiskitRuntimeService, Estimator, Session, Options\n",
    "\n",
    "# Number of shots per pauli string\n",
    "num_paulis = len(hamiltonian)\n",
    "shots_runtime = total_shots//num_paulis\n",
    "\n",
    "# Load your qiskit_runtime services\n",
    "#QiskitRuntimeService.save_account(channel=\"ibm_quantum\", token=\"1a92dbd3ad8a3a75036e3b0fed7d2a10a0dfef2277960a619c033757aa1aa9bcc8f95922671a2fbd0b05339eea4aae6305bc43b5b2e6d33b161346f9983adf48\")\n",
    "service = QiskitRuntimeService(channel=\"ibm_quantum\")\n",
    "\n",
    "# Define the options of the Estimator, without error mitigation\n",
    "# and with the same optimization level as our method (default).\n",
    "\n",
    "options = Options()\n",
    "options.optimization_level = 1\n",
    "options.resilience_level = 0\n",
    "options.execution.shots = shots_runtime\n",
    "\n",
    "with Session(service=service, backend=\"ibmq_qasm_simulator\") as session:\n",
    "    estimator = Estimator(session=session, options = options)\n",
    "    job = estimator.run(circ_gs, hamiltonian)\n",
    "    result = job.result()\n",
    "\n",
    "result_runtime = result.values[0]\n",
    "np.abs(result_runtime-eig_gs)"
   ]
  },
  {
   "cell_type": "markdown",
   "id": "a94f8d44",
   "metadata": {},
   "source": [
    "## 6. VQE for the H2 Molecule"
   ]
  },
  {
   "cell_type": "code",
   "execution_count": null,
   "id": "60a1c9d6",
   "metadata": {},
   "outputs": [],
   "source": [
    "class Custom_VQE():\n",
    "    \n",
    "    def __init__(self,\n",
    "                 initial_point,\n",
    "                 ansatz,\n",
    "                 optimizer,\n",
    "                 total_shots,\n",
    "                 r_shots,\n",
    "                 r\n",
    "                ):\n",
    "        \n",
    "        self.initial_point = initial_point\n",
    "        self.ansatz = ansatz\n",
    "        self.optimizer = optimizer\n",
    "        \n",
    "        self.total_shots = total_shots\n",
    "        self.r_shots = r_shots\n",
    "        self.r = r\n",
    "    \n",
    "    def compute_minimum_eigenvalue(self, hamiltonian):\n",
    "\n",
    "        def exp_val_vqe(state, hamiltonian):\n",
    "            \n",
    "            bodies = get_number_nbody_terms(hamiltonian)\n",
    "            n_qubits = hamiltonian.num_qubits\n",
    "            \n",
    "            coeffs, obs = get_obs_data(hamiltonian)\n",
    "            \n",
    "            algorithm = ExpVal(n_shots = self.total_shots - self.r_shots,\n",
    "                    bodies = bodies, \n",
    "                    r = self.r, \n",
    "                    r_shots = self.r_shots,\n",
    "                    n_qubits = n_qubits)\n",
    "            \n",
    "            algorithm.get_interferences(state)\n",
    "            \n",
    "            first_term_coeff = hamiltonian[0].coeffs[0].real\n",
    "            \n",
    "            exp_val_paulis = algorithm.exp_val(obs)\n",
    "            expectation_value = np.sum(exp_val_paulis*coeffs).real + first_term_coeff\n",
    "            \n",
    "            return expectation_value\n",
    "        \n",
    "        \n",
    "        expectation_value = lambda x: exp_val_vqe(self.ansatz.bind_parameters(x), hamiltonian).real\n",
    "        \n",
    "        results = optimizer.minimize( expectation_value , self.initial_point )\n",
    "        return results"
   ]
  },
  {
   "cell_type": "code",
   "execution_count": null,
   "id": "a93b5a5f",
   "metadata": {},
   "outputs": [],
   "source": [
    "from qiskit.circuit.library import EfficientSU2\n",
    "from qiskit.algorithms.optimizers import SPSA, COBYLA\n",
    "\n",
    "from qiskit_nature.second_q.circuit.library import UCC, UCCSD, HartreeFock\n",
    "\n",
    "\n",
    "\n",
    "# ansatz = EfficientSU2(num_qubits=hamiltonian.num_qubits,\n",
    "#                      reps = 1,\n",
    "#                      entanglement = \"linear\",\n",
    "#                      )\n",
    "\n",
    "ansatz = UCCSD()\n",
    "ansatz.num_particles = problem.num_particles\n",
    "ansatz.num_spatial_orbitals = problem.num_spatial_orbitals\n",
    "ansatz.qubit_converter = converter\n",
    "\n",
    "initial_state = HartreeFock()\n",
    "initial_state.num_particles = problem.num_particles\n",
    "initial_state.num_spatial_orbitals = problem.num_spatial_orbitals\n",
    "initial_state.qubit_converter = converter\n",
    "ansatz.initial_state = initial_state"
   ]
  },
  {
   "cell_type": "code",
   "execution_count": null,
   "id": "eb3cc043",
   "metadata": {},
   "outputs": [],
   "source": [
    "initial_point = np.random.randn( ansatz.num_parameters )"
   ]
  },
  {
   "cell_type": "code",
   "execution_count": null,
   "id": "0626ac86",
   "metadata": {},
   "outputs": [],
   "source": [
    "optimizer = COBYLA(maxiter=100)"
   ]
  },
  {
   "cell_type": "code",
   "execution_count": null,
   "id": "3914f59f",
   "metadata": {},
   "outputs": [],
   "source": [
    "from qiskit import Aer, QuantumCircuit, QuantumRegister, ClassicalRegister\n",
    "from qiskit.utils import QuantumInstance\n",
    "import qiskit.opflow as of\n",
    "from functools import reduce\n",
    "\n",
    "quantum_instance = QuantumInstance( Aer.get_backend(\"qasm_simulator\") , shots=100000)\n",
    "\n",
    "vqe_try = OurVQE(initial_point=initial_point,\n",
    "                ansatz = ansatz,\n",
    "                optimizer = optimizer)"
   ]
  },
  {
   "cell_type": "code",
   "execution_count": null,
   "id": "086ffca0",
   "metadata": {},
   "outputs": [],
   "source": [
    "result_ours = vqe_try.compute_minimum_eigenvalue( hamiltonian )\n",
    "\n",
    "result_ours.fun"
   ]
  },
  {
   "cell_type": "code",
   "execution_count": null,
   "id": "e9f080a0",
   "metadata": {},
   "outputs": [],
   "source": []
  },
  {
   "cell_type": "code",
   "execution_count": null,
   "id": "3eda5a23",
   "metadata": {},
   "outputs": [],
   "source": []
  },
  {
   "cell_type": "code",
   "execution_count": null,
   "id": "eadf5016",
   "metadata": {},
   "outputs": [],
   "source": []
  },
  {
   "cell_type": "code",
   "execution_count": null,
   "id": "34c3035a",
   "metadata": {},
   "outputs": [],
   "source": []
  },
  {
   "cell_type": "code",
   "execution_count": null,
   "id": "d9719975",
   "metadata": {},
   "outputs": [],
   "source": [
    "from qiskit.algorithms import VQE\n",
    "\n",
    "backend = Aer.get_backend(\"qasm_simulator\")\n",
    "quantum_instance = QuantumInstance(backend, shots=300000)\n",
    "\n",
    "\n",
    "vqe = VQE(ansatz, optimizer=optimizer, quantum_instance=quantum_instance)\n",
    "\n",
    "result = vqe.compute_minimum_eigenvalue(hamiltonian)\n",
    "\n",
    "result.eigenvalue"
   ]
  },
  {
   "cell_type": "markdown",
   "id": "cc90c49c",
   "metadata": {},
   "source": [
    "## 7. Discussion and outlook\n",
    "\n",
    "We implement a hybrid quantum-classical algorithm supported by Qiskit to efficiently measure the expectation values of observables. This algorithm is effective when the state is concentrated, a very interesting family of quantum states in practical application, for instance, Quantum Chemistry. The approach presents some improvements to that presented in [[2]](https://link.aps.org/doi/10.1103/PhysRevResearch.4.033173) like a reduction in the number of CNOT gates used and a reduction in the estimated number of parameters. The implementation of the algorithm in Qiskit is detailed in this tutorial, where several numerical simulations evaluate its performance.\n",
    "\n",
    "There are some improvements that could be made on the algorithm implementation:\n",
    " \n",
    " - Implementing the algorithm in Qiskit is not yet fully polished, as some subroutines are not optimally implemented, causing the program to run slower and consume more resources. \n",
    " \n",
    " - The estimator's variance has a closed form, calculated by the program. However, we were not able to perform numerical simulations\n",
    " \n",
    " - The optimal allocation of the measurement budget was not used because it did not affect the estimation outcome.  We can deduce from this that some minor error caused the program to malfunction.\n",
    "\n",
    " - The VQE implementation does not support higher molecules, since the ansatz...\n",
    "\n"
   ]
  },
  {
   "cell_type": "markdown",
   "id": "3aefbea4",
   "metadata": {},
   "source": [
    "## References \n",
    "\n",
    "[1] M. Cerezo, Andrew Arrasmith, Ryan Babbush, Simon C. Benjamin, Suguru Endo, Keisuke Fujii, Jarrod R. McClean, Kosuke Mitarai, Xiao Yuan, Lukasz Cincio & Patrick J. Coles. Variational quantum algorithms. ***Nature Reviews Physics***. 3:625–644, 8 2021. ISSN 2522-5820. [doi: 10.1038/s42254-021-00348-9](https://www.nature.com/articles/s42254-021-00348-9).\n",
    "\n",
    "[2] Kohda, Masaya and Imai, Ryosuke and Kanno, Keita and Mitarai, Kosuke and Mizukami, Wataru and Nakagawa, Yuya O. Quantum expectation-value estimation by computational basis sampling. ***Phys. Rev. Res***, 4:033173, Sep 2022. [doi:\n",
    "10.1103/PhysRevResearch.4.033173](https://link.aps.org/doi/10.1103/PhysRevResearch.4.033173).\n",
    "\n",
    "[3] Gonthier, Jérôme F. and Radin, Maxwell D. and Buda, Corneliu and Doskocil, Eric J. and Abuan, Clena M. and Romero, Jhonathan. Measurements as a roadblock to near-term prac-tical quantum advantage in chemistry: Resource analysis. ***Phys. Rev. Res.***, 4:033154, Aug 2022. [doi: 10.1103/PhysRevResearch.4.033154](https://link.aps.org/doi/10.1103/PhysRevResearch.4.033154).\n",
    "\n",
    "[4] Jarrod R McClean, Jonathan Romero, Ryan Babbush, and Al ́an Aspuru-Guzik. The theory of variational hybrid\n",
    "quantum-classical algorithms. ***New Journal of Physics***, 18(2):023023, feb 2016. [doi: 10.1088/1367-2630/18/2/\n",
    "023023](https://dx.doi.org/10.1088/1367-2630/18/2/023023).\n",
    "\n",
    "[5] Hsin-Yuan Huang, Richard Kueng, and John Preskill. Predicting many properties of a quantum system from very\n",
    "few measurements. ***Nature Physics***, 16:1050–1057, 10 2020. ISSN 1745-2473. [doi: 10.1038/s41567-020-0932-7](https://www.nature.com/articles/s41567-020-0932-7).\n",
    "\n",
    "[6] M. D. Radin and P. Johnson, Classically-boosted variational quantum eigensolver, [arXiv:2106.04755](https://arxiv.org/abs/2106.04755).\n"
   ]
  }
 ],
 "metadata": {
  "hide_input": false,
  "kernelspec": {
   "display_name": "Python 3 (ipykernel)",
   "language": "python",
   "name": "python3"
  },
  "language_info": {
   "codemirror_mode": {
    "name": "ipython",
    "version": 3
   },
   "file_extension": ".py",
   "mimetype": "text/x-python",
   "name": "python",
   "nbconvert_exporter": "python",
   "pygments_lexer": "ipython3",
   "version": "3.9.16"
  }
 },
 "nbformat": 4,
 "nbformat_minor": 5
}
