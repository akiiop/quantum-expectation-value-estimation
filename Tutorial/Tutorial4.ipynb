{
 "cells": [
  {
   "cell_type": "markdown",
   "id": "6813e5ff",
   "metadata": {},
   "source": [
    "# Efficient Expectation Value Estimation of Molecular Hamiltonians"
   ]
  },
  {
   "cell_type": "markdown",
   "id": "59c968ae",
   "metadata": {},
   "source": [
    "## Summary\n",
    "\n",
    "Measuring [expectation values](https://en.wikipedia.org/wiki/Expectation_value_(quantum_mechanics)) of [observables](https://en.wikipedia.org/wiki/Observable#Quantum_mechanics) is an essential task in  quantum experiments and quantum algorithms, for example, [Quantum Neural Networks](https://en.wikipedia.org/wiki/Quantum_neural_network) (QNN), the [Variational Quantum Eigensolver](https://en.wikipedia.org/wiki/Variational_quantum_eigensolver) (VQE) and the [Quantum Approximate Optimization Algorithm](https://en.wikipedia.org/wiki/Quantum_optimization_algorithms) (QAOA) . These hybrid quantum-classical algorithms are one of the leading candidates for obtaining quantum advantage in the current era. However, they may require such high precision in estimating the expectation values of observables that makes them impractical due to the many sources of noise in current quantum hardware. \n",
    "\n",
    "Based on [[2]](https://link.aps.org/doi/10.1103/PhysRevResearch.4.033173) we propose a hybrid quantum-classical algorithm that estimates the expectation value of observables acting on pure states. This algorithm, like the method presented in [2] is effective for concentrated states, i.e., when only a small number of amplitudes in a measurement basis are non-negligible, a property often satisfied for Molecular Hamiltonians. Moreover, this algorithm improves the one presented in [2], since it is also designed to be effective for Hamiltonian depending on Pauli strings that contain a small fixed number of $X$ and $Y$ Pauli operators, a property that molecular Hamiltonians often satisfy. By exploiting this property, the algorithm works properly with non-concentrated states. The algorithm has an efficient use of classical memory and computational time, and it does not depend on the number of Pauli strings.\n",
    "\n",
    "Our algorithm is implemented in Qiskit and detailed in this tutorial, which provides the theoretical framework and numerical simulations to evaluate its performance."
   ]
  },
  {
   "cell_type": "markdown",
   "id": "13c12135",
   "metadata": {},
   "source": [
    "# 1. Introduction\n",
    "\n",
    "The current generation of quantum processors [[3]](https://quantum-journal.org/papers/q-2018-08-06-79/) is characterized by limited numbers of qubits, low gate fidelities, short coherence times, and noise processes that limit circuit depth. In this context, VQAs are one of the best hopes for obtaining quantum advantage. These algorithms typically utilize quantum computers to measure expectation values of observables for a given state using parametrized [quantum circuits](https://en.wikipedia.org/wiki/Quantum_circuit). However, precisely estimating these expectation values requires numerous [measurement](https://en.wikipedia.org/wiki/Measurement_in_quantum_mechanics) repetitions to reduce statistical fluctuation. Many applications require such high precision, that VQA algorithms are impractical due to the enormous amount of time needed. For instance, quantum chemical calculations require the so-called chemical accuracy of $ 1 \\textrm{ kcal/mol } \\approx 1.6 \\times 10^{-3}$ Hartree, making the VQE method non-viable even for a small number of molecules [[4]](https://journals.aps.org/prresearch/abstract/10.1103/PhysRevResearch.4.033154).\n",
    "\n",
    "In this project, we propose a hybrid quantum-classical algorithm to measure the expectation values of observables efficiently and implement it on Qiskit. This algorithm is designed to be effective when the state is pure and concentrated, and also when the observable depends on Pauli strings that contain a small fixed number of $X$ and $Y$ Pauli operators. The approach is based on the paper [Quantum expectation-value estimation by computational basis sampling](https://link.aps.org/doi/10.1103/PhysRevResearch.4.033173) and includes improvements such as a reduction in the number of C-NOT gates used and the estimated number of coefficients. To explain the algorithm, this tutorial briefly describes the computation of the expectation values of observables. The algorithm's functioning is then described, and its implementation in Qiskit is shown using instructive examples. Moreover, we assess its performance by replicating the results obtained in [2] and expanding the research by computing expectation values of observables for non-concentrated states. Finally, we illustrate how to implement the VQE method for a molecular Hamiltonian."
   ]
  },
  {
   "cell_type": "markdown",
   "id": "bb1a87cb",
   "metadata": {},
   "source": [
    "## 2.  Measuring expectation values of observables\n",
    "\n",
    "Let us consider a $n$-qubit system described by the pure state\n",
    "\\begin{align}\n",
    "|\\psi \\rangle = \\sum_{i=0}^{d-1} c_i |i \\rangle,\n",
    "\\end{align}\n",
    "\n",
    "where $i = i_{n-1} ... i_1 i_0$ is the integer representation of a binary string and $d = 2^n$ is the dimension of the system. The coefficients $c_i$ are complex numbers such that $\\sum_{i=0}^{d-1} |c_i|^2 =1$. An observable $O$ acting on $d$ qubits can be expressed as a linear combination of products of Pauli and identity operators on single qubits by\n",
    "\n",
    "\\begin{align}\n",
    " O = \\sum_{k=1}^M  \\alpha_k  P_k,\n",
    "\\end{align}\n",
    "\n",
    "where $P_k \\in \\{I, X,Y, Z\\}^{\\otimes d}$, $\\alpha_k\\in\\mathbb{R}$, and $M$ is the number of the Pauli strings. Therefore, the expectation value of $O$ can be written as\n",
    "\n",
    "\\begin{align}\n",
    "\\langle \\psi  | O | \\psi \\rangle\n",
    "= \\sum_{k=1}^M  \\alpha_k \\langle \\psi  | P_k | \\psi \\rangle.\n",
    "\\end{align}\n",
    "\n",
    "In the simplest way to estimate the expectation value $\\langle \\psi  | O |\\psi \\rangle$, each\n",
    "term $\\alpha_k \\langle \\psi  | P_k | \\psi \\rangle$ is measured on a quantum computer and then\n",
    "assembled by classical post-processing. However, for many applications, the number of quantities $M$ to be measured is $\\mathcal{O}\\left(\\mathrm{poly}(n)\\right)$, making the computation unfeasible if the number of qubits $n$ is not small enough.\n",
    "There are several studies to reduce the number of measurements to estimate expectation values of observables. Those works, to the best of our knowledge, are driven by: grouping Pauli strings [[4]](https://dx.doi.org/10.1088/1367-2630/18/2/023023), using classical shadows [[5]](https://www.nature.com/articles/s41567-020-0932-7#citeas), and dealing with one part of the quantum state classically [[6]](https://arxiv.org/abs/2106.04755). Despite these efforts, the measurement counts for practical applications are not significantly reduced."
   ]
  },
  {
   "cell_type": "markdown",
   "id": "9aeaec0d",
   "metadata": {},
   "source": [
    "### 3.1 Motivation\n",
    "Given a state $|\\psi \\rangle$ of $n$ qubits, the expectation value of an observable $O$ acting on the system is\n",
    "\\begin{equation}\\label{ExpVal}\n",
    "\\begin{split}\n",
    "\\langle \\psi  | O | \\psi \\rangle = & \\sum_{j,k=1}^d  c_{j} c_{k}^* \\, \\langle k  | O | j \\rangle \\\\\n",
    "= &\\sum_{j=1}^d |c_{j}|^2 \\langle j  | O | j \\rangle + 2 \\sum_{j < k}^d \\mathrm{Re}(c_{j} c_{k}^*) \\, \\mathrm{Re} \\langle k  | O | j \\rangle  -  2 \\sum_{ j < k}^d \\mathrm{Im}(c_j c_k^*) \\, \\mathrm{Im} \\langle k  | O | j \\rangle.\n",
    "\\end{split}\n",
    "\\end{equation}\n",
    "\n",
    "If $O = O_{n-1} \\otimes \\dots \\otimes O_0$ is a tensor product of one-qubit observables, we can efficiently calculate $ \\langle k |O | j \\rangle = \\langle k_{n-1} |O_{n-1} | j_{n-1} \\rangle \\dots   \\langle k_0 |O_0 | j_0 \\rangle$ in a classical computer.\n",
    "Hence, by an estimation of the coefficients $|c_j|^2$ , $2\\mathrm{Re}(c_j c_k^*)$ and $2\\mathrm{Im}(c_j c_k^*)$ we can estimate the expectation value of $O$. For this purpose, we define a [POVM](https://en.wikipedia.org/wiki/POVM) $E$ composed of the elements\n",
    "\n",
    "\\begin{equation}\n",
    "\\begin{split}\n",
    "P_k = K |k \\rangle \\langle k |, \\quad \n",
    "D_{jk}^\\pm = \\frac{K}{2}(|j \\rangle  \\pm |k \\rangle ) ( \\langle  j| \\pm \\langle k |), & \\quad\n",
    "L_{jk}^\\pm = \\frac{K}{2}(|j \\rangle  \\pm i|k \\rangle ) ( \\langle  j| \\mp i \\langle k |), \\\\\n",
    "\\end{split}\n",
    "\\end{equation}\n",
    "\n",
    "with $j, k = 0, 1, ..., d-1$, $j < k$ and $K = 1/(2d-1)$ is a normalization term. Noticing that\n",
    "\n",
    "\\begin{align}\n",
    "|c_{i}|^2 =   \\, \\frac{\\mathrm{Tr}\\left(\\rho P_{j} \\right)}{K},\\qquad\n",
    "2 \\mathrm{Re}(c_j c_k^*) =  \\, \\frac{\\mathrm{Tr}\\left(\\rho D_{jk}^+ \\right) - \\mathrm{Tr}\\left(\\rho D_{jk}^- \\right)}{K},\\qquad\n",
    "-2 \\mathrm{Im}(c_j c_k^*) =  \\, \\frac{\\mathrm{Tr}\\left(\\rho L_{jk}^+ \\right) - \\mathrm{Tr}\\left(\\rho L_{jk}^- \\right)}{K},\n",
    "\\end{align}\n",
    "\n",
    "we approximate $\\langle \\psi  | O | \\psi \\rangle$ by measuring the POVM $E$. This POVM can be implemented by sampling uniformly from $2d-1$ basis [[7]](https://link.aps.org/doi/10.1103/PhysRevResearch.4.033173), which is an exponential number.\n",
    "\n",
    "We can improve the estimation in two ways: \n",
    "\n",
    "1.   If we know the number $t$ of $X$ + $Y$ terms in a Pauli string $P$, then all the terms $\\langle k  | P | j \\rangle$ such that the [Hamming distance](https://en.wikipedia.org/wiki/Hamming_distance) $\\mathrm{dist}_H (k, j) \\neq t$ is zero. For example, $\\langle 000| XYZ |111\\rangle = i\\langle 000| 001 \\rangle = 0$. Then we only need to measure bases that contain terms of the form $| j \\rangle \\pm |k \\rangle$ and $| j \\rangle \\pm i|k \\rangle$ such that $\\mathrm{dist}_H (j, k) = t$. The total number of basis is $K_t = 2\\frac{n!}{(n-t)!t!} \\ll d$, and we define a new POVM $E_t$ sampling from these bases, with normalization factor $K_t$. These bases require $t-1$ CNOT gates. \n",
    "\n",
    "2.   If we know that our state is concentrated, that is, $|\\psi \\rangle \\approx \\sum_{r=1}^{R} c_{i_r} |i_r \\rangle$, where $R \\ll d$ is a fixed number, and $|c_{i_1}|^2 \\geq |c_{i_2}|^2 \\dots \\geq |c_{i_R}|^2 \\geq \\max\\{|c_{i}|^2: i \\neq i_r \\text{ for each } r=1\\dots R\\}$, then the only non-vanishing terms in equation \\eqref{ExpVal} will be the $c_{i_r} c_{i_r'}^{*}$. This means that we only have to measure the $K_R \\leq 2R(R-1)+1$ bases that contain terms of the form $| i_r \\rangle \\pm |i_r' \\rangle$ and $| i_r \\rangle \\pm i| i_r' \\rangle$ and define a POVM $E_R$ containing these bases and the normalization factor $K_R$.\n",
    "\n",
    "The Pauli strings of molecular Hamiltonians mapped to qubits using Jordan Wigner usually contain $0$, $2$, or $4$ $X + Y$ Paulis. Then, we can use observation 1. with these observables. Also, their ground states are usually highly concentrated. Then, we can use observation 2. This means that we only have to measure a POVM $E_{Rt}$ that samples from the bases in the intersection of $E_t$ and $E_r$, with a normalization factor $K_{Rt} < K_t, K_r$. Since we are measuring fewer bases, we can assign more shots to each of them, reducing the variance and improving the estimation. "
   ]
  },
  {
   "cell_type": "markdown",
   "id": "648ebbb8",
   "metadata": {},
   "source": [
    "### 3.2 The method\n",
    "\n",
    "To implement the above idea we reproduce the following procedure:\n",
    "\n",
    "1. Prepare the state $|\\psi\\rangle$ on quantum computers, and measure it in the computational basis $\\{| i \\rangle : i = 0,1,2^n-1\\}$ with a number $L_f$ of shots.\n",
    "\n",
    "2. From the outcomes of the measurement we  pick up the most frequent R elements such that $1-|\\langle \\psi_R | \\psi \\rangle|^2$ is lower than some previously defined tolerance $\\mathrm{Tol}$ ($\\approx 10^{-4}$). Next, we sort in descending order of frecuency the selected elements.\n",
    "\n",
    "3. Determine the set of numbers of $X$ and $Y$ gates in the Pauli strings of the observable to reduce the number of coefficients in the estimation. Usually for molecular Hamiltonians we have $0, 2$ and $4$.\n",
    "\n",
    "4. Measure The POVM $E_{Rt}$ and compute the non-negligible coefficientes $|c_{i_r}|^2$ , $2\\,\\mathrm{Re}(c_{i_r} c_{i_r'}^*)$ and $2\\,\\mathrm{Im}(c_{i_r} c_{i_r'}^*)$ as a sample mean of the outcomes.\n",
    "\n",
    "The described method inherits the performance properties shown in [[2]](https://link.aps.org/doi/10.1103/PhysRevResearch.4.033173). First, the error in estimating  $\\langle \\psi  | O | \\psi \\rangle$ produced by  approximating  the quantum estate by $| \\psi_R\\rangle$ is proportional to $\\sqrt{1-|\\langle \\psi_R | \\psi \\rangle|^2}$. Next, the number of measurements necessary to attain some precision in the standard deviation of the approximation is fewer than that of the alternative techniques. Moreover, the described method improves that reported in [[2]](https://link.aps.org/doi/10.1103/PhysRevResearch.4.033173), since the method works properly for non-concentrated states, and the number of CNOT gates employed is not $\\mathcal{O}(n)$, but is equal to the number of $X$ and $Y$ gate in the Pauli strings of the observable."
   ]
  },
  {
   "cell_type": "markdown",
   "id": "2abffb1b",
   "metadata": {},
   "source": [
    "## 4. Implementation using Qiskit\n"
   ]
  },
  {
   "cell_type": "markdown",
   "id": "e21ee977",
   "metadata": {},
   "source": [
    "## 5. Expectation Values of Molecule Hamiltonians"
   ]
  },
  {
   "cell_type": "code",
   "execution_count": 1,
   "id": "512e178c",
   "metadata": {
    "ExecuteTime": {
     "end_time": "2023-02-28T17:25:09.921285Z",
     "start_time": "2023-02-28T17:25:08.660311Z"
    }
   },
   "outputs": [],
   "source": [
    "import sys\n",
    "sys.path.append(\"../expectation_value\")\n",
    "sys.path.append(\"../utils_hamiltonian\")\n",
    "\n",
    "from expectationvalue import ExpVal\n",
    "from utils_hamiltonian import MoleculeHamiltonian, get_number_nbody_terms, get_obs_data\n",
    "from qiskit_nature.second_q.mappers import JordanWignerMapper, QubitConverter\n",
    "import qiskit.quantum_info as qif\n",
    "\n",
    "import numpy as np\n",
    "import h5py"
   ]
  },
  {
   "cell_type": "markdown",
   "id": "4706fd93",
   "metadata": {},
   "source": [
    "The first step is to define a our target molecule and obtain the qubit hamiltonian. bla bla\n",
    "\n"
   ]
  },
  {
   "cell_type": "code",
   "execution_count": 2,
   "id": "b0f19610",
   "metadata": {
    "ExecuteTime": {
     "end_time": "2023-02-28T17:25:09.928192Z",
     "start_time": "2023-02-28T17:25:09.924166Z"
    }
   },
   "outputs": [],
   "source": [
    "# The following dictionary gives the molecule geometry needed to obtain\n",
    "# the hamiltonian, for a given interatomic distance.\n",
    "\n",
    "molecules = {\n",
    "    \"H2\":\"H .0 .0 .0; H .0 .0 0.735\",\n",
    "    \"LiH\":\"Li .0 .0 .0; H .0 .0 1.548\",\n",
    "    \"BeH2\": \"Be .0 .0 .0; H .0 .0 -1.7; H .0 .0 1.7\",\n",
    "    \"H2O\": \"H -0.0399 -0.0038 0.0; O 1.5780 0.8540 0.0; H 2.7909 -0.5159 0.0\",\n",
    "    \"NH3\": \"N 0.0 0.0 0.149; H 0.0 0.947 -0.348; H  0.821 -0.474 -0.348; H -0.821 -0.474 -0.348\"\n",
    "}\n",
    "\n",
    "#mol = 'H2'\n",
    "mol = 'LiH'\n",
    "# mol = 'BeH2'\n",
    "# mol = \"H2O\"\n",
    "# mol = \"NH3\""
   ]
  },
  {
   "cell_type": "markdown",
   "id": "df469144",
   "metadata": {},
   "source": [
    "Using the tools in utils_hamiltonian and together with qiskit_natures functions, we can easly define our qubit hamiltonian and obtain its exact ground state and ground state energy."
   ]
  },
  {
   "cell_type": "code",
   "execution_count": 3,
   "id": "3a8581ec",
   "metadata": {
    "ExecuteTime": {
     "end_time": "2023-02-28T17:25:14.530490Z",
     "start_time": "2023-02-28T17:25:09.930015Z"
    }
   },
   "outputs": [
    {
     "name": "stdout",
     "output_type": "stream",
     "text": [
      "Exact Ground State Energy:  -8.908299431473502\n"
     ]
    }
   ],
   "source": [
    "converter = QubitConverter( JordanWignerMapper(), z2symmetry_reduction=None)\n",
    "molecular_hamiltonian = MoleculeHamiltonian(molecules[mol] , converter=converter, basis='sto3g')\n",
    "\n",
    "# Qubit hamiltonian\n",
    "hamiltonian = molecular_hamiltonian.Hamiltonian( freeze_core = False )\n",
    "\n",
    "driver = molecular_hamiltonian.driver\n",
    "problem = molecular_hamiltonian.problem\n",
    "\n",
    "# Number of qubits of the qubit hamiltonian\n",
    "n_qubits = hamiltonian.num_qubits\n",
    "\n",
    "# Number of n-bodies interaction\n",
    "bodies = get_number_nbody_terms(hamiltonian)\n",
    "\n",
    "# Exact ground state estimation, giving the ground state\n",
    "# (as a circuit) and the ground state energy\n",
    "circ_gs, eig_gs = molecular_hamiltonian.ComputeGroundState()\n",
    "\n",
    "print(\"Exact Ground State Energy: \", eig_gs)"
   ]
  },
  {
   "cell_type": "markdown",
   "id": "48e27af2",
   "metadata": {},
   "source": [
    "Next, we choose the parameters needed to execute our method."
   ]
  },
  {
   "cell_type": "code",
   "execution_count": 4,
   "id": "c13404fa",
   "metadata": {
    "ExecuteTime": {
     "end_time": "2023-02-28T17:25:14.537068Z",
     "start_time": "2023-02-28T17:25:14.533738Z"
    }
   },
   "outputs": [],
   "source": [
    "# Total number of resources i.e. ensemble of shots\n",
    "total_shots = 10000\n",
    "\n",
    "# Number of shots to measure in the computational basis\n",
    "r_shots = 1000\n",
    "\n",
    "# Either the number of computational basis states retained (Concentration)\n",
    "# or ...\n",
    "r = 0.99"
   ]
  },
  {
   "cell_type": "code",
   "execution_count": 5,
   "id": "46f6bc48",
   "metadata": {
    "ExecuteTime": {
     "end_time": "2023-02-28T17:25:14.550918Z",
     "start_time": "2023-02-28T17:25:14.539383Z"
    },
    "code_folding": []
   },
   "outputs": [],
   "source": [
    "# # We load the parameters of our algorithm\n",
    "# algorithm = ExpVal(n_shots = total_shots-r_shots,\n",
    "#         bodies = bodies, \n",
    "#         r = r, \n",
    "#         r_shots = r_shots,\n",
    "#         n_qubits = n_qubits)\n",
    "\n",
    "# # We get the interference terms for a given state, which can be loaded either as a\n",
    "# # quantum circuit or as a vector (numpy array)\n",
    "# algorithm.get_interferences(circ_gs)\n",
    "\n",
    "# # To use the exp_val method, we first need to separete de hamiltonian\n",
    "# # into a list of coefficients and the concatenation of every pauli string\n",
    "# coeffs, obs = get_obs_data(hamiltonian)\n",
    "\n",
    "# # We evaluate the expectation value of each string and multiply it for the respective coefficient\n",
    "# exp_val = algorithm.exp_val(obs)\n",
    "# results = np.sum(exp_val*coeffs).real"
   ]
  },
  {
   "cell_type": "code",
   "execution_count": 6,
   "id": "cf9bc66e",
   "metadata": {
    "ExecuteTime": {
     "end_time": "2023-02-28T17:25:14.559606Z",
     "start_time": "2023-02-28T17:25:14.553039Z"
    }
   },
   "outputs": [],
   "source": [
    "# print('Calculated expectation value with our algorithm: ', results)\n",
    "# print('Absolute Error: ', np.abs(results-eig_gs))"
   ]
  },
  {
   "cell_type": "code",
   "execution_count": 7,
   "id": "92e4be02",
   "metadata": {
    "ExecuteTime": {
     "end_time": "2023-02-28T17:25:14.568488Z",
     "start_time": "2023-02-28T17:25:14.561410Z"
    }
   },
   "outputs": [],
   "source": [
    "from tqdm import tqdm\n",
    "\n",
    "reps = 10"
   ]
  },
  {
   "cell_type": "code",
   "execution_count": 8,
   "id": "59a34afb",
   "metadata": {
    "ExecuteTime": {
     "end_time": "2023-02-28T17:25:14.575174Z",
     "start_time": "2023-02-28T17:25:14.570549Z"
    }
   },
   "outputs": [],
   "source": [
    "from qiskit.circuit.library import EfficientSU2\n",
    "\n",
    "\n",
    "ansatz = EfficientSU2(num_qubits=hamiltonian.num_qubits,\n",
    "                     reps = 2,\n",
    "                     entanglement = \"linear\")"
   ]
  },
  {
   "cell_type": "code",
   "execution_count": 9,
   "id": "4e522340",
   "metadata": {
    "ExecuteTime": {
     "end_time": "2023-02-28T17:25:14.631282Z",
     "start_time": "2023-02-28T17:25:14.577127Z"
    }
   },
   "outputs": [],
   "source": [
    "initial_point = np.random.randn( ansatz.num_parameters)\n",
    "\n",
    "state_circ = ansatz.bind_parameters(initial_point)\n",
    "\n",
    "# state = qif.Statevector(state_circ).data"
   ]
  },
  {
   "cell_type": "code",
   "execution_count": 11,
   "id": "e4224b14",
   "metadata": {
    "ExecuteTime": {
     "end_time": "2023-02-28T17:29:36.175817Z",
     "start_time": "2023-02-28T17:29:04.053231Z"
    }
   },
   "outputs": [
    {
     "data": {
      "text/plain": [
       "-5.376139843744202"
      ]
     },
     "execution_count": 11,
     "metadata": {},
     "output_type": "execute_result"
    }
   ],
   "source": [
    "from qiskit.opflow import PauliExpectation, CircuitSampler, StateFn, CircuitStateFn\n",
    "from qiskit import Aer\n",
    "from qiskit.utils import QuantumInstance\n",
    "\n",
    "op = hamiltonian\n",
    "psi = CircuitStateFn(state_circ)\n",
    "\n",
    "measurable_expression = StateFn(op, is_measurement=True).compose(psi)\n",
    "expectation = PauliExpectation().convert(measurable_expression)  \n",
    "\n",
    "result_opflow = expectation.eval().real\n",
    "result_opflow"
   ]
  },
  {
   "cell_type": "code",
   "execution_count": 12,
   "id": "15a742be",
   "metadata": {
    "ExecuteTime": {
     "end_time": "2023-02-28T17:30:12.662807Z",
     "start_time": "2023-02-28T17:30:12.656599Z"
    }
   },
   "outputs": [
    {
     "data": {
      "text/plain": [
       "-5.144773114778086"
      ]
     },
     "execution_count": 12,
     "metadata": {},
     "output_type": "execute_result"
    }
   ],
   "source": [
    "first_term_coeffs"
   ]
  },
  {
   "cell_type": "code",
   "execution_count": 10,
   "id": "8ad49596",
   "metadata": {
    "ExecuteTime": {
     "end_time": "2023-02-28T17:28:34.924342Z",
     "start_time": "2023-02-28T17:25:14.634677Z"
    }
   },
   "outputs": [
    {
     "name": "stderr",
     "output_type": "stream",
     "text": [
      "\r",
      "  0%|                                                    | 0/10 [00:00<?, ?it/s]"
     ]
    },
    {
     "name": "stdout",
     "output_type": "stream",
     "text": [
      "R = 608\n",
      "562\n"
     ]
    },
    {
     "name": "stderr",
     "output_type": "stream",
     "text": [
      "\r",
      " 10%|████▎                                      | 1/10 [02:10<19:32, 130.28s/it]"
     ]
    },
    {
     "name": "stdout",
     "output_type": "stream",
     "text": [
      "Exp val calculado:  -5.943249262760419\n",
      "R = 598\n",
      "562\n"
     ]
    },
    {
     "name": "stderr",
     "output_type": "stream",
     "text": [
      " 10%|████▎                                      | 1/10 [03:20<30:00, 200.11s/it]\n"
     ]
    },
    {
     "ename": "KeyboardInterrupt",
     "evalue": "",
     "output_type": "error",
     "traceback": [
      "\u001b[0;31m---------------------------------------------------------------------------\u001b[0m",
      "\u001b[0;31mKeyboardInterrupt\u001b[0m                         Traceback (most recent call last)",
      "\u001b[0;32m/tmp/ipykernel_2040385/1281106823.py\u001b[0m in \u001b[0;36m<module>\u001b[0;34m\u001b[0m\n\u001b[1;32m     11\u001b[0m     \u001b[0;31m# algorithm.get_interferences(circ_gs)\u001b[0m\u001b[0;34m\u001b[0m\u001b[0;34m\u001b[0m\u001b[0m\n\u001b[1;32m     12\u001b[0m \u001b[0;34m\u001b[0m\u001b[0m\n\u001b[0;32m---> 13\u001b[0;31m     \u001b[0malgorithm\u001b[0m\u001b[0;34m.\u001b[0m\u001b[0mget_interferences\u001b[0m\u001b[0;34m(\u001b[0m\u001b[0mstate_circ\u001b[0m\u001b[0;34m)\u001b[0m\u001b[0;34m\u001b[0m\u001b[0;34m\u001b[0m\u001b[0m\n\u001b[0m\u001b[1;32m     14\u001b[0m \u001b[0;34m\u001b[0m\u001b[0m\n\u001b[1;32m     15\u001b[0m     \u001b[0mcoeffs\u001b[0m\u001b[0;34m,\u001b[0m \u001b[0mobs\u001b[0m \u001b[0;34m=\u001b[0m \u001b[0mget_obs_data\u001b[0m\u001b[0;34m(\u001b[0m\u001b[0mhamiltonian\u001b[0m\u001b[0;34m)\u001b[0m\u001b[0;34m\u001b[0m\u001b[0;34m\u001b[0m\u001b[0m\n",
      "\u001b[0;32m~/Documentos/GitHub/quantum-expectation-value-estimation/Tutorial/../expectation_value/expectationvalue.py\u001b[0m in \u001b[0;36mget_interferences\u001b[0;34m(self, state)\u001b[0m\n\u001b[1;32m     85\u001b[0m         \u001b[0mprobs\u001b[0m \u001b[0;34m=\u001b[0m \u001b[0;34m[\u001b[0m\u001b[0;34m]\u001b[0m\u001b[0;34m\u001b[0m\u001b[0;34m\u001b[0m\u001b[0m\n\u001b[1;32m     86\u001b[0m         \u001b[0;32mfor\u001b[0m \u001b[0mk\u001b[0m \u001b[0;32min\u001b[0m \u001b[0mrange\u001b[0m\u001b[0;34m(\u001b[0m\u001b[0midxs\u001b[0m\u001b[0;34m.\u001b[0m\u001b[0mshape\u001b[0m\u001b[0;34m[\u001b[0m\u001b[0;36m1\u001b[0m\u001b[0;34m]\u001b[0m\u001b[0;34m)\u001b[0m\u001b[0;34m:\u001b[0m\u001b[0;34m\u001b[0m\u001b[0;34m\u001b[0m\u001b[0m\n\u001b[0;32m---> 87\u001b[0;31m             shadow, prob, ir = get_jksp_counts(self.n_qubits, state, idxs[:self.n_qubits, k], \n\u001b[0m\u001b[1;32m     88\u001b[0m                                                 idxs[-1, k], shots=shots[k])\n\u001b[1;32m     89\u001b[0m             \u001b[0;32mif\u001b[0m \u001b[0mint\u001b[0m\u001b[0;34m(\u001b[0m\u001b[0mnp\u001b[0m\u001b[0;34m.\u001b[0m\u001b[0msum\u001b[0m\u001b[0;34m(\u001b[0m\u001b[0midxs\u001b[0m\u001b[0;34m[\u001b[0m\u001b[0;34m:\u001b[0m\u001b[0mself\u001b[0m\u001b[0;34m.\u001b[0m\u001b[0mn_qubits\u001b[0m\u001b[0;34m,\u001b[0m \u001b[0mk\u001b[0m\u001b[0;34m]\u001b[0m\u001b[0;34m)\u001b[0m\u001b[0;34m)\u001b[0m\u001b[0;34m==\u001b[0m \u001b[0;36m0\u001b[0m\u001b[0;34m:\u001b[0m\u001b[0;34m\u001b[0m\u001b[0;34m\u001b[0m\u001b[0m\n",
      "\u001b[0;32m~/Documentos/GitHub/quantum-expectation-value-estimation/Tutorial/../expectation_value/utils_circuits.py\u001b[0m in \u001b[0;36mget_jksp_counts\u001b[0;34m(n_qubits, state, idx, phase, shots)\u001b[0m\n\u001b[1;32m    127\u001b[0m         \u001b[0mSign\u001b[0m \u001b[0;32mand\u001b[0m \u001b[0mphase\u001b[0m \u001b[0mof\u001b[0m \u001b[0;34m|\u001b[0m\u001b[0mi\u001b[0m\u001b[0;34m>\u001b[0m \u001b[0;34m+\u001b[0m \u001b[0;34m|\u001b[0m\u001b[0mj\u001b[0m\u001b[0;34m>\u001b[0m\u001b[0;34m\u001b[0m\u001b[0;34m\u001b[0m\u001b[0m\n\u001b[1;32m    128\u001b[0m     \"\"\"\n\u001b[0;32m--> 129\u001b[0;31m     \u001b[0mcounts\u001b[0m \u001b[0;34m=\u001b[0m \u001b[0mget_data\u001b[0m\u001b[0;34m(\u001b[0m\u001b[0mn_qubits\u001b[0m\u001b[0;34m,\u001b[0m \u001b[0mstate\u001b[0m\u001b[0;34m,\u001b[0m \u001b[0midx\u001b[0m\u001b[0;34m,\u001b[0m \u001b[0mphase\u001b[0m\u001b[0;34m,\u001b[0m \u001b[0mshots\u001b[0m\u001b[0;34m=\u001b[0m\u001b[0mshots\u001b[0m\u001b[0;34m)\u001b[0m\u001b[0;34m\u001b[0m\u001b[0;34m\u001b[0m\u001b[0m\n\u001b[0m\u001b[1;32m    130\u001b[0m     \u001b[0mn_strs\u001b[0m \u001b[0;34m=\u001b[0m \u001b[0mlen\u001b[0m\u001b[0;34m(\u001b[0m\u001b[0mcounts\u001b[0m\u001b[0;34m)\u001b[0m\u001b[0;34m\u001b[0m\u001b[0;34m\u001b[0m\u001b[0m\n\u001b[1;32m    131\u001b[0m     \u001b[0mir\u001b[0m \u001b[0;34m=\u001b[0m \u001b[0mnp\u001b[0m\u001b[0;34m.\u001b[0m\u001b[0mzeros\u001b[0m\u001b[0;34m(\u001b[0m\u001b[0;34m(\u001b[0m\u001b[0mn_strs\u001b[0m\u001b[0;34m,\u001b[0m \u001b[0;36m2\u001b[0m\u001b[0;34m)\u001b[0m\u001b[0;34m,\u001b[0m \u001b[0mdtype\u001b[0m\u001b[0;34m=\u001b[0m\u001b[0;34m\"int\"\u001b[0m\u001b[0;34m)\u001b[0m\u001b[0;34m\u001b[0m\u001b[0;34m\u001b[0m\u001b[0m\n",
      "\u001b[0;32m~/Documentos/GitHub/quantum-expectation-value-estimation/Tutorial/../expectation_value/utils_circuits.py\u001b[0m in \u001b[0;36mget_data\u001b[0;34m(n_qubits, state, idx, phase, shots)\u001b[0m\n\u001b[1;32m     91\u001b[0m     \u001b[0mbackend\u001b[0m \u001b[0;34m=\u001b[0m \u001b[0mAer\u001b[0m\u001b[0;34m.\u001b[0m\u001b[0mget_backend\u001b[0m\u001b[0;34m(\u001b[0m\u001b[0;34m'aer_simulator'\u001b[0m\u001b[0;34m)\u001b[0m\u001b[0;34m\u001b[0m\u001b[0;34m\u001b[0m\u001b[0m\n\u001b[1;32m     92\u001b[0m     \u001b[0;31m# backend = Aer.get_backend('aer_simulator_statevector')\u001b[0m\u001b[0;34m\u001b[0m\u001b[0;34m\u001b[0m\u001b[0m\n\u001b[0;32m---> 93\u001b[0;31m     \u001b[0mjob\u001b[0m \u001b[0;34m=\u001b[0m \u001b[0mexecute\u001b[0m\u001b[0;34m(\u001b[0m\u001b[0mqc\u001b[0m\u001b[0;34m,\u001b[0m \u001b[0mbackend\u001b[0m\u001b[0;34m,\u001b[0m \u001b[0mshots\u001b[0m\u001b[0;34m=\u001b[0m\u001b[0mshots\u001b[0m\u001b[0;34m)\u001b[0m\u001b[0;34m\u001b[0m\u001b[0;34m\u001b[0m\u001b[0m\n\u001b[0m\u001b[1;32m     94\u001b[0m     \u001b[0mresult\u001b[0m \u001b[0;34m=\u001b[0m \u001b[0mjob\u001b[0m\u001b[0;34m.\u001b[0m\u001b[0mresult\u001b[0m\u001b[0;34m(\u001b[0m\u001b[0;34m)\u001b[0m\u001b[0;34m\u001b[0m\u001b[0;34m\u001b[0m\u001b[0m\n\u001b[1;32m     95\u001b[0m     \u001b[0mcounts\u001b[0m \u001b[0;34m=\u001b[0m \u001b[0mresult\u001b[0m\u001b[0;34m.\u001b[0m\u001b[0mget_counts\u001b[0m\u001b[0;34m(\u001b[0m\u001b[0;34m)\u001b[0m \u001b[0;31m#dictionary\u001b[0m\u001b[0;34m\u001b[0m\u001b[0;34m\u001b[0m\u001b[0m\n",
      "\u001b[0;32m~/.local/lib/python3.9/site-packages/qiskit/execute_function.py\u001b[0m in \u001b[0;36mexecute\u001b[0;34m(experiments, backend, basis_gates, coupling_map, backend_properties, initial_layout, seed_transpiler, optimization_level, pass_manager, qobj_id, qobj_header, shots, memory, max_credits, seed_simulator, default_qubit_los, default_meas_los, qubit_lo_range, meas_lo_range, schedule_los, meas_level, meas_return, memory_slots, memory_slot_size, rep_time, rep_delay, parameter_binds, schedule_circuit, inst_map, meas_map, scheduling_method, init_qubits, **run_config)\u001b[0m\n\u001b[1;32m    297\u001b[0m     \u001b[0;32melse\u001b[0m\u001b[0;34m:\u001b[0m\u001b[0;34m\u001b[0m\u001b[0;34m\u001b[0m\u001b[0m\n\u001b[1;32m    298\u001b[0m         \u001b[0;31m# transpiling the circuits using given transpile options\u001b[0m\u001b[0;34m\u001b[0m\u001b[0;34m\u001b[0m\u001b[0m\n\u001b[0;32m--> 299\u001b[0;31m         experiments = transpile(\n\u001b[0m\u001b[1;32m    300\u001b[0m             \u001b[0mexperiments\u001b[0m\u001b[0;34m,\u001b[0m\u001b[0;34m\u001b[0m\u001b[0;34m\u001b[0m\u001b[0m\n\u001b[1;32m    301\u001b[0m             \u001b[0mbasis_gates\u001b[0m\u001b[0;34m=\u001b[0m\u001b[0mbasis_gates\u001b[0m\u001b[0;34m,\u001b[0m\u001b[0;34m\u001b[0m\u001b[0;34m\u001b[0m\u001b[0m\n",
      "\u001b[0;32m~/.local/lib/python3.9/site-packages/qiskit/compiler/transpiler.py\u001b[0m in \u001b[0;36mtranspile\u001b[0;34m(circuits, backend, basis_gates, inst_map, coupling_map, backend_properties, initial_layout, layout_method, routing_method, translation_method, scheduling_method, instruction_durations, dt, approximation_degree, timing_constraints, seed_transpiler, optimization_level, callback, output_name, unitary_synthesis_method, unitary_synthesis_plugin_config, target, hls_config, init_method, optimization_method, ignore_backend_supplied_default_methods)\u001b[0m\n\u001b[1;32m    380\u001b[0m             \u001b[0mtranspile_config\u001b[0m\u001b[0;34m,\u001b[0m \u001b[0mpass_manager\u001b[0m \u001b[0;34m=\u001b[0m \u001b[0m_combine_args\u001b[0m\u001b[0;34m(\u001b[0m\u001b[0mshared_args\u001b[0m\u001b[0;34m,\u001b[0m \u001b[0munique_args\u001b[0m\u001b[0;34m)\u001b[0m\u001b[0;34m\u001b[0m\u001b[0;34m\u001b[0m\u001b[0m\n\u001b[1;32m    381\u001b[0m             output_circuits.append(\n\u001b[0;32m--> 382\u001b[0;31m                 _serial_transpile_circuit(\n\u001b[0m\u001b[1;32m    383\u001b[0m                     \u001b[0mcircuit\u001b[0m\u001b[0;34m,\u001b[0m\u001b[0;34m\u001b[0m\u001b[0;34m\u001b[0m\u001b[0m\n\u001b[1;32m    384\u001b[0m                     \u001b[0mpass_manager\u001b[0m\u001b[0;34m,\u001b[0m\u001b[0;34m\u001b[0m\u001b[0;34m\u001b[0m\u001b[0m\n",
      "\u001b[0;32m~/.local/lib/python3.9/site-packages/qiskit/compiler/transpiler.py\u001b[0m in \u001b[0;36m_serial_transpile_circuit\u001b[0;34m(circuit, pass_manager, callback, output_name, num_qubits, faulty_qubits_map, backend_prop)\u001b[0m\n\u001b[1;32m    473\u001b[0m     \u001b[0mbackend_prop\u001b[0m\u001b[0;34m=\u001b[0m\u001b[0;32mNone\u001b[0m\u001b[0;34m,\u001b[0m\u001b[0;34m\u001b[0m\u001b[0;34m\u001b[0m\u001b[0m\n\u001b[1;32m    474\u001b[0m ):\n\u001b[0;32m--> 475\u001b[0;31m     \u001b[0mresult\u001b[0m \u001b[0;34m=\u001b[0m \u001b[0mpass_manager\u001b[0m\u001b[0;34m.\u001b[0m\u001b[0mrun\u001b[0m\u001b[0;34m(\u001b[0m\u001b[0mcircuit\u001b[0m\u001b[0;34m,\u001b[0m \u001b[0mcallback\u001b[0m\u001b[0;34m=\u001b[0m\u001b[0mcallback\u001b[0m\u001b[0;34m,\u001b[0m \u001b[0moutput_name\u001b[0m\u001b[0;34m=\u001b[0m\u001b[0moutput_name\u001b[0m\u001b[0;34m)\u001b[0m\u001b[0;34m\u001b[0m\u001b[0;34m\u001b[0m\u001b[0m\n\u001b[0m\u001b[1;32m    476\u001b[0m     \u001b[0;32mif\u001b[0m \u001b[0mfaulty_qubits_map\u001b[0m\u001b[0;34m:\u001b[0m\u001b[0;34m\u001b[0m\u001b[0;34m\u001b[0m\u001b[0m\n\u001b[1;32m    477\u001b[0m         return _remap_circuit_faulty_backend(\n",
      "\u001b[0;32m~/.local/lib/python3.9/site-packages/qiskit/transpiler/passmanager.py\u001b[0m in \u001b[0;36mrun\u001b[0;34m(self, circuits, output_name, callback)\u001b[0m\n\u001b[1;32m    526\u001b[0m     ) -> Union[QuantumCircuit, List[QuantumCircuit]]:\n\u001b[1;32m    527\u001b[0m         \u001b[0mself\u001b[0m\u001b[0;34m.\u001b[0m\u001b[0m_update_passmanager\u001b[0m\u001b[0;34m(\u001b[0m\u001b[0;34m)\u001b[0m\u001b[0;34m\u001b[0m\u001b[0;34m\u001b[0m\u001b[0m\n\u001b[0;32m--> 528\u001b[0;31m         \u001b[0;32mreturn\u001b[0m \u001b[0msuper\u001b[0m\u001b[0;34m(\u001b[0m\u001b[0;34m)\u001b[0m\u001b[0;34m.\u001b[0m\u001b[0mrun\u001b[0m\u001b[0;34m(\u001b[0m\u001b[0mcircuits\u001b[0m\u001b[0;34m,\u001b[0m \u001b[0moutput_name\u001b[0m\u001b[0;34m,\u001b[0m \u001b[0mcallback\u001b[0m\u001b[0;34m)\u001b[0m\u001b[0;34m\u001b[0m\u001b[0;34m\u001b[0m\u001b[0m\n\u001b[0m",
      "\u001b[0;32m~/.local/lib/python3.9/site-packages/qiskit/transpiler/passmanager.py\u001b[0m in \u001b[0;36mrun\u001b[0;34m(self, circuits, output_name, callback)\u001b[0m\n\u001b[1;32m    226\u001b[0m             \u001b[0;32mreturn\u001b[0m \u001b[0mcircuits\u001b[0m\u001b[0;34m\u001b[0m\u001b[0;34m\u001b[0m\u001b[0m\n\u001b[1;32m    227\u001b[0m         \u001b[0;32mif\u001b[0m \u001b[0misinstance\u001b[0m\u001b[0;34m(\u001b[0m\u001b[0mcircuits\u001b[0m\u001b[0;34m,\u001b[0m \u001b[0mQuantumCircuit\u001b[0m\u001b[0;34m)\u001b[0m\u001b[0;34m:\u001b[0m\u001b[0;34m\u001b[0m\u001b[0;34m\u001b[0m\u001b[0m\n\u001b[0;32m--> 228\u001b[0;31m             \u001b[0;32mreturn\u001b[0m \u001b[0mself\u001b[0m\u001b[0;34m.\u001b[0m\u001b[0m_run_single_circuit\u001b[0m\u001b[0;34m(\u001b[0m\u001b[0mcircuits\u001b[0m\u001b[0;34m,\u001b[0m \u001b[0moutput_name\u001b[0m\u001b[0;34m,\u001b[0m \u001b[0mcallback\u001b[0m\u001b[0;34m)\u001b[0m\u001b[0;34m\u001b[0m\u001b[0;34m\u001b[0m\u001b[0m\n\u001b[0m\u001b[1;32m    229\u001b[0m         \u001b[0;32mif\u001b[0m \u001b[0mlen\u001b[0m\u001b[0;34m(\u001b[0m\u001b[0mcircuits\u001b[0m\u001b[0;34m)\u001b[0m \u001b[0;34m==\u001b[0m \u001b[0;36m1\u001b[0m\u001b[0;34m:\u001b[0m\u001b[0;34m\u001b[0m\u001b[0;34m\u001b[0m\u001b[0m\n\u001b[1;32m    230\u001b[0m             \u001b[0;32mreturn\u001b[0m \u001b[0mself\u001b[0m\u001b[0;34m.\u001b[0m\u001b[0m_run_single_circuit\u001b[0m\u001b[0;34m(\u001b[0m\u001b[0mcircuits\u001b[0m\u001b[0;34m[\u001b[0m\u001b[0;36m0\u001b[0m\u001b[0;34m]\u001b[0m\u001b[0;34m,\u001b[0m \u001b[0moutput_name\u001b[0m\u001b[0;34m,\u001b[0m \u001b[0mcallback\u001b[0m\u001b[0;34m)\u001b[0m\u001b[0;34m\u001b[0m\u001b[0;34m\u001b[0m\u001b[0m\n",
      "\u001b[0;32m~/.local/lib/python3.9/site-packages/qiskit/transpiler/passmanager.py\u001b[0m in \u001b[0;36m_run_single_circuit\u001b[0;34m(self, circuit, output_name, callback)\u001b[0m\n\u001b[1;32m    281\u001b[0m         \"\"\"\n\u001b[1;32m    282\u001b[0m         \u001b[0mrunning_passmanager\u001b[0m \u001b[0;34m=\u001b[0m \u001b[0mself\u001b[0m\u001b[0;34m.\u001b[0m\u001b[0m_create_running_passmanager\u001b[0m\u001b[0;34m(\u001b[0m\u001b[0;34m)\u001b[0m\u001b[0;34m\u001b[0m\u001b[0;34m\u001b[0m\u001b[0m\n\u001b[0;32m--> 283\u001b[0;31m         \u001b[0mresult\u001b[0m \u001b[0;34m=\u001b[0m \u001b[0mrunning_passmanager\u001b[0m\u001b[0;34m.\u001b[0m\u001b[0mrun\u001b[0m\u001b[0;34m(\u001b[0m\u001b[0mcircuit\u001b[0m\u001b[0;34m,\u001b[0m \u001b[0moutput_name\u001b[0m\u001b[0;34m=\u001b[0m\u001b[0moutput_name\u001b[0m\u001b[0;34m,\u001b[0m \u001b[0mcallback\u001b[0m\u001b[0;34m=\u001b[0m\u001b[0mcallback\u001b[0m\u001b[0;34m)\u001b[0m\u001b[0;34m\u001b[0m\u001b[0;34m\u001b[0m\u001b[0m\n\u001b[0m\u001b[1;32m    284\u001b[0m         \u001b[0mself\u001b[0m\u001b[0;34m.\u001b[0m\u001b[0mproperty_set\u001b[0m \u001b[0;34m=\u001b[0m \u001b[0mrunning_passmanager\u001b[0m\u001b[0;34m.\u001b[0m\u001b[0mproperty_set\u001b[0m\u001b[0;34m\u001b[0m\u001b[0;34m\u001b[0m\u001b[0m\n\u001b[1;32m    285\u001b[0m         \u001b[0;32mreturn\u001b[0m \u001b[0mresult\u001b[0m\u001b[0;34m\u001b[0m\u001b[0;34m\u001b[0m\u001b[0m\n",
      "\u001b[0;32m~/.local/lib/python3.9/site-packages/qiskit/transpiler/runningpassmanager.py\u001b[0m in \u001b[0;36mrun\u001b[0;34m(***failed resolving arguments***)\u001b[0m\n\u001b[1;32m    123\u001b[0m         \u001b[0;32mfor\u001b[0m \u001b[0mpassset\u001b[0m \u001b[0;32min\u001b[0m \u001b[0mself\u001b[0m\u001b[0;34m.\u001b[0m\u001b[0mworking_list\u001b[0m\u001b[0;34m:\u001b[0m\u001b[0;34m\u001b[0m\u001b[0;34m\u001b[0m\u001b[0m\n\u001b[1;32m    124\u001b[0m             \u001b[0;32mfor\u001b[0m \u001b[0mpass_\u001b[0m \u001b[0;32min\u001b[0m \u001b[0mpassset\u001b[0m\u001b[0;34m:\u001b[0m\u001b[0;34m\u001b[0m\u001b[0;34m\u001b[0m\u001b[0m\n\u001b[0;32m--> 125\u001b[0;31m                 \u001b[0mdag\u001b[0m \u001b[0;34m=\u001b[0m \u001b[0mself\u001b[0m\u001b[0;34m.\u001b[0m\u001b[0m_do_pass\u001b[0m\u001b[0;34m(\u001b[0m\u001b[0mpass_\u001b[0m\u001b[0;34m,\u001b[0m \u001b[0mdag\u001b[0m\u001b[0;34m,\u001b[0m \u001b[0mpassset\u001b[0m\u001b[0;34m.\u001b[0m\u001b[0moptions\u001b[0m\u001b[0;34m)\u001b[0m\u001b[0;34m\u001b[0m\u001b[0;34m\u001b[0m\u001b[0m\n\u001b[0m\u001b[1;32m    126\u001b[0m \u001b[0;34m\u001b[0m\u001b[0m\n\u001b[1;32m    127\u001b[0m         \u001b[0mcircuit\u001b[0m \u001b[0;34m=\u001b[0m \u001b[0mdag_to_circuit\u001b[0m\u001b[0;34m(\u001b[0m\u001b[0mdag\u001b[0m\u001b[0;34m)\u001b[0m\u001b[0;34m\u001b[0m\u001b[0;34m\u001b[0m\u001b[0m\n",
      "\u001b[0;32m~/.local/lib/python3.9/site-packages/qiskit/transpiler/runningpassmanager.py\u001b[0m in \u001b[0;36m_do_pass\u001b[0;34m(self, pass_, dag, options)\u001b[0m\n\u001b[1;32m    170\u001b[0m             \u001b[0;31m# Run the pass itself, if not already run\u001b[0m\u001b[0;34m\u001b[0m\u001b[0;34m\u001b[0m\u001b[0m\n\u001b[1;32m    171\u001b[0m             \u001b[0;32mif\u001b[0m \u001b[0mpass_\u001b[0m \u001b[0;32mnot\u001b[0m \u001b[0;32min\u001b[0m \u001b[0mself\u001b[0m\u001b[0;34m.\u001b[0m\u001b[0mvalid_passes\u001b[0m\u001b[0;34m:\u001b[0m\u001b[0;34m\u001b[0m\u001b[0;34m\u001b[0m\u001b[0m\n\u001b[0;32m--> 172\u001b[0;31m                 \u001b[0mdag\u001b[0m \u001b[0;34m=\u001b[0m \u001b[0mself\u001b[0m\u001b[0;34m.\u001b[0m\u001b[0m_run_this_pass\u001b[0m\u001b[0;34m(\u001b[0m\u001b[0mpass_\u001b[0m\u001b[0;34m,\u001b[0m \u001b[0mdag\u001b[0m\u001b[0;34m)\u001b[0m\u001b[0;34m\u001b[0m\u001b[0;34m\u001b[0m\u001b[0m\n\u001b[0m\u001b[1;32m    173\u001b[0m \u001b[0;34m\u001b[0m\u001b[0m\n\u001b[1;32m    174\u001b[0m                 \u001b[0;31m# update the valid_passes property\u001b[0m\u001b[0;34m\u001b[0m\u001b[0;34m\u001b[0m\u001b[0m\n",
      "\u001b[0;32m~/.local/lib/python3.9/site-packages/qiskit/transpiler/runningpassmanager.py\u001b[0m in \u001b[0;36m_run_this_pass\u001b[0;34m(self, pass_, dag)\u001b[0m\n\u001b[1;32m    199\u001b[0m             \u001b[0;31m# Measure time if we have a callback or logging set\u001b[0m\u001b[0;34m\u001b[0m\u001b[0;34m\u001b[0m\u001b[0m\n\u001b[1;32m    200\u001b[0m             \u001b[0mstart_time\u001b[0m \u001b[0;34m=\u001b[0m \u001b[0mtime\u001b[0m\u001b[0;34m(\u001b[0m\u001b[0;34m)\u001b[0m\u001b[0;34m\u001b[0m\u001b[0;34m\u001b[0m\u001b[0m\n\u001b[0;32m--> 201\u001b[0;31m             \u001b[0mnew_dag\u001b[0m \u001b[0;34m=\u001b[0m \u001b[0mpass_\u001b[0m\u001b[0;34m.\u001b[0m\u001b[0mrun\u001b[0m\u001b[0;34m(\u001b[0m\u001b[0mdag\u001b[0m\u001b[0;34m)\u001b[0m\u001b[0;34m\u001b[0m\u001b[0;34m\u001b[0m\u001b[0m\n\u001b[0m\u001b[1;32m    202\u001b[0m             \u001b[0mend_time\u001b[0m \u001b[0;34m=\u001b[0m \u001b[0mtime\u001b[0m\u001b[0;34m(\u001b[0m\u001b[0;34m)\u001b[0m\u001b[0;34m\u001b[0m\u001b[0;34m\u001b[0m\u001b[0m\n\u001b[1;32m    203\u001b[0m             \u001b[0mrun_time\u001b[0m \u001b[0;34m=\u001b[0m \u001b[0mend_time\u001b[0m \u001b[0;34m-\u001b[0m \u001b[0mstart_time\u001b[0m\u001b[0;34m\u001b[0m\u001b[0;34m\u001b[0m\u001b[0m\n",
      "\u001b[0;32m~/.local/lib/python3.9/site-packages/qiskit/transpiler/passes/utils/control_flow.py\u001b[0m in \u001b[0;36mout\u001b[0;34m(self, dag)\u001b[0m\n\u001b[1;32m     54\u001b[0m         \u001b[0;32mfor\u001b[0m \u001b[0mnode\u001b[0m \u001b[0;32min\u001b[0m \u001b[0mdag\u001b[0m\u001b[0;34m.\u001b[0m\u001b[0mop_nodes\u001b[0m\u001b[0;34m(\u001b[0m\u001b[0mControlFlowOp\u001b[0m\u001b[0;34m)\u001b[0m\u001b[0;34m:\u001b[0m\u001b[0;34m\u001b[0m\u001b[0;34m\u001b[0m\u001b[0m\n\u001b[1;32m     55\u001b[0m             \u001b[0mnode\u001b[0m\u001b[0;34m.\u001b[0m\u001b[0mop\u001b[0m \u001b[0;34m=\u001b[0m \u001b[0mmap_blocks\u001b[0m\u001b[0;34m(\u001b[0m\u001b[0mbound_wrapped_method\u001b[0m\u001b[0;34m,\u001b[0m \u001b[0mnode\u001b[0m\u001b[0;34m.\u001b[0m\u001b[0mop\u001b[0m\u001b[0;34m)\u001b[0m\u001b[0;34m\u001b[0m\u001b[0;34m\u001b[0m\u001b[0m\n\u001b[0;32m---> 56\u001b[0;31m         \u001b[0;32mreturn\u001b[0m \u001b[0mmethod\u001b[0m\u001b[0;34m(\u001b[0m\u001b[0mself\u001b[0m\u001b[0;34m,\u001b[0m \u001b[0mdag\u001b[0m\u001b[0;34m)\u001b[0m\u001b[0;34m\u001b[0m\u001b[0;34m\u001b[0m\u001b[0m\n\u001b[0m\u001b[1;32m     57\u001b[0m \u001b[0;34m\u001b[0m\u001b[0m\n\u001b[1;32m     58\u001b[0m     \u001b[0;32mreturn\u001b[0m \u001b[0mout\u001b[0m\u001b[0;34m\u001b[0m\u001b[0;34m\u001b[0m\u001b[0m\n",
      "\u001b[0;32m~/.local/lib/python3.9/site-packages/qiskit/transpiler/passes/optimization/optimize_1q_decomposition.py\u001b[0m in \u001b[0;36mrun\u001b[0;34m(self, dag)\u001b[0m\n\u001b[1;32m    168\u001b[0m                     \u001b[0;32mcontinue\u001b[0m\u001b[0;34m\u001b[0m\u001b[0;34m\u001b[0m\u001b[0m\n\u001b[1;32m    169\u001b[0m \u001b[0;34m\u001b[0m\u001b[0m\n\u001b[0;32m--> 170\u001b[0;31m             \u001b[0mnew_basis\u001b[0m\u001b[0;34m,\u001b[0m \u001b[0mnew_circ\u001b[0m \u001b[0;34m=\u001b[0m \u001b[0mself\u001b[0m\u001b[0;34m.\u001b[0m\u001b[0m_resynthesize_run\u001b[0m\u001b[0;34m(\u001b[0m\u001b[0mrun\u001b[0m\u001b[0;34m)\u001b[0m\u001b[0;34m\u001b[0m\u001b[0;34m\u001b[0m\u001b[0m\n\u001b[0m\u001b[1;32m    171\u001b[0m \u001b[0;34m\u001b[0m\u001b[0m\n\u001b[1;32m    172\u001b[0m             \u001b[0;32mif\u001b[0m \u001b[0mnew_circ\u001b[0m \u001b[0;32mis\u001b[0m \u001b[0;32mnot\u001b[0m \u001b[0;32mNone\u001b[0m \u001b[0;32mand\u001b[0m \u001b[0mself\u001b[0m\u001b[0;34m.\u001b[0m\u001b[0m_substitution_checks\u001b[0m\u001b[0;34m(\u001b[0m\u001b[0mdag\u001b[0m\u001b[0;34m,\u001b[0m \u001b[0mrun\u001b[0m\u001b[0;34m,\u001b[0m \u001b[0mnew_circ\u001b[0m\u001b[0;34m,\u001b[0m \u001b[0mnew_basis\u001b[0m\u001b[0;34m)\u001b[0m\u001b[0;34m:\u001b[0m\u001b[0;34m\u001b[0m\u001b[0;34m\u001b[0m\u001b[0m\n",
      "\u001b[0;32m~/.local/lib/python3.9/site-packages/qiskit/transpiler/passes/optimization/optimize_1q_decomposition.py\u001b[0m in \u001b[0;36m_resynthesize_run\u001b[0;34m(self, run)\u001b[0m\n\u001b[1;32m     77\u001b[0m             \u001b[0moperator\u001b[0m \u001b[0;34m=\u001b[0m \u001b[0mgate\u001b[0m\u001b[0;34m.\u001b[0m\u001b[0mop\u001b[0m\u001b[0;34m.\u001b[0m\u001b[0mto_matrix\u001b[0m\u001b[0;34m(\u001b[0m\u001b[0;34m)\u001b[0m\u001b[0;34m.\u001b[0m\u001b[0mdot\u001b[0m\u001b[0;34m(\u001b[0m\u001b[0moperator\u001b[0m\u001b[0;34m)\u001b[0m\u001b[0;34m\u001b[0m\u001b[0;34m\u001b[0m\u001b[0m\n\u001b[1;32m     78\u001b[0m \u001b[0;34m\u001b[0m\u001b[0m\n\u001b[0;32m---> 79\u001b[0;31m         \u001b[0mnew_circs\u001b[0m \u001b[0;34m=\u001b[0m \u001b[0;34m{\u001b[0m\u001b[0mk\u001b[0m\u001b[0;34m:\u001b[0m \u001b[0mv\u001b[0m\u001b[0;34m.\u001b[0m\u001b[0m_decompose\u001b[0m\u001b[0;34m(\u001b[0m\u001b[0moperator\u001b[0m\u001b[0;34m)\u001b[0m \u001b[0;32mfor\u001b[0m \u001b[0mk\u001b[0m\u001b[0;34m,\u001b[0m \u001b[0mv\u001b[0m \u001b[0;32min\u001b[0m \u001b[0mself\u001b[0m\u001b[0;34m.\u001b[0m\u001b[0m_decomposers\u001b[0m\u001b[0;34m.\u001b[0m\u001b[0mitems\u001b[0m\u001b[0;34m(\u001b[0m\u001b[0;34m)\u001b[0m\u001b[0;34m}\u001b[0m\u001b[0;34m\u001b[0m\u001b[0;34m\u001b[0m\u001b[0m\n\u001b[0m\u001b[1;32m     80\u001b[0m \u001b[0;34m\u001b[0m\u001b[0m\n\u001b[1;32m     81\u001b[0m         \u001b[0mnew_basis\u001b[0m\u001b[0;34m,\u001b[0m \u001b[0mnew_circ\u001b[0m \u001b[0;34m=\u001b[0m \u001b[0;32mNone\u001b[0m\u001b[0;34m,\u001b[0m \u001b[0;32mNone\u001b[0m\u001b[0;34m\u001b[0m\u001b[0;34m\u001b[0m\u001b[0m\n",
      "\u001b[0;32m~/.local/lib/python3.9/site-packages/qiskit/transpiler/passes/optimization/optimize_1q_decomposition.py\u001b[0m in \u001b[0;36m<dictcomp>\u001b[0;34m(.0)\u001b[0m\n\u001b[1;32m     77\u001b[0m             \u001b[0moperator\u001b[0m \u001b[0;34m=\u001b[0m \u001b[0mgate\u001b[0m\u001b[0;34m.\u001b[0m\u001b[0mop\u001b[0m\u001b[0;34m.\u001b[0m\u001b[0mto_matrix\u001b[0m\u001b[0;34m(\u001b[0m\u001b[0;34m)\u001b[0m\u001b[0;34m.\u001b[0m\u001b[0mdot\u001b[0m\u001b[0;34m(\u001b[0m\u001b[0moperator\u001b[0m\u001b[0;34m)\u001b[0m\u001b[0;34m\u001b[0m\u001b[0;34m\u001b[0m\u001b[0m\n\u001b[1;32m     78\u001b[0m \u001b[0;34m\u001b[0m\u001b[0m\n\u001b[0;32m---> 79\u001b[0;31m         \u001b[0mnew_circs\u001b[0m \u001b[0;34m=\u001b[0m \u001b[0;34m{\u001b[0m\u001b[0mk\u001b[0m\u001b[0;34m:\u001b[0m \u001b[0mv\u001b[0m\u001b[0;34m.\u001b[0m\u001b[0m_decompose\u001b[0m\u001b[0;34m(\u001b[0m\u001b[0moperator\u001b[0m\u001b[0;34m)\u001b[0m \u001b[0;32mfor\u001b[0m \u001b[0mk\u001b[0m\u001b[0;34m,\u001b[0m \u001b[0mv\u001b[0m \u001b[0;32min\u001b[0m \u001b[0mself\u001b[0m\u001b[0;34m.\u001b[0m\u001b[0m_decomposers\u001b[0m\u001b[0;34m.\u001b[0m\u001b[0mitems\u001b[0m\u001b[0;34m(\u001b[0m\u001b[0;34m)\u001b[0m\u001b[0;34m}\u001b[0m\u001b[0;34m\u001b[0m\u001b[0;34m\u001b[0m\u001b[0m\n\u001b[0m\u001b[1;32m     80\u001b[0m \u001b[0;34m\u001b[0m\u001b[0m\n\u001b[1;32m     81\u001b[0m         \u001b[0mnew_basis\u001b[0m\u001b[0;34m,\u001b[0m \u001b[0mnew_circ\u001b[0m \u001b[0;34m=\u001b[0m \u001b[0;32mNone\u001b[0m\u001b[0;34m,\u001b[0m \u001b[0;32mNone\u001b[0m\u001b[0;34m\u001b[0m\u001b[0;34m\u001b[0m\u001b[0m\n",
      "\u001b[0;32m~/.local/lib/python3.9/site-packages/qiskit/quantum_info/synthesis/one_qubit_decompose.py\u001b[0m in \u001b[0;36m_decompose\u001b[0;34m(self, unitary, simplify, atol)\u001b[0m\n\u001b[1;32m    165\u001b[0m     \u001b[0;32mdef\u001b[0m \u001b[0m_decompose\u001b[0m\u001b[0;34m(\u001b[0m\u001b[0mself\u001b[0m\u001b[0;34m,\u001b[0m \u001b[0munitary\u001b[0m\u001b[0;34m,\u001b[0m \u001b[0msimplify\u001b[0m\u001b[0;34m=\u001b[0m\u001b[0;32mTrue\u001b[0m\u001b[0;34m,\u001b[0m \u001b[0matol\u001b[0m\u001b[0;34m=\u001b[0m\u001b[0mDEFAULT_ATOL\u001b[0m\u001b[0;34m)\u001b[0m\u001b[0;34m:\u001b[0m\u001b[0;34m\u001b[0m\u001b[0;34m\u001b[0m\u001b[0m\n\u001b[1;32m    166\u001b[0m         \u001b[0mtheta\u001b[0m\u001b[0;34m,\u001b[0m \u001b[0mphi\u001b[0m\u001b[0;34m,\u001b[0m \u001b[0mlam\u001b[0m\u001b[0;34m,\u001b[0m \u001b[0mphase\u001b[0m \u001b[0;34m=\u001b[0m \u001b[0mself\u001b[0m\u001b[0;34m.\u001b[0m\u001b[0m_params\u001b[0m\u001b[0;34m(\u001b[0m\u001b[0munitary\u001b[0m\u001b[0;34m)\u001b[0m\u001b[0;34m\u001b[0m\u001b[0;34m\u001b[0m\u001b[0m\n\u001b[0;32m--> 167\u001b[0;31m         \u001b[0mcircuit\u001b[0m \u001b[0;34m=\u001b[0m \u001b[0mself\u001b[0m\u001b[0;34m.\u001b[0m\u001b[0m_circuit\u001b[0m\u001b[0;34m(\u001b[0m\u001b[0mtheta\u001b[0m\u001b[0;34m,\u001b[0m \u001b[0mphi\u001b[0m\u001b[0;34m,\u001b[0m \u001b[0mlam\u001b[0m\u001b[0;34m,\u001b[0m \u001b[0mphase\u001b[0m\u001b[0;34m,\u001b[0m \u001b[0msimplify\u001b[0m\u001b[0;34m=\u001b[0m\u001b[0msimplify\u001b[0m\u001b[0;34m,\u001b[0m \u001b[0matol\u001b[0m\u001b[0;34m=\u001b[0m\u001b[0matol\u001b[0m\u001b[0;34m)\u001b[0m\u001b[0;34m\u001b[0m\u001b[0;34m\u001b[0m\u001b[0m\n\u001b[0m\u001b[1;32m    168\u001b[0m         \u001b[0;32mreturn\u001b[0m \u001b[0mcircuit\u001b[0m\u001b[0;34m\u001b[0m\u001b[0;34m\u001b[0m\u001b[0m\n\u001b[1;32m    169\u001b[0m \u001b[0;34m\u001b[0m\u001b[0m\n",
      "\u001b[0;32m~/.local/lib/python3.9/site-packages/qiskit/quantum_info/synthesis/one_qubit_decompose.py\u001b[0m in \u001b[0;36m_circuit_u321\u001b[0;34m(theta, phi, lam, phase, simplify, atol)\u001b[0m\n\u001b[1;32m    440\u001b[0m     \u001b[0;32mdef\u001b[0m \u001b[0m_circuit_u321\u001b[0m\u001b[0;34m(\u001b[0m\u001b[0mtheta\u001b[0m\u001b[0;34m,\u001b[0m \u001b[0mphi\u001b[0m\u001b[0;34m,\u001b[0m \u001b[0mlam\u001b[0m\u001b[0;34m,\u001b[0m \u001b[0mphase\u001b[0m\u001b[0;34m,\u001b[0m \u001b[0msimplify\u001b[0m\u001b[0;34m=\u001b[0m\u001b[0;32mTrue\u001b[0m\u001b[0;34m,\u001b[0m \u001b[0matol\u001b[0m\u001b[0;34m=\u001b[0m\u001b[0mDEFAULT_ATOL\u001b[0m\u001b[0;34m)\u001b[0m\u001b[0;34m:\u001b[0m\u001b[0;34m\u001b[0m\u001b[0;34m\u001b[0m\u001b[0m\n\u001b[1;32m    441\u001b[0m         \u001b[0mqr\u001b[0m \u001b[0;34m=\u001b[0m \u001b[0mQuantumRegister\u001b[0m\u001b[0;34m(\u001b[0m\u001b[0;36m1\u001b[0m\u001b[0;34m,\u001b[0m \u001b[0;34m\"qr\"\u001b[0m\u001b[0;34m)\u001b[0m\u001b[0;34m\u001b[0m\u001b[0;34m\u001b[0m\u001b[0m\n\u001b[0;32m--> 442\u001b[0;31m         \u001b[0mcircuit\u001b[0m \u001b[0;34m=\u001b[0m \u001b[0mQuantumCircuit\u001b[0m\u001b[0;34m(\u001b[0m\u001b[0mqr\u001b[0m\u001b[0;34m,\u001b[0m \u001b[0mglobal_phase\u001b[0m\u001b[0;34m=\u001b[0m\u001b[0mphase\u001b[0m\u001b[0;34m)\u001b[0m\u001b[0;34m\u001b[0m\u001b[0;34m\u001b[0m\u001b[0m\n\u001b[0m\u001b[1;32m    443\u001b[0m         \u001b[0;32mif\u001b[0m \u001b[0;32mnot\u001b[0m \u001b[0msimplify\u001b[0m\u001b[0;34m:\u001b[0m\u001b[0;34m\u001b[0m\u001b[0;34m\u001b[0m\u001b[0m\n\u001b[1;32m    444\u001b[0m             \u001b[0matol\u001b[0m \u001b[0;34m=\u001b[0m \u001b[0;34m-\u001b[0m\u001b[0;36m1.0\u001b[0m\u001b[0;34m\u001b[0m\u001b[0;34m\u001b[0m\u001b[0m\n",
      "\u001b[0;32m~/.local/lib/python3.9/site-packages/qiskit/circuit/quantumcircuit.py\u001b[0m in \u001b[0;36m__init__\u001b[0;34m(self, name, global_phase, metadata, *regs)\u001b[0m\n\u001b[1;32m    267\u001b[0m \u001b[0;34m\u001b[0m\u001b[0m\n\u001b[1;32m    268\u001b[0m         \u001b[0mself\u001b[0m\u001b[0;34m.\u001b[0m\u001b[0m_ancillas\u001b[0m \u001b[0;34m=\u001b[0m \u001b[0;34m[\u001b[0m\u001b[0;34m]\u001b[0m\u001b[0;34m\u001b[0m\u001b[0;34m\u001b[0m\u001b[0m\n\u001b[0;32m--> 269\u001b[0;31m         \u001b[0mself\u001b[0m\u001b[0;34m.\u001b[0m\u001b[0m_calibrations\u001b[0m \u001b[0;34m=\u001b[0m \u001b[0mdefaultdict\u001b[0m\u001b[0;34m(\u001b[0m\u001b[0mdict\u001b[0m\u001b[0;34m)\u001b[0m\u001b[0;34m\u001b[0m\u001b[0;34m\u001b[0m\u001b[0m\n\u001b[0m\u001b[1;32m    270\u001b[0m         \u001b[0mself\u001b[0m\u001b[0;34m.\u001b[0m\u001b[0madd_register\u001b[0m\u001b[0;34m(\u001b[0m\u001b[0;34m*\u001b[0m\u001b[0mregs\u001b[0m\u001b[0;34m)\u001b[0m\u001b[0;34m\u001b[0m\u001b[0;34m\u001b[0m\u001b[0m\n\u001b[1;32m    271\u001b[0m \u001b[0;34m\u001b[0m\u001b[0m\n",
      "\u001b[0;31mKeyboardInterrupt\u001b[0m: "
     ]
    }
   ],
   "source": [
    "results = []\n",
    "\n",
    "\n",
    "for i in tqdm(range(reps)):\n",
    "    algorithm = ExpVal(n_shots = total_shots-r_shots,\n",
    "        bodies = bodies, \n",
    "        r = r, \n",
    "        r_shots = r_shots,\n",
    "        n_qubits = n_qubits)\n",
    "\n",
    "    # algorithm.get_interferences(circ_gs)\n",
    "    \n",
    "    algorithm.get_interferences(state_circ)\n",
    "    \n",
    "    coeffs, obs = get_obs_data(hamiltonian)\n",
    "\n",
    "    exp_val = algorithm.exp_val(obs)\n",
    "    \n",
    "    # We remove the first pauli string which corresponds to the identity, \n",
    "    # as its trace with respect to any state is always 1. Therefore,\n",
    "    # we only need to add this coefficient to our expectation value\n",
    "    \n",
    "    first_term_coeffs = hamiltonian[0].coeffs[0].real\n",
    "    \n",
    "    print('Exp val calculado: ', np.sum(exp_val*coeffs).real + first_term_coeffs)\n",
    "    results.append(np.sum(exp_val*coeffs).real + first_term_coeffs)"
   ]
  },
  {
   "cell_type": "code",
   "execution_count": null,
   "id": "8dd4f451",
   "metadata": {},
   "outputs": [],
   "source": [
    "-5.376139843744202"
   ]
  },
  {
   "cell_type": "code",
   "execution_count": null,
   "id": "0989e0e6",
   "metadata": {
    "ExecuteTime": {
     "end_time": "2023-02-28T17:28:34.926702Z",
     "start_time": "2023-02-28T17:28:34.926686Z"
    }
   },
   "outputs": [],
   "source": [
    "np.abs(results-eig_gs)"
   ]
  },
  {
   "cell_type": "code",
   "execution_count": null,
   "id": "00983aef",
   "metadata": {
    "ExecuteTime": {
     "end_time": "2023-02-28T17:28:34.928326Z",
     "start_time": "2023-02-28T17:28:34.928310Z"
    }
   },
   "outputs": [],
   "source": [
    "print(np.mean(np.abs(results-eig_gs)))\n",
    "print(np.median(np.abs(results-eig_gs)))\n",
    "print(np.std(np.abs(results-eig_gs)))"
   ]
  },
  {
   "cell_type": "code",
   "execution_count": null,
   "id": "0eab8209",
   "metadata": {
    "ExecuteTime": {
     "end_time": "2023-02-28T17:28:34.929525Z",
     "start_time": "2023-02-28T17:28:34.929509Z"
    }
   },
   "outputs": [],
   "source": [
    "-8.908299431473507"
   ]
  },
  {
   "cell_type": "markdown",
   "id": "ee9ccfa8",
   "metadata": {},
   "source": [
    "We repeated the same procedure with every molecule in the dictionary molecules a given number of times"
   ]
  },
  {
   "cell_type": "code",
   "execution_count": null,
   "id": "b5dbde80",
   "metadata": {
    "ExecuteTime": {
     "end_time": "2023-02-28T17:28:34.930879Z",
     "start_time": "2023-02-28T17:28:34.930863Z"
    }
   },
   "outputs": [],
   "source": [
    "array([9.86204152e-04, 3.94720880e-03, 1.78362664e-03, 3.59160757e-03,\n",
    "       1.52587092e-03, 5.71380088e-04, 3.83710605e-03, 2.98526592e-07,\n",
    "       6.03045129e-04, 6.77235943e-03, 2.45961473e-03, 3.03184562e-03,\n",
    "       1.67520197e-03, 1.50698998e-03, 2.45557756e-03, 3.39935494e-03,\n",
    "       1.43179737e-03, 2.59642511e-03, 1.61919666e-03, 4.77220471e-04])"
   ]
  },
  {
   "cell_type": "code",
   "execution_count": null,
   "id": "e499e914",
   "metadata": {
    "ExecuteTime": {
     "end_time": "2023-02-28T17:28:34.932181Z",
     "start_time": "2023-02-28T17:28:34.932165Z"
    }
   },
   "outputs": [],
   "source": [
    "0.002213596585470512\n",
    "0.00172941430309681\n",
    "0.001545737303162133"
   ]
  },
  {
   "cell_type": "markdown",
   "id": "a94f8d44",
   "metadata": {},
   "source": [
    "## 6. VQE for the H2 Molecule"
   ]
  },
  {
   "cell_type": "markdown",
   "id": "cc90c49c",
   "metadata": {},
   "source": [
    "## 7. Discussion and outlook\n",
    "\n",
    "We propose a hybrid quantum-classical algorithm to measure the expectation values of observables efficiently and implement it on Qiskit. This algorithm is designed to be effective when the state is pure and concentrated, and also when the observable depends on Pauli strings that contain a small fixed number of $X$ and $Y$ Pauli operators. These objects are interesting for instance in  Quantum Chemistry.  The approach presents some improvements to that presented in [[2]](https://link.aps.org/doi/10.1103/PhysRevResearch.4.033173) like the proper operation for non-concatenated states, a reduction in the number of CNOT gates used, and a reduction in the estimated number of coefficients. These new method features enable us to implement the VQE method, which is a significant aim in the literature.\n",
    "\n",
    " By construction,  the method has an efficient use of classical memory and computational time, and it does not depend on the number of Pauli strings. Furthermore, from the numerical simulation, we see that the method uses fewer shots compared to the alternative methods (see ref.[2]). \n",
    "\n",
    "There are some improvements that could be made on the algorithm implementation:\n",
    " \n",
    " - Implementing the algorithm in Qiskit is not yet fully polished, as some subroutines are not optimally implemented, causing the program to run slower and consume more resources. \n",
    " \n",
    " - The estimator's variance has a closed form, calculated by the program. However, we were not able to perform numerical simulations\n",
    " \n",
    " - The optimal allocation of the measurement budget was not used because it did not affect the estimation outcome.  We can deduce from this that some minor error caused the program to malfunction.\n",
    "\n",
    " - The VQE implementation does not support higher molecules, since the ansatz...\n",
    "\n"
   ]
  },
  {
   "cell_type": "markdown",
   "id": "3aefbea4",
   "metadata": {},
   "source": [
    "## References \n",
    "\n",
    "[1] M. Cerezo, Andrew Arrasmith, Ryan Babbush, Simon C. Benjamin, Suguru Endo, Keisuke Fujii, Jarrod R. McClean, Kosuke Mitarai, Xiao Yuan, Lukasz Cincio & Patrick J. Coles. Variational quantum algorithms. ***Nature Reviews Physics***. 3:625–644, 8 2021. ISSN 2522-5820. [doi: 10.1038/s42254-021-00348-9](https://www.nature.com/articles/s42254-021-00348-9).\n",
    "\n",
    "\n",
    "[2] Kohda, Masaya and Imai, Ryosuke and Kanno, Keita and Mitarai, Kosuke and Mizukami, Wataru and Nakagawa, Yuya O. Quantum expectation-value estimation by computational basis sampling. ***Phys. Rev. Res***, 4:033173, Sep 2022. [doi:\n",
    "10.1103/PhysRevResearch.4.033173](https://link.aps.org/doi/10.1103/PhysRevResearch.4.033173).\n",
    "\n",
    "[3] Gonthier, Jérôme F. and Radin, Maxwell D. and Buda, Corneliu and Doskocil, Eric J. and Abuan, Clena M. and Romero, Jhonathan. Measurements as a roadblock to near-term prac-tical quantum advantage in chemistry: Resource analysis. ***Phys. Rev. Res.***, 4:033154, Aug 2022. [doi: 10.1103/PhysRevResearch.4.033154](https://link.aps.org/doi/10.1103/PhysRevResearch.4.033154).\n",
    "\n",
    "[4] Jarrod R McClean, Jonathan Romero, Ryan Babbush, and Al ́an Aspuru-Guzik. The theory of variational hybrid\n",
    "quantum-classical algorithms. ***New Journal of Physics***, 18(2):023023, feb 2016. [doi: 10.1088/1367-2630/18/2/\n",
    "023023](https://dx.doi.org/10.1088/1367-2630/18/2/023023).\n",
    "\n",
    "[5] Hsin-Yuan Huang, Richard Kueng, and John Preskill. Predicting many properties of a quantum system from very\n",
    "few measurements. ***Nature Physics***, 16:1050–1057, 10 2020. ISSN 1745-2473. [doi: 10.1038/s41567-020-0932-7](https://www.nature.com/articles/s41567-020-0932-7).\n",
    "\n",
    "[6] M. D. Radin and P. Johnson, Classically-boosted variational quantum eigensolver, [arXiv:2106.04755](https://arxiv.org/abs/2106.04755).\n",
    "\n",
    "[7] Masaya Kohda, Ryosuke Imai, Keita Kanno, Kosuke Mitarai, Wataru Mizukami, and Yuya O. Nakagawa. Quantum expectation-value estimation by computational basis\n",
    "sampling. ***Phys. Rev. Res.***, 4:033173, Sep 2022. doi: 10.1103/PhysRevResearch.4.033173. URL https://link.aps.org/doi/10.1103/PhysRevResearch.4.033173.\n",
    "\n"
   ]
  }
 ],
 "metadata": {
  "hide_input": false,
  "kernelspec": {
   "display_name": "Python 3 (ipykernel)",
   "language": "python",
   "name": "python3"
  },
  "language_info": {
   "codemirror_mode": {
    "name": "ipython",
    "version": 3
   },
   "file_extension": ".py",
   "mimetype": "text/x-python",
   "name": "python",
   "nbconvert_exporter": "python",
   "pygments_lexer": "ipython3",
   "version": "3.9.7"
  }
 },
 "nbformat": 4,
 "nbformat_minor": 5
}
