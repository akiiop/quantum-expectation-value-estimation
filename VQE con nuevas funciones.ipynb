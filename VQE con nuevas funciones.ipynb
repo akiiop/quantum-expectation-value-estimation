{
 "cells": [
  {
   "cell_type": "code",
   "execution_count": 1,
   "id": "c2366973",
   "metadata": {
    "ExecuteTime": {
     "end_time": "2023-02-27T20:45:00.607408Z",
     "start_time": "2023-02-27T20:44:59.351184Z"
    }
   },
   "outputs": [],
   "source": [
    "import sys\n",
    "sys.path.append(\"./expectation_value\")\n",
    "\n",
    "from expectationvalue import ExpVal\n",
    "import numpy as np\n",
    "import qiskit.quantum_info as qif\n",
    "from qiskit_nature.second_q.mappers import JordanWignerMapper, QubitConverter\n",
    "\n",
    "from qiskit_nature.second_q.transformers import FreezeCoreTransformer\n",
    "from qiskit.algorithms.minimum_eigensolvers import NumPyMinimumEigensolver\n",
    "from qiskit_nature.second_q.algorithms import GroundStateEigensolver\n",
    "from qiskit_nature.units import DistanceUnit\n",
    "from qiskit_nature.second_q.drivers import PySCFDriver"
   ]
  },
  {
   "cell_type": "code",
   "execution_count": 2,
   "id": "542d4e26",
   "metadata": {
    "ExecuteTime": {
     "end_time": "2023-02-27T20:45:00.614816Z",
     "start_time": "2023-02-27T20:45:00.609622Z"
    }
   },
   "outputs": [],
   "source": [
    "# Utils\n",
    "def BinaryQubit( integer ):\n",
    "    return list(bin(integer).replace(\"0b\",\"\")[::-1])\n",
    "\n",
    "def DiffBit( bit1 , bit2 ):\n",
    "    return  [ idx for idx , ( b1 , b2 ) in enumerate (zip( bit1,bit2 ) ) if b1!=b2   ]\n",
    "\n",
    "def BinToState( binary ):\n",
    "    rule = { \n",
    "        '0':np.array( [1,0] ),\n",
    "        '1':np.array( [0,1] )\n",
    "           }\n",
    "    \n",
    "    return reduce(np.kron,[rule[idx] for idx in binary])"
   ]
  },
  {
   "cell_type": "code",
   "execution_count": 3,
   "id": "b2f84cb2",
   "metadata": {
    "ExecuteTime": {
     "end_time": "2023-02-27T20:45:00.633390Z",
     "start_time": "2023-02-27T20:45:00.616474Z"
    },
    "code_folding": [
     0
    ]
   },
   "outputs": [],
   "source": [
    "class BasisSamplingExpectation():\n",
    "    def __init__( self,\n",
    "                 operator,\n",
    "                 quantum_instance,\n",
    "                ):\n",
    "        \"\"\"\n",
    "        Estimates the expectation value of an observable OPERATOR on the state given by the circuit\n",
    "        CIRCUIT_STATE. The samplings are performed on the QUANTUM_INSTANCE. The tolerance indicates\n",
    "        the minimum proability allowed for a basis to be included on the R elements\n",
    "        operator: OpFlow.OperatorBasis\n",
    "        quantum_instance: QuantumInstace or Backend\n",
    "        \"\"\"\n",
    "        BasisSamplingExpectation.quantum_instance = (\n",
    "            quantum_instance if isinstance(quantum_instance,QuantumInstance) else\n",
    "            QuantumInstance(backend = quantum_instance) \n",
    "        )\n",
    "        BasisSamplingExpectation.operator = operator # add instances /opflow single operator\n",
    "        \n",
    "        \n",
    "        \n",
    "    def GetExpectation(self, circuit_state , R = 5):\n",
    "        \n",
    "        if len(circuit_state.clbits) == 0:\n",
    "            circuit_state.add_register( ClassicalRegister( circuit_state.num_qubits ) )\n",
    "        \n",
    "        #dictionary with the counts with the best R  states\n",
    "        weight_factors = self.WeightFactors( circuit_state )\n",
    "        \n",
    "        if R<len(weight_factors):\n",
    "            weight_factors = dict( \n",
    "                sorted( weight_factors.items() , key = lambda x:x[1] , reverse = True)[:R] \n",
    "            )\n",
    "            \n",
    "        # returns the transicion matrix, is a matrix\n",
    "        transition_matrix =  self.TransitionMatrix( weight_factors.keys() )\n",
    "        \n",
    "        #interference factors, a dictionary with the same keys of weight_factors\n",
    "        # already the off diagonal terms are already divided by sqr(f_l)\n",
    "        interference_factors = self.InterferenceFactors( weight_factors , circuit_state ) \n",
    "        \n",
    "        #computes the new normalization\n",
    "        norm_square = 1 / np.sum(\n",
    "            list(weight_factors.values())\n",
    "        )\n",
    "        \n",
    "        # Creates a matrix from the weights_factors, is the poduct of all its elements\n",
    "        weight_matrix = np.array( [ [ \n",
    "            val_i*val_j for val_j in weight_factors.values()   \n",
    "        ]  for val_i in weight_factors.values() ] )\n",
    "        \n",
    "        # Creates a matrix from the interference_factors, similar manner than from the weights \n",
    "        # except for the diagonal\n",
    "        n = len(interference_factors)\n",
    "        interference_matrix = np.zeros( (n,n) , dtype = complex )\n",
    "        for (i,val_i) in enumerate(weight_factors):\n",
    "            \n",
    "            for (j,val_j) in enumerate(weight_factors):\n",
    "                \n",
    "                if i!=j:\n",
    "                    interference_matrix[i,j] = (\n",
    "                        interference_factors[val_j]*interference_factors[val_i].conjugate()\n",
    "                    )\n",
    "                    \n",
    "                else:\n",
    "                    interference_matrix[ i,j ] = weight_factors[val_i]\n",
    "        exp_val = norm_square*weight_matrix * transition_matrix / interference_matrix\n",
    "        \n",
    "        print(exp_val.sum())\n",
    "        \n",
    "        return exp_val.sum()\n",
    "        \n",
    "        \n",
    "    def WeightFactors(self, circuit_state):\n",
    "        nq = circuit_state.num_qubits\n",
    "        temp_circ = QuantumCircuit( nq , nq )\n",
    "        \n",
    "        temp_circ.compose( circuit_state , inplace=True )\n",
    "        temp_circ.measure( temp_circ.qubits, temp_circ.clbits )\n",
    "        \n",
    "        trans_circ = self.quantum_instance.transpile( temp_circ )[0]\n",
    "        results = self.quantum_instance.execute( trans_circ ).get_counts()\n",
    "        #add non clbits case\n",
    "        return { k:v/self.quantum_instance.run_config.shots for k,v in results.items() }\n",
    "    \n",
    "    def TransitionMatrix( self , basis ):\n",
    "        states = [ of.StateFn(el) for el in basis ]\n",
    "        return np.array([[ (i.adjoint()@self.operator@k).eval()   for i in states] for k in states] )\n",
    "        \n",
    "    def InterferenceFactors( self, weights , circuit_state ):\n",
    "        \n",
    "        states =list(weights.keys())\n",
    "        state_l = states[0]\n",
    "        interference_factors = { state_l : weights[state_l]  }\n",
    "#         print(state_l)\n",
    "        for state in  states[1:]:\n",
    "#             print(state)\n",
    "            A = self.InterferenceCircuitEvaluation( state_l , state , circuit_state , phase = True )\n",
    "            B = self.InterferenceCircuitEvaluation( state_l , state , circuit_state , phase = False )\n",
    "    \n",
    "            interference_factors[state] =  A + B - (.5+.5j)*( \n",
    "                weights[state_l] + weights[state]\n",
    "            )/np.sqrt( weights[state_l] )\n",
    "        \n",
    "        return interference_factors\n",
    "    \n",
    "    def InterferenceCircuitEvaluation( self , m , n , circuit_state , phase ):\n",
    "        \"\"\"\n",
    "        m , n:: binary representation \n",
    "        phase :: boolean\n",
    "        Return circuit  for estimating A and B\n",
    "        \"\"\"\n",
    "\n",
    "        temp_circuit = QuantumCircuit( len(m) , len(m) )\n",
    "        temp_circuit.compose(circuit_state , inplace=True)\n",
    "        \n",
    "        qbits = DiffBit( m , n )\n",
    "        \n",
    "        m = m[::-1]\n",
    "        for qbit , value in enumerate(m):\n",
    "            if value =='1':\n",
    "                temp_circuit.x(qbit)\n",
    "\n",
    "        for qbit in qbits[:-1]:\n",
    "            temp_circuit.cnot(qbit,qbit+1)\n",
    "\n",
    "        if phase:\n",
    "            temp_circuit.s(qbits[0])\n",
    "\n",
    "        temp_circuit.h(qbits[0])\n",
    "\n",
    "        if phase:\n",
    "            temp_circuit.x(qbits[0])\n",
    "        \n",
    "        temp_circuit.measure( temp_circuit.qubits , temp_circuit.clbits )\n",
    "        trans_circ = self.quantum_instance.transpile( temp_circuit )\n",
    "        \n",
    "        results = self.quantum_instance.execute( trans_circ ).get_counts()\n",
    "        results.setdefault( '0'*len(m), 0.)\n",
    "        return results['0'*len(m)]/self.quantum_instance.run_config.shots "
   ]
  },
  {
   "cell_type": "code",
   "execution_count": 4,
   "id": "f949d62d",
   "metadata": {
    "ExecuteTime": {
     "end_time": "2023-02-27T20:45:00.650579Z",
     "start_time": "2023-02-27T20:45:00.635865Z"
    },
    "code_folding": [
     0
    ]
   },
   "outputs": [],
   "source": [
    "class MoleculeHamiltonian():\n",
    "    \"\"\"\n",
    "    Filler\n",
    "\n",
    "    \"\"\"\n",
    "    \n",
    "    def __init__(self,\n",
    "                 molecule,\n",
    "                 converter,\n",
    "                 basis = 'sto3g',\n",
    "                ):\n",
    "        \"\"\"\n",
    "\n",
    "        Parameters\n",
    "        ----------\n",
    "        molecule : string.\n",
    "            \n",
    "        converter : QubitConverter.\n",
    "            \n",
    "        basis : string.\n",
    "            \n",
    "\n",
    "        \"\"\"\n",
    "        \n",
    "        self.molecule = molecule\n",
    "        self.basis = basis\n",
    "        driver = PySCFDriver(\n",
    "            atom= self.molecule,\n",
    "            basis=self.basis,\n",
    "            charge=0,\n",
    "            spin=0,\n",
    "            unit=DistanceUnit.ANGSTROM,\n",
    "            )                                  # Define the PySCFDriver for a given molecule\n",
    "        \n",
    "        self.driver = driver\n",
    "        self.problem = driver.run()            # Define the ElectronicStructureProblem from the driver\n",
    "        self.converter = converter\n",
    "        \n",
    "    def Hamiltonian(self,\n",
    "                    freeze_core = False,\n",
    "                    remove_orbitals = None):\n",
    "        \n",
    "        \n",
    "        \"\"\"\n",
    "        Filler\n",
    "\n",
    "\n",
    "        Parameters\n",
    "        ----------\n",
    "        freeze_core : bool.\n",
    "            \n",
    "        remove_orbitals : List, optional.\n",
    "            \n",
    "            \n",
    "        Returns\n",
    "        -------\n",
    "        qubit_op : PauliSumOp.\n",
    "            \n",
    "        \"\"\"\n",
    "        problem = self.problem\n",
    "        fermionic_op = self.problem.hamiltonian.second_q_op()\n",
    "            \n",
    "        if freeze_core:\n",
    "            fc_transformer = FreezeCoreTransformer(freeze_core=freeze_core, remove_orbitals=remove_orbitals)\n",
    "            problem = fc_transformer.transform(problem)\n",
    "            fermionic_op = problem.hamiltonian.second_q_op()\n",
    "            \n",
    "        qubit_op = self.converter.convert(fermionic_op,\n",
    "                                           sector_locator=problem.symmetry_sector_locator)\n",
    "        return qubit_op\n",
    "    \n",
    "    def ComputeGroundState(self , circuit = True):\n",
    "        \n",
    "        \"\"\"\n",
    "        Filler.\n",
    "\n",
    "\n",
    "        Parameters\n",
    "        ----------\n",
    "        circuit : bool.\n",
    "            \n",
    "\n",
    "\n",
    "        Returns\n",
    "        -------\n",
    "        state : QuantumCircuit or array(2**num_qubits)\n",
    "            \n",
    "        eigenvalue : float.\n",
    "            \n",
    "        \"\"\"\n",
    "        solver = NumPyMinimumEigensolver()\n",
    "        \n",
    "        ground_solver = GroundStateEigensolver(self.converter, solver)\n",
    "        ground_state = ground_solver.solve(self.problem)\n",
    "        \n",
    "        state = ground_state.groundstate[0]\n",
    "        eigenvalue = ground_state.groundenergy\n",
    "        \n",
    "        if circuit:\n",
    "            return state, eigenvalue\n",
    "        else:\n",
    "            return qif.Statevector(state).data, eigenvalue"
   ]
  },
  {
   "cell_type": "code",
   "execution_count": 5,
   "id": "4566fdd6",
   "metadata": {
    "ExecuteTime": {
     "end_time": "2023-02-27T20:45:00.661864Z",
     "start_time": "2023-02-27T20:45:00.652843Z"
    },
    "code_folding": [
     0,
     33
    ]
   },
   "outputs": [],
   "source": [
    "def get_number_nbody_terms(hamiltonian):\n",
    "    \"\"\"\n",
    "    Gets the needed data of the hamiltonian to compute the expectation values using ExpVal.exp_val().\n",
    "\n",
    "\n",
    "    Parameters\n",
    "    ----------\n",
    "    hamiltonian : PauliSumOp.\n",
    "        Hamiltonian.\n",
    "\n",
    "\n",
    "    Returns\n",
    "    -------\n",
    "    bodies : list.\n",
    "        N-bodies interactions.\n",
    "    \"\"\"\n",
    "    \n",
    "    n_bodies_inter = []\n",
    "    \n",
    "    for i in range(len(hamiltonian)):\n",
    "        pauli_string = hamiltonian[i].to_pauli_op().primitive.to_label()\n",
    "        num_x = pauli_string.count('X')\n",
    "        num_y = pauli_string.count('Y')\n",
    "        \n",
    "        n_body_terms = num_x+num_y\n",
    "        \n",
    "        n_bodies_inter.append(n_body_terms)\n",
    "    \n",
    "    bodies = list(set(n_bodies_inter))\n",
    "    \n",
    "    return bodies\n",
    "\n",
    "\n",
    "def get_obs_data(hamiltonian):\n",
    "    \"\"\"\n",
    "    Gets the needed data of the hamiltonian to compute the expectation values using ExpVal.exp_val().\n",
    "\n",
    "\n",
    "    Parameters\n",
    "    ----------\n",
    "    hamiltonian : PauliSumOp.\n",
    "        Hamiltonian.\n",
    "\n",
    "\n",
    "    Returns\n",
    "    -------\n",
    "    coeffs : array(num_paulis).\n",
    "        Coefficients of each pauli string of the hamiltonian.\n",
    "    obs : array(2, 2, n_qubits, num_paulis)\n",
    "        Observable made of every pauli string of the hamiltonian.\n",
    "    \"\"\"\n",
    "    \n",
    "    num_paulis = len(hamiltonian)\n",
    "    n_qubits = hamiltonian.num_qubits\n",
    "\n",
    "    paulis_dict = {'X': np.array([[0., 1.], [1., 0.]], dtype=\"complex\"),\n",
    "               'Y': np.array([[0., -1.*1j], [1.*1j, 0.]], dtype=\"complex\"),\n",
    "               'Z': np.array([[1., 0], [0, -1.]], dtype=\"complex\"),\n",
    "               'I': np.array([[1., 0], [0, 1.]], dtype=\"complex\")}\n",
    "\n",
    "    obs = np.zeros((2, 2, n_qubits, num_paulis), dtype=complex)\n",
    "    coeffs = np.zeros(num_paulis, dtype=complex)\n",
    "\n",
    "    for i in range(num_paulis):\n",
    "        pauli_string_coeff = hamiltonian[i].coeffs[0]\n",
    "        pauli_string = hamiltonian[i].to_pauli_op().primitive.to_label()\n",
    "        pauli_string_list = [paulis_dict[i] for i in pauli_string]\n",
    "        obs[:,:,:,i] =  np.stack(pauli_string_list, axis=-1)\n",
    "        coeffs[i] = pauli_string_coeff\n",
    "    \n",
    "    return coeffs, obs"
   ]
  },
  {
   "cell_type": "code",
   "execution_count": 6,
   "id": "6eafe38b",
   "metadata": {
    "ExecuteTime": {
     "end_time": "2023-02-27T20:45:00.669253Z",
     "start_time": "2023-02-27T20:45:00.663500Z"
    }
   },
   "outputs": [],
   "source": [
    "dist = 1.0\n",
    "molecules = {\n",
    "    \"H2Be\": \"Be .0 .0 .0; H .0 .0 -\" + str(dist) + \"; H .0 .0 \" + str(dist),\n",
    "    \"H2\":\"H .0 .0 .0; H .0 .0 \" + str(dist),\n",
    "    \"LiH\":\"Li .0 .0 .0; H .0 .0 \" + str(dist),\n",
    "    \"H2O\": \"H -0.0399 -0.0038 0.0; O 1.5780 0.8540 0.0; H 2.7909 -0.5159 0.0\",\n",
    "    \"NH4\": \"N 0.0 0.0 0.149; H 0.0 0.947 -0.348; H  0.821 -0.474 -0.348; H -0.821 -0.474 -0.348\"\n",
    "}"
   ]
  },
  {
   "cell_type": "code",
   "execution_count": 7,
   "id": "973d9c9a",
   "metadata": {
    "ExecuteTime": {
     "end_time": "2023-02-27T20:45:00.678914Z",
     "start_time": "2023-02-27T20:45:00.670921Z"
    }
   },
   "outputs": [],
   "source": [
    "mol = 'H2'\n",
    "# mol = 'LiH'\n",
    "# mol = 'H2Be'\n",
    "# mol = \"H2O\"\n",
    "# mol = \"NH4\""
   ]
  },
  {
   "cell_type": "code",
   "execution_count": 8,
   "id": "5959a8dc",
   "metadata": {
    "ExecuteTime": {
     "end_time": "2023-02-27T20:45:00.934552Z",
     "start_time": "2023-02-27T20:45:00.680605Z"
    }
   },
   "outputs": [],
   "source": [
    "converter = QubitConverter( JordanWignerMapper(), z2symmetry_reduction=None)\n",
    "molecular_hamiltonian = MoleculeHamiltonian(molecules[mol] , converter=converter, basis='sto3g')\n",
    "hamiltonian = molecular_hamiltonian.Hamiltonian( freeze_core = False )\n",
    "\n",
    "driver = molecular_hamiltonian.driver\n",
    "problem = molecular_hamiltonian.problem\n",
    "n_qubits = hamiltonian.num_qubits\n",
    "\n",
    "bodies = get_number_nbody_terms(hamiltonian)"
   ]
  },
  {
   "cell_type": "code",
   "execution_count": 9,
   "id": "cdbb28a9",
   "metadata": {
    "ExecuteTime": {
     "end_time": "2023-02-27T20:45:01.087441Z",
     "start_time": "2023-02-27T20:45:00.958783Z"
    }
   },
   "outputs": [
    {
     "data": {
      "text/plain": [
       "-1.630327541152621"
      ]
     },
     "execution_count": 9,
     "metadata": {},
     "output_type": "execute_result"
    }
   ],
   "source": [
    "circ_gs, eig_gs = molecular_hamiltonian.ComputeGroundState()\n",
    "eig_gs"
   ]
  },
  {
   "cell_type": "code",
   "execution_count": 20,
   "id": "645eaf81",
   "metadata": {
    "ExecuteTime": {
     "end_time": "2023-02-27T23:19:41.535972Z",
     "start_time": "2023-02-27T23:19:41.531089Z"
    }
   },
   "outputs": [],
   "source": [
    "#########################################################################################################"
   ]
  },
  {
   "cell_type": "code",
   "execution_count": 11,
   "id": "4bc21eab",
   "metadata": {
    "ExecuteTime": {
     "end_time": "2023-02-27T20:45:01.107778Z",
     "start_time": "2023-02-27T20:45:01.095866Z"
    }
   },
   "outputs": [],
   "source": [
    "class Custom_VQE():\n",
    "    \n",
    "    def __init__(self,\n",
    "                 initial_point,\n",
    "                 ansatz,\n",
    "                 optimizer,\n",
    "                 quantum_instance,\n",
    "                ):\n",
    "        self.initial_point = initial_point\n",
    "        self.ansatz = ansatz\n",
    "        self.optimizer = optimizer\n",
    "        self.quantum_instance = quantum_instance\n",
    "        \n",
    "        \n",
    "    def compute_minimum_eigenvalue( self, \n",
    "                                   operator, \n",
    "                                   exp_val,\n",
    "                                   R=5,\n",
    "                                  ):\n",
    "        \n",
    "        exp_val = exp_val( operator, self.quantum_instance )\n",
    "        \n",
    "        expectation_value = lambda x:exp_val.GetExpectation(\n",
    "            self.ansatz.bind_parameters( x ),\n",
    "            R=R,\n",
    "        ).real\n",
    "        \n",
    "        results = optimizer.minimize( expectation_value , self.initial_point )\n",
    "        return results\n",
    "    \n",
    "    def compute_minimum_eigenvalue_ours(self, operator):\n",
    "\n",
    "        \n",
    "        def exp_val_vqe(state, operator):\n",
    "            \n",
    "            coeffs, obs = get_obs_data(operator)\n",
    "            algorithm = ExpVal(n_shots = 100000,\n",
    "                    bodies = bodies, \n",
    "                    r = 4, \n",
    "                    r_shots = 1000,\n",
    "                    n_qubits = n_qubits)\n",
    "            \n",
    "            algorithm.get_interferences(state)\n",
    "            exp_val_paulis = algorithm.exp_val(obs)\n",
    "            expectation_value = np.sum(exp_val_paulis*coeffs).real\n",
    "            \n",
    "            print(expectation_value)\n",
    "            \n",
    "            return expectation_value\n",
    "        \n",
    "        \n",
    "        expectation_value = lambda x: exp_val_vqe(self.ansatz.bind_parameters(x), operator).real\n",
    "        \n",
    "        results = optimizer.minimize( expectation_value , self.initial_point )\n",
    "        return results"
   ]
  },
  {
   "cell_type": "code",
   "execution_count": 12,
   "id": "a8d1e527",
   "metadata": {
    "ExecuteTime": {
     "end_time": "2023-02-27T20:45:01.124960Z",
     "start_time": "2023-02-27T20:45:01.109410Z"
    }
   },
   "outputs": [],
   "source": [
    "from qiskit.circuit.library import EfficientSU2\n",
    "from qiskit.algorithms.optimizers import SPSA, COBYLA\n",
    "\n",
    "from qiskit_nature.second_q.circuit.library import UCC, UCCSD, HartreeFock\n",
    "\n",
    "\n",
    "\n",
    "# ansatz = EfficientSU2(num_qubits=hamiltonian.num_qubits,\n",
    "#                      reps = 1,\n",
    "#                      entanglement = \"linear\",\n",
    "#                      )\n",
    "\n",
    "ansatz = UCCSD()\n",
    "ansatz.num_particles = problem.num_particles\n",
    "ansatz.num_spatial_orbitals = problem.num_spatial_orbitals\n",
    "ansatz.qubit_converter = converter\n",
    "\n",
    "initial_state = HartreeFock()\n",
    "initial_state.num_particles = problem.num_particles\n",
    "initial_state.num_spatial_orbitals = problem.num_spatial_orbitals\n",
    "initial_state.qubit_converter = converter\n",
    "ansatz.initial_state = initial_state"
   ]
  },
  {
   "cell_type": "code",
   "execution_count": 13,
   "id": "a2de0adb",
   "metadata": {
    "ExecuteTime": {
     "end_time": "2023-02-27T20:45:01.142412Z",
     "start_time": "2023-02-27T20:45:01.126671Z"
    }
   },
   "outputs": [],
   "source": [
    "initial_point = np.random.randn( ansatz.num_parameters )"
   ]
  },
  {
   "cell_type": "code",
   "execution_count": 14,
   "id": "1c85a4c7",
   "metadata": {
    "ExecuteTime": {
     "end_time": "2023-02-27T20:45:01.147424Z",
     "start_time": "2023-02-27T20:45:01.144296Z"
    }
   },
   "outputs": [],
   "source": [
    "optimizer = COBYLA(maxiter=100)"
   ]
  },
  {
   "cell_type": "code",
   "execution_count": 15,
   "id": "a9f6375d",
   "metadata": {
    "ExecuteTime": {
     "end_time": "2023-02-27T20:45:01.303194Z",
     "start_time": "2023-02-27T20:45:01.149213Z"
    }
   },
   "outputs": [],
   "source": [
    "from qiskit import Aer, QuantumCircuit, QuantumRegister, ClassicalRegister\n",
    "from qiskit.utils import QuantumInstance\n",
    "import qiskit.opflow as of\n",
    "from functools import reduce\n",
    "\n",
    "quantum_instance = QuantumInstance( Aer.get_backend(\"qasm_simulator\") , shots=100000)\n",
    "\n",
    "vqe_try = OurVQE(initial_point=initial_point,\n",
    "                ansatz = ansatz,\n",
    "                optimizer = optimizer,\n",
    "                quantum_instance=quantum_instance)"
   ]
  },
  {
   "cell_type": "code",
   "execution_count": 16,
   "id": "8d5dde8e",
   "metadata": {
    "ExecuteTime": {
     "end_time": "2023-02-27T20:45:01.310207Z",
     "start_time": "2023-02-27T20:45:01.305371Z"
    }
   },
   "outputs": [
    {
     "data": {
      "text/plain": [
       "-1.630327541152621"
      ]
     },
     "execution_count": 16,
     "metadata": {},
     "output_type": "execute_result"
    }
   ],
   "source": [
    "eig_gs"
   ]
  },
  {
   "cell_type": "code",
   "execution_count": 17,
   "id": "1f5bfe96",
   "metadata": {
    "ExecuteTime": {
     "end_time": "2023-02-27T20:47:08.147536Z",
     "start_time": "2023-02-27T20:45:01.311847Z"
    }
   },
   "outputs": [
    {
     "name": "stdout",
     "output_type": "stream",
     "text": [
      "-1.074590001177982\n",
      "-0.9963072196097014\n",
      "-1.3216249013539159\n",
      "-1.0087311704620887\n",
      "-1.0493059203074617\n",
      "-1.1603838291924042\n",
      "-1.3392893068215568\n",
      "-1.1337297911919357\n",
      "-1.4321920186223902\n",
      "-1.398424446501482\n",
      "-1.516257977435892\n",
      "-1.6061313053072834\n",
      "-1.6193318649289068\n",
      "-1.5511323790730076\n",
      "-1.6270391484622184\n",
      "-1.5367808516961845\n",
      "-1.6300048187360014\n",
      "-1.626431959016847\n",
      "-1.6183532756034267\n",
      "-1.6264746962992414\n",
      "-1.6294475228827432\n",
      "-1.6303912411386248\n",
      "-1.631243686484861\n",
      "-1.6317406917915966\n",
      "-1.628868236297998\n",
      "-1.6329808548621871\n",
      "-1.6296965626157527\n",
      "-1.6291010590775403\n",
      "-1.6289440272492872\n",
      "-1.6304505763968156\n",
      "-1.6318684798774785\n",
      "-1.6307343211701537\n",
      "-1.6303976167518208\n",
      "-1.631286752987932\n",
      "-1.6286350430903989\n",
      "-1.629415083816966\n",
      "-1.6306406370509599\n",
      "-1.6306273900339836\n",
      "-1.6323970259434628\n",
      "-1.6313472204361934\n",
      "-1.6314340519944168\n",
      "-1.6316190963497026\n",
      "-1.6307509065236718\n",
      "-1.6285080259173637\n"
     ]
    },
    {
     "data": {
      "text/plain": [
       "-1.6285080259173637"
      ]
     },
     "execution_count": 17,
     "metadata": {},
     "output_type": "execute_result"
    }
   ],
   "source": [
    "result_ours = vqe_try.compute_minimum_eigenvalue_ours( hamiltonian )\n",
    "\n",
    "result_ours.fun"
   ]
  },
  {
   "cell_type": "code",
   "execution_count": 18,
   "id": "5cf31838",
   "metadata": {
    "ExecuteTime": {
     "end_time": "2023-02-27T20:48:48.521452Z",
     "start_time": "2023-02-27T20:47:08.149544Z"
    }
   },
   "outputs": [
    {
     "name": "stdout",
     "output_type": "stream",
     "text": [
      "(-0.9772310492032168+0j)\n",
      "(-1.0443337982682868+0j)\n",
      "(-1.0717849059022382+0j)\n",
      "(-0.9823556498774259+0j)\n",
      "(-1.0933282171030083+0j)\n",
      "(-1.1546246509899847+0j)\n",
      "(-0.8258023783989255+0j)\n",
      "(-0.7446554890569403+0j)\n",
      "(-1.2786684618843593+0j)\n",
      "(-1.402981856709562+0j)\n",
      "(-1.4236459482951207+0j)\n",
      "(-1.4005665709459638+0j)\n",
      "(-1.3635896508774246+0j)\n",
      "(-1.494144058951014+0j)\n",
      "(-1.5690650941797135+0j)\n",
      "(-1.545193218367299+0j)\n",
      "(-1.5390546621964245+0j)\n",
      "(-1.5071031149584617+0j)\n",
      "(-1.5818200225417618+0j)\n",
      "(-1.5337818895577424+0j)\n",
      "(-1.607655994842777+0j)\n",
      "(-1.600020953346244+0j)\n",
      "(-1.5673177545773131+0j)\n",
      "(-1.5878154372842563+0j)\n",
      "(-1.5656400258419563+0j)\n",
      "(-1.602408319652216+0j)\n",
      "(-1.5731998886144345+0j)\n",
      "(-1.5602507798779008+0j)\n",
      "(-1.5696531709952721+0j)\n",
      "(-1.5673651115876495+0j)\n",
      "(-1.568476333716189+0j)\n",
      "(-1.608144381613712+0j)\n",
      "(-1.5720230443724326+0j)\n",
      "(-1.5699884006491336+0j)\n",
      "(-1.5717436823869644+0j)\n",
      "(-1.570171073974853+0j)\n",
      "(-1.5700966894069721+0j)\n",
      "(-1.570768615546543+0j)\n",
      "(-1.5701255310593145+0j)\n",
      "(-1.5705662241034946+0j)\n",
      "(-1.6076277876655574+0j)\n",
      "(-1.583791302611557+0j)\n",
      "(-1.6079667845899763+0j)\n",
      "(-1.5713306571259495+0j)\n",
      "(-1.5707093330145463+0j)\n",
      "(-1.5704960442036318+0j)\n",
      "(-1.5709128584810224+0j)\n"
     ]
    },
    {
     "data": {
      "text/plain": [
       "-1.5709128584810224"
      ]
     },
     "execution_count": 18,
     "metadata": {},
     "output_type": "execute_result"
    }
   ],
   "source": [
    "result = vqe_try.compute_minimum_eigenvalue( hamiltonian,\n",
    "                                            exp_val= BasisSamplingExpectation, R=4)\n",
    "result.fun"
   ]
  },
  {
   "cell_type": "code",
   "execution_count": 19,
   "id": "bbff2193",
   "metadata": {
    "ExecuteTime": {
     "end_time": "2023-02-27T20:50:30.695280Z",
     "start_time": "2023-02-27T20:48:48.523943Z"
    }
   },
   "outputs": [
    {
     "data": {
      "text/plain": [
       "(-1.6296522548386432+0j)"
      ]
     },
     "execution_count": 19,
     "metadata": {},
     "output_type": "execute_result"
    }
   ],
   "source": [
    "from qiskit.algorithms import VQE\n",
    "\n",
    "backend = Aer.get_backend(\"qasm_simulator\")\n",
    "quantum_instance = QuantumInstance(backend, shots=300000)\n",
    "\n",
    "\n",
    "vqe = VQE(ansatz, optimizer=optimizer, quantum_instance=quantum_instance)\n",
    "\n",
    "result = vqe.compute_minimum_eigenvalue(hamiltonian)\n",
    "\n",
    "result.eigenvalue"
   ]
  }
 ],
 "metadata": {
  "hide_input": false,
  "kernelspec": {
   "display_name": "Python 3 (ipykernel)",
   "language": "python",
   "name": "python3"
  },
  "language_info": {
   "codemirror_mode": {
    "name": "ipython",
    "version": 3
   },
   "file_extension": ".py",
   "mimetype": "text/x-python",
   "name": "python",
   "nbconvert_exporter": "python",
   "pygments_lexer": "ipython3",
   "version": "3.9.16"
  }
 },
 "nbformat": 4,
 "nbformat_minor": 5
}
